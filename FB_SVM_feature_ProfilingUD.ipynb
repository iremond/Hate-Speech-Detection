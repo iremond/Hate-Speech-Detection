{
 "cells": [
  {
   "cell_type": "code",
   "execution_count": 1,
   "metadata": {},
   "outputs": [],
   "source": [
    "import pandas as pd\n",
    "import numpy as np"
   ]
  },
  {
   "attachments": {},
   "cell_type": "markdown",
   "metadata": {},
   "source": [
    "# Caricamento dataset ottenuto da ProfilingUD"
   ]
  },
  {
   "cell_type": "code",
   "execution_count": 2,
   "metadata": {},
   "outputs": [],
   "source": [
    "df = pd.read_csv('6918.csv', sep='\\t')"
   ]
  },
  {
   "cell_type": "code",
   "execution_count": 3,
   "metadata": {},
   "outputs": [
    {
     "data": {
      "text/html": [
       "<div>\n",
       "<style scoped>\n",
       "    .dataframe tbody tr th:only-of-type {\n",
       "        vertical-align: middle;\n",
       "    }\n",
       "\n",
       "    .dataframe tbody tr th {\n",
       "        vertical-align: top;\n",
       "    }\n",
       "\n",
       "    .dataframe thead th {\n",
       "        text-align: right;\n",
       "    }\n",
       "</style>\n",
       "<table border=\"1\" class=\"dataframe\">\n",
       "  <thead>\n",
       "    <tr style=\"text-align: right;\">\n",
       "      <th></th>\n",
       "      <th>Filename</th>\n",
       "      <th>n_sentences</th>\n",
       "      <th>n_tokens</th>\n",
       "      <th>tokens_per_sent</th>\n",
       "      <th>char_per_tok</th>\n",
       "      <th>ttr_lemma_chunks_100</th>\n",
       "      <th>ttr_form_chunks_100</th>\n",
       "      <th>upos_dist_ADJ</th>\n",
       "      <th>upos_dist_ADP</th>\n",
       "      <th>upos_dist_ADV</th>\n",
       "      <th>...</th>\n",
       "      <th>principal_proposition_dist</th>\n",
       "      <th>subordinate_proposition_dist</th>\n",
       "      <th>subordinate_post</th>\n",
       "      <th>subordinate_pre</th>\n",
       "      <th>avg_subordinate_chain_len</th>\n",
       "      <th>subordinate_dist_1</th>\n",
       "      <th>subordinate_dist_2</th>\n",
       "      <th>subordinate_dist_3</th>\n",
       "      <th>subordinate_dist_4</th>\n",
       "      <th>subordinate_dist_5</th>\n",
       "    </tr>\n",
       "  </thead>\n",
       "  <tbody>\n",
       "    <tr>\n",
       "      <th>0</th>\n",
       "      <td>FB_profilingUD_input/2186-train-0-.conllu</td>\n",
       "      <td>1</td>\n",
       "      <td>5</td>\n",
       "      <td>5.0</td>\n",
       "      <td>2.400000</td>\n",
       "      <td>0.0</td>\n",
       "      <td>0.0</td>\n",
       "      <td>20.000000</td>\n",
       "      <td>20.000000</td>\n",
       "      <td>0.000000</td>\n",
       "      <td>...</td>\n",
       "      <td>0.000000</td>\n",
       "      <td>0.000000</td>\n",
       "      <td>0.0</td>\n",
       "      <td>0.0</td>\n",
       "      <td>0.00</td>\n",
       "      <td>0.0</td>\n",
       "      <td>0.0</td>\n",
       "      <td>0.0</td>\n",
       "      <td>0.0</td>\n",
       "      <td>0.0</td>\n",
       "    </tr>\n",
       "    <tr>\n",
       "      <th>1</th>\n",
       "      <td>FB_profilingUD_input/738-train-0-.conllu</td>\n",
       "      <td>2</td>\n",
       "      <td>13</td>\n",
       "      <td>6.5</td>\n",
       "      <td>5.333333</td>\n",
       "      <td>0.0</td>\n",
       "      <td>0.0</td>\n",
       "      <td>0.000000</td>\n",
       "      <td>7.692308</td>\n",
       "      <td>23.076923</td>\n",
       "      <td>...</td>\n",
       "      <td>50.000000</td>\n",
       "      <td>50.000000</td>\n",
       "      <td>100.0</td>\n",
       "      <td>0.0</td>\n",
       "      <td>1.00</td>\n",
       "      <td>100.0</td>\n",
       "      <td>0.0</td>\n",
       "      <td>0.0</td>\n",
       "      <td>0.0</td>\n",
       "      <td>0.0</td>\n",
       "    </tr>\n",
       "    <tr>\n",
       "      <th>2</th>\n",
       "      <td>FB_profilingUD_input/926-train-1-.conllu</td>\n",
       "      <td>2</td>\n",
       "      <td>22</td>\n",
       "      <td>11.0</td>\n",
       "      <td>4.142857</td>\n",
       "      <td>0.0</td>\n",
       "      <td>0.0</td>\n",
       "      <td>13.636364</td>\n",
       "      <td>13.636364</td>\n",
       "      <td>9.090909</td>\n",
       "      <td>...</td>\n",
       "      <td>100.000000</td>\n",
       "      <td>0.000000</td>\n",
       "      <td>0.0</td>\n",
       "      <td>0.0</td>\n",
       "      <td>0.00</td>\n",
       "      <td>0.0</td>\n",
       "      <td>0.0</td>\n",
       "      <td>0.0</td>\n",
       "      <td>0.0</td>\n",
       "      <td>0.0</td>\n",
       "    </tr>\n",
       "    <tr>\n",
       "      <th>3</th>\n",
       "      <td>FB_profilingUD_input/647-test-0-.conllu</td>\n",
       "      <td>1</td>\n",
       "      <td>8</td>\n",
       "      <td>8.0</td>\n",
       "      <td>4.125000</td>\n",
       "      <td>0.0</td>\n",
       "      <td>0.0</td>\n",
       "      <td>12.500000</td>\n",
       "      <td>0.000000</td>\n",
       "      <td>0.000000</td>\n",
       "      <td>...</td>\n",
       "      <td>100.000000</td>\n",
       "      <td>0.000000</td>\n",
       "      <td>0.0</td>\n",
       "      <td>0.0</td>\n",
       "      <td>0.00</td>\n",
       "      <td>0.0</td>\n",
       "      <td>0.0</td>\n",
       "      <td>0.0</td>\n",
       "      <td>0.0</td>\n",
       "      <td>0.0</td>\n",
       "    </tr>\n",
       "    <tr>\n",
       "      <th>4</th>\n",
       "      <td>FB_profilingUD_input/2210-train-0-.conllu</td>\n",
       "      <td>2</td>\n",
       "      <td>52</td>\n",
       "      <td>26.0</td>\n",
       "      <td>4.600000</td>\n",
       "      <td>0.0</td>\n",
       "      <td>0.0</td>\n",
       "      <td>3.846154</td>\n",
       "      <td>11.538462</td>\n",
       "      <td>7.692308</td>\n",
       "      <td>...</td>\n",
       "      <td>16.666667</td>\n",
       "      <td>83.333333</td>\n",
       "      <td>0.0</td>\n",
       "      <td>100.0</td>\n",
       "      <td>1.25</td>\n",
       "      <td>75.0</td>\n",
       "      <td>25.0</td>\n",
       "      <td>0.0</td>\n",
       "      <td>0.0</td>\n",
       "      <td>0.0</td>\n",
       "    </tr>\n",
       "  </tbody>\n",
       "</table>\n",
       "<p>5 rows × 137 columns</p>\n",
       "</div>"
      ],
      "text/plain": [
       "                                    Filename  n_sentences  n_tokens  \\\n",
       "0  FB_profilingUD_input/2186-train-0-.conllu            1         5   \n",
       "1   FB_profilingUD_input/738-train-0-.conllu            2        13   \n",
       "2   FB_profilingUD_input/926-train-1-.conllu            2        22   \n",
       "3    FB_profilingUD_input/647-test-0-.conllu            1         8   \n",
       "4  FB_profilingUD_input/2210-train-0-.conllu            2        52   \n",
       "\n",
       "   tokens_per_sent  char_per_tok  ttr_lemma_chunks_100  ttr_form_chunks_100  \\\n",
       "0              5.0      2.400000                   0.0                  0.0   \n",
       "1              6.5      5.333333                   0.0                  0.0   \n",
       "2             11.0      4.142857                   0.0                  0.0   \n",
       "3              8.0      4.125000                   0.0                  0.0   \n",
       "4             26.0      4.600000                   0.0                  0.0   \n",
       "\n",
       "   upos_dist_ADJ  upos_dist_ADP  upos_dist_ADV  ...  \\\n",
       "0      20.000000      20.000000       0.000000  ...   \n",
       "1       0.000000       7.692308      23.076923  ...   \n",
       "2      13.636364      13.636364       9.090909  ...   \n",
       "3      12.500000       0.000000       0.000000  ...   \n",
       "4       3.846154      11.538462       7.692308  ...   \n",
       "\n",
       "   principal_proposition_dist  subordinate_proposition_dist  subordinate_post  \\\n",
       "0                    0.000000                      0.000000               0.0   \n",
       "1                   50.000000                     50.000000             100.0   \n",
       "2                  100.000000                      0.000000               0.0   \n",
       "3                  100.000000                      0.000000               0.0   \n",
       "4                   16.666667                     83.333333               0.0   \n",
       "\n",
       "   subordinate_pre  avg_subordinate_chain_len  subordinate_dist_1  \\\n",
       "0              0.0                       0.00                 0.0   \n",
       "1              0.0                       1.00               100.0   \n",
       "2              0.0                       0.00                 0.0   \n",
       "3              0.0                       0.00                 0.0   \n",
       "4            100.0                       1.25                75.0   \n",
       "\n",
       "   subordinate_dist_2  subordinate_dist_3  subordinate_dist_4  \\\n",
       "0                 0.0                 0.0                 0.0   \n",
       "1                 0.0                 0.0                 0.0   \n",
       "2                 0.0                 0.0                 0.0   \n",
       "3                 0.0                 0.0                 0.0   \n",
       "4                25.0                 0.0                 0.0   \n",
       "\n",
       "   subordinate_dist_5  \n",
       "0                 0.0  \n",
       "1                 0.0  \n",
       "2                 0.0  \n",
       "3                 0.0  \n",
       "4                 0.0  \n",
       "\n",
       "[5 rows x 137 columns]"
      ]
     },
     "execution_count": 3,
     "metadata": {},
     "output_type": "execute_result"
    }
   ],
   "source": [
    "df.head()"
   ]
  },
  {
   "cell_type": "code",
   "execution_count": 4,
   "metadata": {},
   "outputs": [
    {
     "data": {
      "text/plain": [
       "(4000, 137)"
      ]
     },
     "execution_count": 4,
     "metadata": {},
     "output_type": "execute_result"
    }
   ],
   "source": [
    "df.shape"
   ]
  },
  {
   "attachments": {},
   "cell_type": "markdown",
   "metadata": {},
   "source": [
    "## Divisione in training e test set"
   ]
  },
  {
   "cell_type": "code",
   "execution_count": 5,
   "metadata": {},
   "outputs": [],
   "source": [
    "df_train = df[df['Filename'].str.contains(\"train\")]\n",
    "df_train = df_train.reset_index(drop=True)"
   ]
  },
  {
   "cell_type": "code",
   "execution_count": 6,
   "metadata": {},
   "outputs": [
    {
     "data": {
      "text/html": [
       "<div>\n",
       "<style scoped>\n",
       "    .dataframe tbody tr th:only-of-type {\n",
       "        vertical-align: middle;\n",
       "    }\n",
       "\n",
       "    .dataframe tbody tr th {\n",
       "        vertical-align: top;\n",
       "    }\n",
       "\n",
       "    .dataframe thead th {\n",
       "        text-align: right;\n",
       "    }\n",
       "</style>\n",
       "<table border=\"1\" class=\"dataframe\">\n",
       "  <thead>\n",
       "    <tr style=\"text-align: right;\">\n",
       "      <th></th>\n",
       "      <th>Filename</th>\n",
       "      <th>n_sentences</th>\n",
       "      <th>n_tokens</th>\n",
       "      <th>tokens_per_sent</th>\n",
       "      <th>char_per_tok</th>\n",
       "      <th>ttr_lemma_chunks_100</th>\n",
       "      <th>ttr_form_chunks_100</th>\n",
       "      <th>upos_dist_ADJ</th>\n",
       "      <th>upos_dist_ADP</th>\n",
       "      <th>upos_dist_ADV</th>\n",
       "      <th>...</th>\n",
       "      <th>principal_proposition_dist</th>\n",
       "      <th>subordinate_proposition_dist</th>\n",
       "      <th>subordinate_post</th>\n",
       "      <th>subordinate_pre</th>\n",
       "      <th>avg_subordinate_chain_len</th>\n",
       "      <th>subordinate_dist_1</th>\n",
       "      <th>subordinate_dist_2</th>\n",
       "      <th>subordinate_dist_3</th>\n",
       "      <th>subordinate_dist_4</th>\n",
       "      <th>subordinate_dist_5</th>\n",
       "    </tr>\n",
       "  </thead>\n",
       "  <tbody>\n",
       "    <tr>\n",
       "      <th>0</th>\n",
       "      <td>FB_profilingUD_input/2186-train-0-.conllu</td>\n",
       "      <td>1</td>\n",
       "      <td>5</td>\n",
       "      <td>5.0</td>\n",
       "      <td>2.400000</td>\n",
       "      <td>0.0</td>\n",
       "      <td>0.0</td>\n",
       "      <td>20.000000</td>\n",
       "      <td>20.000000</td>\n",
       "      <td>0.000000</td>\n",
       "      <td>...</td>\n",
       "      <td>0.000000</td>\n",
       "      <td>0.000000</td>\n",
       "      <td>0.0</td>\n",
       "      <td>0.0</td>\n",
       "      <td>0.00</td>\n",
       "      <td>0.0</td>\n",
       "      <td>0.0</td>\n",
       "      <td>0.0</td>\n",
       "      <td>0.0</td>\n",
       "      <td>0.0</td>\n",
       "    </tr>\n",
       "    <tr>\n",
       "      <th>1</th>\n",
       "      <td>FB_profilingUD_input/738-train-0-.conllu</td>\n",
       "      <td>2</td>\n",
       "      <td>13</td>\n",
       "      <td>6.5</td>\n",
       "      <td>5.333333</td>\n",
       "      <td>0.0</td>\n",
       "      <td>0.0</td>\n",
       "      <td>0.000000</td>\n",
       "      <td>7.692308</td>\n",
       "      <td>23.076923</td>\n",
       "      <td>...</td>\n",
       "      <td>50.000000</td>\n",
       "      <td>50.000000</td>\n",
       "      <td>100.0</td>\n",
       "      <td>0.0</td>\n",
       "      <td>1.00</td>\n",
       "      <td>100.0</td>\n",
       "      <td>0.0</td>\n",
       "      <td>0.0</td>\n",
       "      <td>0.0</td>\n",
       "      <td>0.0</td>\n",
       "    </tr>\n",
       "    <tr>\n",
       "      <th>2</th>\n",
       "      <td>FB_profilingUD_input/926-train-1-.conllu</td>\n",
       "      <td>2</td>\n",
       "      <td>22</td>\n",
       "      <td>11.0</td>\n",
       "      <td>4.142857</td>\n",
       "      <td>0.0</td>\n",
       "      <td>0.0</td>\n",
       "      <td>13.636364</td>\n",
       "      <td>13.636364</td>\n",
       "      <td>9.090909</td>\n",
       "      <td>...</td>\n",
       "      <td>100.000000</td>\n",
       "      <td>0.000000</td>\n",
       "      <td>0.0</td>\n",
       "      <td>0.0</td>\n",
       "      <td>0.00</td>\n",
       "      <td>0.0</td>\n",
       "      <td>0.0</td>\n",
       "      <td>0.0</td>\n",
       "      <td>0.0</td>\n",
       "      <td>0.0</td>\n",
       "    </tr>\n",
       "    <tr>\n",
       "      <th>3</th>\n",
       "      <td>FB_profilingUD_input/2210-train-0-.conllu</td>\n",
       "      <td>2</td>\n",
       "      <td>52</td>\n",
       "      <td>26.0</td>\n",
       "      <td>4.600000</td>\n",
       "      <td>0.0</td>\n",
       "      <td>0.0</td>\n",
       "      <td>3.846154</td>\n",
       "      <td>11.538462</td>\n",
       "      <td>7.692308</td>\n",
       "      <td>...</td>\n",
       "      <td>16.666667</td>\n",
       "      <td>83.333333</td>\n",
       "      <td>0.0</td>\n",
       "      <td>100.0</td>\n",
       "      <td>1.25</td>\n",
       "      <td>75.0</td>\n",
       "      <td>25.0</td>\n",
       "      <td>0.0</td>\n",
       "      <td>0.0</td>\n",
       "      <td>0.0</td>\n",
       "    </tr>\n",
       "    <tr>\n",
       "      <th>4</th>\n",
       "      <td>FB_profilingUD_input/1624-train-1-.conllu</td>\n",
       "      <td>1</td>\n",
       "      <td>4</td>\n",
       "      <td>4.0</td>\n",
       "      <td>5.750000</td>\n",
       "      <td>0.0</td>\n",
       "      <td>0.0</td>\n",
       "      <td>0.000000</td>\n",
       "      <td>25.000000</td>\n",
       "      <td>0.000000</td>\n",
       "      <td>...</td>\n",
       "      <td>100.000000</td>\n",
       "      <td>0.000000</td>\n",
       "      <td>0.0</td>\n",
       "      <td>0.0</td>\n",
       "      <td>0.00</td>\n",
       "      <td>0.0</td>\n",
       "      <td>0.0</td>\n",
       "      <td>0.0</td>\n",
       "      <td>0.0</td>\n",
       "      <td>0.0</td>\n",
       "    </tr>\n",
       "  </tbody>\n",
       "</table>\n",
       "<p>5 rows × 137 columns</p>\n",
       "</div>"
      ],
      "text/plain": [
       "                                    Filename  n_sentences  n_tokens  \\\n",
       "0  FB_profilingUD_input/2186-train-0-.conllu            1         5   \n",
       "1   FB_profilingUD_input/738-train-0-.conllu            2        13   \n",
       "2   FB_profilingUD_input/926-train-1-.conllu            2        22   \n",
       "3  FB_profilingUD_input/2210-train-0-.conllu            2        52   \n",
       "4  FB_profilingUD_input/1624-train-1-.conllu            1         4   \n",
       "\n",
       "   tokens_per_sent  char_per_tok  ttr_lemma_chunks_100  ttr_form_chunks_100  \\\n",
       "0              5.0      2.400000                   0.0                  0.0   \n",
       "1              6.5      5.333333                   0.0                  0.0   \n",
       "2             11.0      4.142857                   0.0                  0.0   \n",
       "3             26.0      4.600000                   0.0                  0.0   \n",
       "4              4.0      5.750000                   0.0                  0.0   \n",
       "\n",
       "   upos_dist_ADJ  upos_dist_ADP  upos_dist_ADV  ...  \\\n",
       "0      20.000000      20.000000       0.000000  ...   \n",
       "1       0.000000       7.692308      23.076923  ...   \n",
       "2      13.636364      13.636364       9.090909  ...   \n",
       "3       3.846154      11.538462       7.692308  ...   \n",
       "4       0.000000      25.000000       0.000000  ...   \n",
       "\n",
       "   principal_proposition_dist  subordinate_proposition_dist  subordinate_post  \\\n",
       "0                    0.000000                      0.000000               0.0   \n",
       "1                   50.000000                     50.000000             100.0   \n",
       "2                  100.000000                      0.000000               0.0   \n",
       "3                   16.666667                     83.333333               0.0   \n",
       "4                  100.000000                      0.000000               0.0   \n",
       "\n",
       "   subordinate_pre  avg_subordinate_chain_len  subordinate_dist_1  \\\n",
       "0              0.0                       0.00                 0.0   \n",
       "1              0.0                       1.00               100.0   \n",
       "2              0.0                       0.00                 0.0   \n",
       "3            100.0                       1.25                75.0   \n",
       "4              0.0                       0.00                 0.0   \n",
       "\n",
       "   subordinate_dist_2  subordinate_dist_3  subordinate_dist_4  \\\n",
       "0                 0.0                 0.0                 0.0   \n",
       "1                 0.0                 0.0                 0.0   \n",
       "2                 0.0                 0.0                 0.0   \n",
       "3                25.0                 0.0                 0.0   \n",
       "4                 0.0                 0.0                 0.0   \n",
       "\n",
       "   subordinate_dist_5  \n",
       "0                 0.0  \n",
       "1                 0.0  \n",
       "2                 0.0  \n",
       "3                 0.0  \n",
       "4                 0.0  \n",
       "\n",
       "[5 rows x 137 columns]"
      ]
     },
     "execution_count": 6,
     "metadata": {},
     "output_type": "execute_result"
    }
   ],
   "source": [
    "df_train.head()"
   ]
  },
  {
   "cell_type": "code",
   "execution_count": 7,
   "metadata": {},
   "outputs": [
    {
     "data": {
      "text/plain": [
       "(3000, 137)"
      ]
     },
     "execution_count": 7,
     "metadata": {},
     "output_type": "execute_result"
    }
   ],
   "source": [
    "df_train.shape"
   ]
  },
  {
   "cell_type": "code",
   "execution_count": 8,
   "metadata": {},
   "outputs": [],
   "source": [
    "df_test = df[df['Filename'].str.contains(\"test\")]\n",
    "df_test = df_test.reset_index(drop=True)"
   ]
  },
  {
   "cell_type": "code",
   "execution_count": 9,
   "metadata": {},
   "outputs": [
    {
     "data": {
      "text/html": [
       "<div>\n",
       "<style scoped>\n",
       "    .dataframe tbody tr th:only-of-type {\n",
       "        vertical-align: middle;\n",
       "    }\n",
       "\n",
       "    .dataframe tbody tr th {\n",
       "        vertical-align: top;\n",
       "    }\n",
       "\n",
       "    .dataframe thead th {\n",
       "        text-align: right;\n",
       "    }\n",
       "</style>\n",
       "<table border=\"1\" class=\"dataframe\">\n",
       "  <thead>\n",
       "    <tr style=\"text-align: right;\">\n",
       "      <th></th>\n",
       "      <th>Filename</th>\n",
       "      <th>n_sentences</th>\n",
       "      <th>n_tokens</th>\n",
       "      <th>tokens_per_sent</th>\n",
       "      <th>char_per_tok</th>\n",
       "      <th>ttr_lemma_chunks_100</th>\n",
       "      <th>ttr_form_chunks_100</th>\n",
       "      <th>upos_dist_ADJ</th>\n",
       "      <th>upos_dist_ADP</th>\n",
       "      <th>upos_dist_ADV</th>\n",
       "      <th>...</th>\n",
       "      <th>principal_proposition_dist</th>\n",
       "      <th>subordinate_proposition_dist</th>\n",
       "      <th>subordinate_post</th>\n",
       "      <th>subordinate_pre</th>\n",
       "      <th>avg_subordinate_chain_len</th>\n",
       "      <th>subordinate_dist_1</th>\n",
       "      <th>subordinate_dist_2</th>\n",
       "      <th>subordinate_dist_3</th>\n",
       "      <th>subordinate_dist_4</th>\n",
       "      <th>subordinate_dist_5</th>\n",
       "    </tr>\n",
       "  </thead>\n",
       "  <tbody>\n",
       "    <tr>\n",
       "      <th>0</th>\n",
       "      <td>FB_profilingUD_input/647-test-0-.conllu</td>\n",
       "      <td>1</td>\n",
       "      <td>8</td>\n",
       "      <td>8.0</td>\n",
       "      <td>4.125000</td>\n",
       "      <td>0.0</td>\n",
       "      <td>0.0</td>\n",
       "      <td>12.5</td>\n",
       "      <td>0.000000</td>\n",
       "      <td>0.000000</td>\n",
       "      <td>...</td>\n",
       "      <td>100.0</td>\n",
       "      <td>0.0</td>\n",
       "      <td>0.0</td>\n",
       "      <td>0.0</td>\n",
       "      <td>0.0</td>\n",
       "      <td>0.0</td>\n",
       "      <td>0.0</td>\n",
       "      <td>0.0</td>\n",
       "      <td>0.0</td>\n",
       "      <td>0.0</td>\n",
       "    </tr>\n",
       "    <tr>\n",
       "      <th>1</th>\n",
       "      <td>FB_profilingUD_input/673-test-1-.conllu</td>\n",
       "      <td>1</td>\n",
       "      <td>30</td>\n",
       "      <td>30.0</td>\n",
       "      <td>4.800000</td>\n",
       "      <td>0.0</td>\n",
       "      <td>0.0</td>\n",
       "      <td>10.0</td>\n",
       "      <td>3.333333</td>\n",
       "      <td>3.333333</td>\n",
       "      <td>...</td>\n",
       "      <td>20.0</td>\n",
       "      <td>80.0</td>\n",
       "      <td>100.0</td>\n",
       "      <td>0.0</td>\n",
       "      <td>1.0</td>\n",
       "      <td>100.0</td>\n",
       "      <td>0.0</td>\n",
       "      <td>0.0</td>\n",
       "      <td>0.0</td>\n",
       "      <td>0.0</td>\n",
       "    </tr>\n",
       "    <tr>\n",
       "      <th>2</th>\n",
       "      <td>FB_profilingUD_input/768-test-0-.conllu</td>\n",
       "      <td>1</td>\n",
       "      <td>2</td>\n",
       "      <td>2.0</td>\n",
       "      <td>3.500000</td>\n",
       "      <td>0.0</td>\n",
       "      <td>0.0</td>\n",
       "      <td>0.0</td>\n",
       "      <td>0.000000</td>\n",
       "      <td>0.000000</td>\n",
       "      <td>...</td>\n",
       "      <td>100.0</td>\n",
       "      <td>0.0</td>\n",
       "      <td>0.0</td>\n",
       "      <td>0.0</td>\n",
       "      <td>0.0</td>\n",
       "      <td>0.0</td>\n",
       "      <td>0.0</td>\n",
       "      <td>0.0</td>\n",
       "      <td>0.0</td>\n",
       "      <td>0.0</td>\n",
       "    </tr>\n",
       "    <tr>\n",
       "      <th>3</th>\n",
       "      <td>FB_profilingUD_input/339-test-0-.conllu</td>\n",
       "      <td>1</td>\n",
       "      <td>11</td>\n",
       "      <td>11.0</td>\n",
       "      <td>5.727273</td>\n",
       "      <td>0.0</td>\n",
       "      <td>0.0</td>\n",
       "      <td>0.0</td>\n",
       "      <td>0.000000</td>\n",
       "      <td>0.000000</td>\n",
       "      <td>...</td>\n",
       "      <td>0.0</td>\n",
       "      <td>0.0</td>\n",
       "      <td>0.0</td>\n",
       "      <td>0.0</td>\n",
       "      <td>0.0</td>\n",
       "      <td>0.0</td>\n",
       "      <td>0.0</td>\n",
       "      <td>0.0</td>\n",
       "      <td>0.0</td>\n",
       "      <td>0.0</td>\n",
       "    </tr>\n",
       "    <tr>\n",
       "      <th>4</th>\n",
       "      <td>FB_profilingUD_input/586-test-1-.conllu</td>\n",
       "      <td>2</td>\n",
       "      <td>33</td>\n",
       "      <td>16.5</td>\n",
       "      <td>4.062500</td>\n",
       "      <td>0.0</td>\n",
       "      <td>0.0</td>\n",
       "      <td>0.0</td>\n",
       "      <td>9.090909</td>\n",
       "      <td>9.090909</td>\n",
       "      <td>...</td>\n",
       "      <td>50.0</td>\n",
       "      <td>50.0</td>\n",
       "      <td>100.0</td>\n",
       "      <td>0.0</td>\n",
       "      <td>2.0</td>\n",
       "      <td>0.0</td>\n",
       "      <td>100.0</td>\n",
       "      <td>0.0</td>\n",
       "      <td>0.0</td>\n",
       "      <td>0.0</td>\n",
       "    </tr>\n",
       "  </tbody>\n",
       "</table>\n",
       "<p>5 rows × 137 columns</p>\n",
       "</div>"
      ],
      "text/plain": [
       "                                  Filename  n_sentences  n_tokens  \\\n",
       "0  FB_profilingUD_input/647-test-0-.conllu            1         8   \n",
       "1  FB_profilingUD_input/673-test-1-.conllu            1        30   \n",
       "2  FB_profilingUD_input/768-test-0-.conllu            1         2   \n",
       "3  FB_profilingUD_input/339-test-0-.conllu            1        11   \n",
       "4  FB_profilingUD_input/586-test-1-.conllu            2        33   \n",
       "\n",
       "   tokens_per_sent  char_per_tok  ttr_lemma_chunks_100  ttr_form_chunks_100  \\\n",
       "0              8.0      4.125000                   0.0                  0.0   \n",
       "1             30.0      4.800000                   0.0                  0.0   \n",
       "2              2.0      3.500000                   0.0                  0.0   \n",
       "3             11.0      5.727273                   0.0                  0.0   \n",
       "4             16.5      4.062500                   0.0                  0.0   \n",
       "\n",
       "   upos_dist_ADJ  upos_dist_ADP  upos_dist_ADV  ...  \\\n",
       "0           12.5       0.000000       0.000000  ...   \n",
       "1           10.0       3.333333       3.333333  ...   \n",
       "2            0.0       0.000000       0.000000  ...   \n",
       "3            0.0       0.000000       0.000000  ...   \n",
       "4            0.0       9.090909       9.090909  ...   \n",
       "\n",
       "   principal_proposition_dist  subordinate_proposition_dist  subordinate_post  \\\n",
       "0                       100.0                           0.0               0.0   \n",
       "1                        20.0                          80.0             100.0   \n",
       "2                       100.0                           0.0               0.0   \n",
       "3                         0.0                           0.0               0.0   \n",
       "4                        50.0                          50.0             100.0   \n",
       "\n",
       "   subordinate_pre  avg_subordinate_chain_len  subordinate_dist_1  \\\n",
       "0              0.0                        0.0                 0.0   \n",
       "1              0.0                        1.0               100.0   \n",
       "2              0.0                        0.0                 0.0   \n",
       "3              0.0                        0.0                 0.0   \n",
       "4              0.0                        2.0                 0.0   \n",
       "\n",
       "   subordinate_dist_2  subordinate_dist_3  subordinate_dist_4  \\\n",
       "0                 0.0                 0.0                 0.0   \n",
       "1                 0.0                 0.0                 0.0   \n",
       "2                 0.0                 0.0                 0.0   \n",
       "3                 0.0                 0.0                 0.0   \n",
       "4               100.0                 0.0                 0.0   \n",
       "\n",
       "   subordinate_dist_5  \n",
       "0                 0.0  \n",
       "1                 0.0  \n",
       "2                 0.0  \n",
       "3                 0.0  \n",
       "4                 0.0  \n",
       "\n",
       "[5 rows x 137 columns]"
      ]
     },
     "execution_count": 9,
     "metadata": {},
     "output_type": "execute_result"
    }
   ],
   "source": [
    "df_test.head()"
   ]
  },
  {
   "cell_type": "code",
   "execution_count": 10,
   "metadata": {},
   "outputs": [
    {
     "data": {
      "text/plain": [
       "(1000, 137)"
      ]
     },
     "execution_count": 10,
     "metadata": {},
     "output_type": "execute_result"
    }
   ],
   "source": [
    "df_test.shape"
   ]
  },
  {
   "attachments": {},
   "cell_type": "markdown",
   "metadata": {},
   "source": [
    "## Creazione delle liste di etichette"
   ]
  },
  {
   "cell_type": "code",
   "execution_count": 11,
   "metadata": {},
   "outputs": [],
   "source": [
    "y_train = [int(file_name.split('-')[2]) for file_name in df_train.Filename]\n",
    "y_test = [int(file_name.split('-')[2]) for file_name in df_test.Filename]"
   ]
  },
  {
   "cell_type": "code",
   "execution_count": 12,
   "metadata": {},
   "outputs": [
    {
     "data": {
      "text/plain": [
       "(3000, 1000)"
      ]
     },
     "execution_count": 12,
     "metadata": {},
     "output_type": "execute_result"
    }
   ],
   "source": [
    "len(y_train), len(y_test)"
   ]
  },
  {
   "cell_type": "code",
   "execution_count": 13,
   "metadata": {},
   "outputs": [],
   "source": [
    "df_train = df_train.drop(columns='Filename')"
   ]
  },
  {
   "cell_type": "code",
   "execution_count": 14,
   "metadata": {},
   "outputs": [
    {
     "data": {
      "text/html": [
       "<div>\n",
       "<style scoped>\n",
       "    .dataframe tbody tr th:only-of-type {\n",
       "        vertical-align: middle;\n",
       "    }\n",
       "\n",
       "    .dataframe tbody tr th {\n",
       "        vertical-align: top;\n",
       "    }\n",
       "\n",
       "    .dataframe thead th {\n",
       "        text-align: right;\n",
       "    }\n",
       "</style>\n",
       "<table border=\"1\" class=\"dataframe\">\n",
       "  <thead>\n",
       "    <tr style=\"text-align: right;\">\n",
       "      <th></th>\n",
       "      <th>n_sentences</th>\n",
       "      <th>n_tokens</th>\n",
       "      <th>tokens_per_sent</th>\n",
       "      <th>char_per_tok</th>\n",
       "      <th>ttr_lemma_chunks_100</th>\n",
       "      <th>ttr_form_chunks_100</th>\n",
       "      <th>upos_dist_ADJ</th>\n",
       "      <th>upos_dist_ADP</th>\n",
       "      <th>upos_dist_ADV</th>\n",
       "      <th>upos_dist_AUX</th>\n",
       "      <th>...</th>\n",
       "      <th>principal_proposition_dist</th>\n",
       "      <th>subordinate_proposition_dist</th>\n",
       "      <th>subordinate_post</th>\n",
       "      <th>subordinate_pre</th>\n",
       "      <th>avg_subordinate_chain_len</th>\n",
       "      <th>subordinate_dist_1</th>\n",
       "      <th>subordinate_dist_2</th>\n",
       "      <th>subordinate_dist_3</th>\n",
       "      <th>subordinate_dist_4</th>\n",
       "      <th>subordinate_dist_5</th>\n",
       "    </tr>\n",
       "  </thead>\n",
       "  <tbody>\n",
       "    <tr>\n",
       "      <th>0</th>\n",
       "      <td>1</td>\n",
       "      <td>5</td>\n",
       "      <td>5.0</td>\n",
       "      <td>2.400000</td>\n",
       "      <td>0.0</td>\n",
       "      <td>0.0</td>\n",
       "      <td>20.000000</td>\n",
       "      <td>20.000000</td>\n",
       "      <td>0.000000</td>\n",
       "      <td>0.000000</td>\n",
       "      <td>...</td>\n",
       "      <td>0.000000</td>\n",
       "      <td>0.000000</td>\n",
       "      <td>0.0</td>\n",
       "      <td>0.0</td>\n",
       "      <td>0.00</td>\n",
       "      <td>0.0</td>\n",
       "      <td>0.0</td>\n",
       "      <td>0.0</td>\n",
       "      <td>0.0</td>\n",
       "      <td>0.0</td>\n",
       "    </tr>\n",
       "    <tr>\n",
       "      <th>1</th>\n",
       "      <td>2</td>\n",
       "      <td>13</td>\n",
       "      <td>6.5</td>\n",
       "      <td>5.333333</td>\n",
       "      <td>0.0</td>\n",
       "      <td>0.0</td>\n",
       "      <td>0.000000</td>\n",
       "      <td>7.692308</td>\n",
       "      <td>23.076923</td>\n",
       "      <td>0.000000</td>\n",
       "      <td>...</td>\n",
       "      <td>50.000000</td>\n",
       "      <td>50.000000</td>\n",
       "      <td>100.0</td>\n",
       "      <td>0.0</td>\n",
       "      <td>1.00</td>\n",
       "      <td>100.0</td>\n",
       "      <td>0.0</td>\n",
       "      <td>0.0</td>\n",
       "      <td>0.0</td>\n",
       "      <td>0.0</td>\n",
       "    </tr>\n",
       "    <tr>\n",
       "      <th>2</th>\n",
       "      <td>2</td>\n",
       "      <td>22</td>\n",
       "      <td>11.0</td>\n",
       "      <td>4.142857</td>\n",
       "      <td>0.0</td>\n",
       "      <td>0.0</td>\n",
       "      <td>13.636364</td>\n",
       "      <td>13.636364</td>\n",
       "      <td>9.090909</td>\n",
       "      <td>4.545455</td>\n",
       "      <td>...</td>\n",
       "      <td>100.000000</td>\n",
       "      <td>0.000000</td>\n",
       "      <td>0.0</td>\n",
       "      <td>0.0</td>\n",
       "      <td>0.00</td>\n",
       "      <td>0.0</td>\n",
       "      <td>0.0</td>\n",
       "      <td>0.0</td>\n",
       "      <td>0.0</td>\n",
       "      <td>0.0</td>\n",
       "    </tr>\n",
       "    <tr>\n",
       "      <th>3</th>\n",
       "      <td>2</td>\n",
       "      <td>52</td>\n",
       "      <td>26.0</td>\n",
       "      <td>4.600000</td>\n",
       "      <td>0.0</td>\n",
       "      <td>0.0</td>\n",
       "      <td>3.846154</td>\n",
       "      <td>11.538462</td>\n",
       "      <td>7.692308</td>\n",
       "      <td>11.538462</td>\n",
       "      <td>...</td>\n",
       "      <td>16.666667</td>\n",
       "      <td>83.333333</td>\n",
       "      <td>0.0</td>\n",
       "      <td>100.0</td>\n",
       "      <td>1.25</td>\n",
       "      <td>75.0</td>\n",
       "      <td>25.0</td>\n",
       "      <td>0.0</td>\n",
       "      <td>0.0</td>\n",
       "      <td>0.0</td>\n",
       "    </tr>\n",
       "    <tr>\n",
       "      <th>4</th>\n",
       "      <td>1</td>\n",
       "      <td>4</td>\n",
       "      <td>4.0</td>\n",
       "      <td>5.750000</td>\n",
       "      <td>0.0</td>\n",
       "      <td>0.0</td>\n",
       "      <td>0.000000</td>\n",
       "      <td>25.000000</td>\n",
       "      <td>0.000000</td>\n",
       "      <td>0.000000</td>\n",
       "      <td>...</td>\n",
       "      <td>100.000000</td>\n",
       "      <td>0.000000</td>\n",
       "      <td>0.0</td>\n",
       "      <td>0.0</td>\n",
       "      <td>0.00</td>\n",
       "      <td>0.0</td>\n",
       "      <td>0.0</td>\n",
       "      <td>0.0</td>\n",
       "      <td>0.0</td>\n",
       "      <td>0.0</td>\n",
       "    </tr>\n",
       "  </tbody>\n",
       "</table>\n",
       "<p>5 rows × 136 columns</p>\n",
       "</div>"
      ],
      "text/plain": [
       "   n_sentences  n_tokens  tokens_per_sent  char_per_tok  ttr_lemma_chunks_100  \\\n",
       "0            1         5              5.0      2.400000                   0.0   \n",
       "1            2        13              6.5      5.333333                   0.0   \n",
       "2            2        22             11.0      4.142857                   0.0   \n",
       "3            2        52             26.0      4.600000                   0.0   \n",
       "4            1         4              4.0      5.750000                   0.0   \n",
       "\n",
       "   ttr_form_chunks_100  upos_dist_ADJ  upos_dist_ADP  upos_dist_ADV  \\\n",
       "0                  0.0      20.000000      20.000000       0.000000   \n",
       "1                  0.0       0.000000       7.692308      23.076923   \n",
       "2                  0.0      13.636364      13.636364       9.090909   \n",
       "3                  0.0       3.846154      11.538462       7.692308   \n",
       "4                  0.0       0.000000      25.000000       0.000000   \n",
       "\n",
       "   upos_dist_AUX  ...  principal_proposition_dist  \\\n",
       "0       0.000000  ...                    0.000000   \n",
       "1       0.000000  ...                   50.000000   \n",
       "2       4.545455  ...                  100.000000   \n",
       "3      11.538462  ...                   16.666667   \n",
       "4       0.000000  ...                  100.000000   \n",
       "\n",
       "   subordinate_proposition_dist  subordinate_post  subordinate_pre  \\\n",
       "0                      0.000000               0.0              0.0   \n",
       "1                     50.000000             100.0              0.0   \n",
       "2                      0.000000               0.0              0.0   \n",
       "3                     83.333333               0.0            100.0   \n",
       "4                      0.000000               0.0              0.0   \n",
       "\n",
       "   avg_subordinate_chain_len  subordinate_dist_1  subordinate_dist_2  \\\n",
       "0                       0.00                 0.0                 0.0   \n",
       "1                       1.00               100.0                 0.0   \n",
       "2                       0.00                 0.0                 0.0   \n",
       "3                       1.25                75.0                25.0   \n",
       "4                       0.00                 0.0                 0.0   \n",
       "\n",
       "   subordinate_dist_3  subordinate_dist_4  subordinate_dist_5  \n",
       "0                 0.0                 0.0                 0.0  \n",
       "1                 0.0                 0.0                 0.0  \n",
       "2                 0.0                 0.0                 0.0  \n",
       "3                 0.0                 0.0                 0.0  \n",
       "4                 0.0                 0.0                 0.0  \n",
       "\n",
       "[5 rows x 136 columns]"
      ]
     },
     "execution_count": 14,
     "metadata": {},
     "output_type": "execute_result"
    }
   ],
   "source": [
    "df_train.head()"
   ]
  },
  {
   "cell_type": "code",
   "execution_count": 15,
   "metadata": {},
   "outputs": [
    {
     "data": {
      "text/html": [
       "<div>\n",
       "<style scoped>\n",
       "    .dataframe tbody tr th:only-of-type {\n",
       "        vertical-align: middle;\n",
       "    }\n",
       "\n",
       "    .dataframe tbody tr th {\n",
       "        vertical-align: top;\n",
       "    }\n",
       "\n",
       "    .dataframe thead th {\n",
       "        text-align: right;\n",
       "    }\n",
       "</style>\n",
       "<table border=\"1\" class=\"dataframe\">\n",
       "  <thead>\n",
       "    <tr style=\"text-align: right;\">\n",
       "      <th></th>\n",
       "      <th>n_sentences</th>\n",
       "      <th>n_tokens</th>\n",
       "      <th>tokens_per_sent</th>\n",
       "      <th>char_per_tok</th>\n",
       "      <th>ttr_lemma_chunks_100</th>\n",
       "      <th>ttr_form_chunks_100</th>\n",
       "      <th>upos_dist_ADJ</th>\n",
       "      <th>upos_dist_ADP</th>\n",
       "      <th>upos_dist_ADV</th>\n",
       "      <th>upos_dist_AUX</th>\n",
       "      <th>...</th>\n",
       "      <th>principal_proposition_dist</th>\n",
       "      <th>subordinate_proposition_dist</th>\n",
       "      <th>subordinate_post</th>\n",
       "      <th>subordinate_pre</th>\n",
       "      <th>avg_subordinate_chain_len</th>\n",
       "      <th>subordinate_dist_1</th>\n",
       "      <th>subordinate_dist_2</th>\n",
       "      <th>subordinate_dist_3</th>\n",
       "      <th>subordinate_dist_4</th>\n",
       "      <th>subordinate_dist_5</th>\n",
       "    </tr>\n",
       "  </thead>\n",
       "  <tbody>\n",
       "    <tr>\n",
       "      <th>0</th>\n",
       "      <td>1</td>\n",
       "      <td>8</td>\n",
       "      <td>8.0</td>\n",
       "      <td>4.125000</td>\n",
       "      <td>0.0</td>\n",
       "      <td>0.0</td>\n",
       "      <td>12.5</td>\n",
       "      <td>0.000000</td>\n",
       "      <td>0.000000</td>\n",
       "      <td>0.000000</td>\n",
       "      <td>...</td>\n",
       "      <td>100.0</td>\n",
       "      <td>0.0</td>\n",
       "      <td>0.0</td>\n",
       "      <td>0.0</td>\n",
       "      <td>0.0</td>\n",
       "      <td>0.0</td>\n",
       "      <td>0.0</td>\n",
       "      <td>0.0</td>\n",
       "      <td>0.0</td>\n",
       "      <td>0.0</td>\n",
       "    </tr>\n",
       "    <tr>\n",
       "      <th>1</th>\n",
       "      <td>1</td>\n",
       "      <td>30</td>\n",
       "      <td>30.0</td>\n",
       "      <td>4.800000</td>\n",
       "      <td>0.0</td>\n",
       "      <td>0.0</td>\n",
       "      <td>10.0</td>\n",
       "      <td>3.333333</td>\n",
       "      <td>3.333333</td>\n",
       "      <td>6.666667</td>\n",
       "      <td>...</td>\n",
       "      <td>20.0</td>\n",
       "      <td>80.0</td>\n",
       "      <td>100.0</td>\n",
       "      <td>0.0</td>\n",
       "      <td>1.0</td>\n",
       "      <td>100.0</td>\n",
       "      <td>0.0</td>\n",
       "      <td>0.0</td>\n",
       "      <td>0.0</td>\n",
       "      <td>0.0</td>\n",
       "    </tr>\n",
       "    <tr>\n",
       "      <th>2</th>\n",
       "      <td>1</td>\n",
       "      <td>2</td>\n",
       "      <td>2.0</td>\n",
       "      <td>3.500000</td>\n",
       "      <td>0.0</td>\n",
       "      <td>0.0</td>\n",
       "      <td>0.0</td>\n",
       "      <td>0.000000</td>\n",
       "      <td>0.000000</td>\n",
       "      <td>50.000000</td>\n",
       "      <td>...</td>\n",
       "      <td>100.0</td>\n",
       "      <td>0.0</td>\n",
       "      <td>0.0</td>\n",
       "      <td>0.0</td>\n",
       "      <td>0.0</td>\n",
       "      <td>0.0</td>\n",
       "      <td>0.0</td>\n",
       "      <td>0.0</td>\n",
       "      <td>0.0</td>\n",
       "      <td>0.0</td>\n",
       "    </tr>\n",
       "    <tr>\n",
       "      <th>3</th>\n",
       "      <td>1</td>\n",
       "      <td>11</td>\n",
       "      <td>11.0</td>\n",
       "      <td>5.727273</td>\n",
       "      <td>0.0</td>\n",
       "      <td>0.0</td>\n",
       "      <td>0.0</td>\n",
       "      <td>0.000000</td>\n",
       "      <td>0.000000</td>\n",
       "      <td>0.000000</td>\n",
       "      <td>...</td>\n",
       "      <td>0.0</td>\n",
       "      <td>0.0</td>\n",
       "      <td>0.0</td>\n",
       "      <td>0.0</td>\n",
       "      <td>0.0</td>\n",
       "      <td>0.0</td>\n",
       "      <td>0.0</td>\n",
       "      <td>0.0</td>\n",
       "      <td>0.0</td>\n",
       "      <td>0.0</td>\n",
       "    </tr>\n",
       "    <tr>\n",
       "      <th>4</th>\n",
       "      <td>2</td>\n",
       "      <td>33</td>\n",
       "      <td>16.5</td>\n",
       "      <td>4.062500</td>\n",
       "      <td>0.0</td>\n",
       "      <td>0.0</td>\n",
       "      <td>0.0</td>\n",
       "      <td>9.090909</td>\n",
       "      <td>9.090909</td>\n",
       "      <td>0.000000</td>\n",
       "      <td>...</td>\n",
       "      <td>50.0</td>\n",
       "      <td>50.0</td>\n",
       "      <td>100.0</td>\n",
       "      <td>0.0</td>\n",
       "      <td>2.0</td>\n",
       "      <td>0.0</td>\n",
       "      <td>100.0</td>\n",
       "      <td>0.0</td>\n",
       "      <td>0.0</td>\n",
       "      <td>0.0</td>\n",
       "    </tr>\n",
       "  </tbody>\n",
       "</table>\n",
       "<p>5 rows × 136 columns</p>\n",
       "</div>"
      ],
      "text/plain": [
       "   n_sentences  n_tokens  tokens_per_sent  char_per_tok  ttr_lemma_chunks_100  \\\n",
       "0            1         8              8.0      4.125000                   0.0   \n",
       "1            1        30             30.0      4.800000                   0.0   \n",
       "2            1         2              2.0      3.500000                   0.0   \n",
       "3            1        11             11.0      5.727273                   0.0   \n",
       "4            2        33             16.5      4.062500                   0.0   \n",
       "\n",
       "   ttr_form_chunks_100  upos_dist_ADJ  upos_dist_ADP  upos_dist_ADV  \\\n",
       "0                  0.0           12.5       0.000000       0.000000   \n",
       "1                  0.0           10.0       3.333333       3.333333   \n",
       "2                  0.0            0.0       0.000000       0.000000   \n",
       "3                  0.0            0.0       0.000000       0.000000   \n",
       "4                  0.0            0.0       9.090909       9.090909   \n",
       "\n",
       "   upos_dist_AUX  ...  principal_proposition_dist  \\\n",
       "0       0.000000  ...                       100.0   \n",
       "1       6.666667  ...                        20.0   \n",
       "2      50.000000  ...                       100.0   \n",
       "3       0.000000  ...                         0.0   \n",
       "4       0.000000  ...                        50.0   \n",
       "\n",
       "   subordinate_proposition_dist  subordinate_post  subordinate_pre  \\\n",
       "0                           0.0               0.0              0.0   \n",
       "1                          80.0             100.0              0.0   \n",
       "2                           0.0               0.0              0.0   \n",
       "3                           0.0               0.0              0.0   \n",
       "4                          50.0             100.0              0.0   \n",
       "\n",
       "   avg_subordinate_chain_len  subordinate_dist_1  subordinate_dist_2  \\\n",
       "0                        0.0                 0.0                 0.0   \n",
       "1                        1.0               100.0                 0.0   \n",
       "2                        0.0                 0.0                 0.0   \n",
       "3                        0.0                 0.0                 0.0   \n",
       "4                        2.0                 0.0               100.0   \n",
       "\n",
       "   subordinate_dist_3  subordinate_dist_4  subordinate_dist_5  \n",
       "0                 0.0                 0.0                 0.0  \n",
       "1                 0.0                 0.0                 0.0  \n",
       "2                 0.0                 0.0                 0.0  \n",
       "3                 0.0                 0.0                 0.0  \n",
       "4                 0.0                 0.0                 0.0  \n",
       "\n",
       "[5 rows x 136 columns]"
      ]
     },
     "execution_count": 15,
     "metadata": {},
     "output_type": "execute_result"
    }
   ],
   "source": [
    "df_test = df_test.drop(columns='Filename')\n",
    "df_test.head()"
   ]
  },
  {
   "cell_type": "code",
   "execution_count": 16,
   "metadata": {},
   "outputs": [
    {
     "data": {
      "text/plain": [
       "array([dtype('int64'), dtype('float64')], dtype=object)"
      ]
     },
     "execution_count": 16,
     "metadata": {},
     "output_type": "execute_result"
    }
   ],
   "source": [
    "df_train.dtypes.unique()"
   ]
  },
  {
   "cell_type": "code",
   "execution_count": 17,
   "metadata": {},
   "outputs": [
    {
     "data": {
      "text/plain": [
       "array([dtype('int64'), dtype('float64')], dtype=object)"
      ]
     },
     "execution_count": 17,
     "metadata": {},
     "output_type": "execute_result"
    }
   ],
   "source": [
    "df_test.dtypes.unique()"
   ]
  },
  {
   "attachments": {},
   "cell_type": "markdown",
   "metadata": {},
   "source": [
    "# Normalizzazione"
   ]
  },
  {
   "cell_type": "code",
   "execution_count": 18,
   "metadata": {},
   "outputs": [],
   "source": [
    "from sklearn.preprocessing import MinMaxScaler"
   ]
  },
  {
   "cell_type": "code",
   "execution_count": 19,
   "metadata": {},
   "outputs": [],
   "source": [
    "scaler = MinMaxScaler()\n",
    "X_train = scaler.fit_transform(df_train)\n",
    "X_test = scaler.transform(df_test)"
   ]
  },
  {
   "attachments": {},
   "cell_type": "markdown",
   "metadata": {},
   "source": [
    "# Classificazione"
   ]
  },
  {
   "attachments": {},
   "cell_type": "markdown",
   "metadata": {},
   "source": [
    "## Model selection rispetto a C"
   ]
  },
  {
   "cell_type": "code",
   "execution_count": 20,
   "metadata": {},
   "outputs": [],
   "source": [
    "from sklearn.svm import LinearSVC\n",
    "from sklearn.model_selection import cross_validate, KFold, cross_val_predict\n",
    "from sklearn.metrics import classification_report, ConfusionMatrixDisplay, accuracy_score, f1_score\n",
    "\n",
    "import matplotlib.pyplot as plt"
   ]
  },
  {
   "cell_type": "code",
   "execution_count": 21,
   "metadata": {},
   "outputs": [],
   "source": [
    "splitter = KFold(n_splits=5, random_state=42, shuffle=True)"
   ]
  },
  {
   "cell_type": "code",
   "execution_count": 22,
   "metadata": {},
   "outputs": [
    {
     "data": {
      "text/html": [
       "<div>\n",
       "<style scoped>\n",
       "    .dataframe tbody tr th:only-of-type {\n",
       "        vertical-align: middle;\n",
       "    }\n",
       "\n",
       "    .dataframe tbody tr th {\n",
       "        vertical-align: top;\n",
       "    }\n",
       "\n",
       "    .dataframe thead th {\n",
       "        text-align: right;\n",
       "    }\n",
       "</style>\n",
       "<table border=\"1\" class=\"dataframe\">\n",
       "  <thead>\n",
       "    <tr style=\"text-align: right;\">\n",
       "      <th></th>\n",
       "      <th>C</th>\n",
       "    </tr>\n",
       "  </thead>\n",
       "  <tbody>\n",
       "    <tr>\n",
       "      <th>0</th>\n",
       "      <td>0.0001</td>\n",
       "    </tr>\n",
       "    <tr>\n",
       "      <th>1</th>\n",
       "      <td>0.0010</td>\n",
       "    </tr>\n",
       "    <tr>\n",
       "      <th>2</th>\n",
       "      <td>0.0100</td>\n",
       "    </tr>\n",
       "    <tr>\n",
       "      <th>3</th>\n",
       "      <td>0.1000</td>\n",
       "    </tr>\n",
       "    <tr>\n",
       "      <th>4</th>\n",
       "      <td>1.0000</td>\n",
       "    </tr>\n",
       "  </tbody>\n",
       "</table>\n",
       "</div>"
      ],
      "text/plain": [
       "        C\n",
       "0  0.0001\n",
       "1  0.0010\n",
       "2  0.0100\n",
       "3  0.1000\n",
       "4  1.0000"
      ]
     },
     "execution_count": 22,
     "metadata": {},
     "output_type": "execute_result"
    }
   ],
   "source": [
    "df = pd.DataFrame(np.array([0.0001, 0.001, 0.01, 0.1, 1]), columns = ['C'])\n",
    "df"
   ]
  },
  {
   "cell_type": "code",
   "execution_count": 23,
   "metadata": {},
   "outputs": [],
   "source": [
    "for i, c in enumerate(df['C']): # proviamo diversi valori dell'iperparametro regolarizzatore C\n",
    "    svc = LinearSVC(dual=False, C=c)\n",
    "    svc.fit(X_train, y_train) # addestriamo il modello con il valore di C da valutare\n",
    "    df.loc[i, 'training_accuracy'] = svc.score(X_train, y_train) # inseriamo l'accuracy di training ottenuta nel dataset\n",
    "    scores = cross_validate(svc, X_train, y_train, scoring='accuracy', cv=splitter) # effettuiamo la Cross Validation\n",
    "    df.loc[i, 'val_accuracy'] = scores['test_score'].mean()\n",
    "    df.loc[i, 'val_accuracy_std'] = scores['test_score'].std()"
   ]
  },
  {
   "cell_type": "code",
   "execution_count": 24,
   "metadata": {},
   "outputs": [
    {
     "data": {
      "text/html": [
       "<div>\n",
       "<style scoped>\n",
       "    .dataframe tbody tr th:only-of-type {\n",
       "        vertical-align: middle;\n",
       "    }\n",
       "\n",
       "    .dataframe tbody tr th {\n",
       "        vertical-align: top;\n",
       "    }\n",
       "\n",
       "    .dataframe thead th {\n",
       "        text-align: right;\n",
       "    }\n",
       "</style>\n",
       "<table border=\"1\" class=\"dataframe\">\n",
       "  <thead>\n",
       "    <tr style=\"text-align: right;\">\n",
       "      <th></th>\n",
       "      <th>C</th>\n",
       "      <th>training_accuracy</th>\n",
       "      <th>val_accuracy</th>\n",
       "      <th>val_accuracy_std</th>\n",
       "    </tr>\n",
       "  </thead>\n",
       "  <tbody>\n",
       "    <tr>\n",
       "      <th>0</th>\n",
       "      <td>0.0001</td>\n",
       "      <td>0.646667</td>\n",
       "      <td>0.640000</td>\n",
       "      <td>0.018348</td>\n",
       "    </tr>\n",
       "    <tr>\n",
       "      <th>1</th>\n",
       "      <td>0.0010</td>\n",
       "      <td>0.672667</td>\n",
       "      <td>0.660000</td>\n",
       "      <td>0.014832</td>\n",
       "    </tr>\n",
       "    <tr>\n",
       "      <th>2</th>\n",
       "      <td>0.0100</td>\n",
       "      <td>0.693667</td>\n",
       "      <td>0.682000</td>\n",
       "      <td>0.011709</td>\n",
       "    </tr>\n",
       "    <tr>\n",
       "      <th>3</th>\n",
       "      <td>0.1000</td>\n",
       "      <td>0.709667</td>\n",
       "      <td>0.687333</td>\n",
       "      <td>0.004422</td>\n",
       "    </tr>\n",
       "    <tr>\n",
       "      <th>4</th>\n",
       "      <td>1.0000</td>\n",
       "      <td>0.714000</td>\n",
       "      <td>0.684333</td>\n",
       "      <td>0.005925</td>\n",
       "    </tr>\n",
       "  </tbody>\n",
       "</table>\n",
       "</div>"
      ],
      "text/plain": [
       "        C  training_accuracy  val_accuracy  val_accuracy_std\n",
       "0  0.0001           0.646667      0.640000          0.018348\n",
       "1  0.0010           0.672667      0.660000          0.014832\n",
       "2  0.0100           0.693667      0.682000          0.011709\n",
       "3  0.1000           0.709667      0.687333          0.004422\n",
       "4  1.0000           0.714000      0.684333          0.005925"
      ]
     },
     "execution_count": 24,
     "metadata": {},
     "output_type": "execute_result"
    }
   ],
   "source": [
    "df"
   ]
  },
  {
   "cell_type": "code",
   "execution_count": 25,
   "metadata": {},
   "outputs": [
    {
     "data": {
      "image/png": "[encoded data removed]",
      "text/plain": [
       "<Figure size 640x480 with 1 Axes>"
      ]
     },
     "metadata": {},
     "output_type": "display_data"
    }
   ],
   "source": [
    "x_ticks = np.arange(len(df['C']))\n",
    "\n",
    "plt.plot(x_ticks, df['training_accuracy'], 'o-', label='Training Accuracy')\n",
    "plt.plot(x_ticks, df['val_accuracy'], 'o-', label='Validation Accuracy')\n",
    "\n",
    "plt.xlabel('C')\n",
    "plt.ylabel('Accuracy')\n",
    "\n",
    "plt.xticks(x_ticks, df['C'])  # Imposta gli etichette degli assi x con i valori di C\n",
    "plt.legend()\n",
    "plt.savefig('C_parameter.pdf', dpi=300, bbox_inches='tight')\n",
    "plt.show()"
   ]
  },
  {
   "attachments": {},
   "cell_type": "markdown",
   "metadata": {},
   "source": [
    "Il migliore valore di C è 0,1, in quanto ottiene l'accuracy più alta sul validation set: in particolare, ottiene 0.71 sul training set e 0.687 come media delle cinque fold di validation."
   ]
  },
  {
   "attachments": {},
   "cell_type": "markdown",
   "metadata": {},
   "source": [
    "Calcolo anche l'F1 score medio sulle 5 fold, addestrando un SVC direttamente con il valore di C selezionato."
   ]
  },
  {
   "cell_type": "code",
   "execution_count": 26,
   "metadata": {},
   "outputs": [
    {
     "data": {
      "text/plain": [
       "0.6489034936514321"
      ]
     },
     "execution_count": 26,
     "metadata": {},
     "output_type": "execute_result"
    }
   ],
   "source": [
    "best_SVC = LinearSVC(dual=False, C=0.1)\n",
    "best_SVC.fit(X_train, y_train)\n",
    "scores = cross_validate(best_SVC, X_train, y_train, scoring='f1', cv=splitter)\n",
    "scores['test_score'].mean()"
   ]
  },
  {
   "attachments": {},
   "cell_type": "markdown",
   "metadata": {},
   "source": [
    "L'F-1 score  medio è dello 0,649."
   ]
  },
  {
   "cell_type": "code",
   "execution_count": 27,
   "metadata": {},
   "outputs": [
    {
     "data": {
      "text/plain": [
       "0.011166891211490811"
      ]
     },
     "execution_count": 27,
     "metadata": {},
     "output_type": "execute_result"
    }
   ],
   "source": [
    "scores['test_score'].std()"
   ]
  },
  {
   "attachments": {},
   "cell_type": "markdown",
   "metadata": {},
   "source": [
    "# Valutazione sul test set"
   ]
  },
  {
   "cell_type": "code",
   "execution_count": 28,
   "metadata": {},
   "outputs": [
    {
     "name": "stdout",
     "output_type": "stream",
     "text": [
      "              precision    recall  f1-score   support\n",
      "\n",
      "           0       0.46      0.61      0.52       323\n",
      "           1       0.78      0.66      0.71       677\n",
      "\n",
      "    accuracy                           0.64      1000\n",
      "   macro avg       0.62      0.63      0.62      1000\n",
      "weighted avg       0.68      0.64      0.65      1000\n",
      "\n"
     ]
    }
   ],
   "source": [
    "y_test_pred = best_SVC.predict(X_test)\n",
    "print(classification_report(y_test, y_test_pred, zero_division=0))"
   ]
  },
  {
   "cell_type": "code",
   "execution_count": 29,
   "metadata": {},
   "outputs": [
    {
     "data": {
      "image/png": "[encoded data removed]",
      "text/plain": [
       "<Figure size 640x480 with 2 Axes>"
      ]
     },
     "metadata": {},
     "output_type": "display_data"
    }
   ],
   "source": [
    "plt.rcParams.update({'font.size': 18})\n",
    "ConfusionMatrixDisplay.from_predictions(y_test, y_test_pred, xticks_rotation='vertical', cmap='Blues', normalize='true')\n",
    "plt.xticks(fontsize=16)\n",
    "plt.yticks(fontsize=16)\n",
    "plt.xlabel('Etichetta predetta', fontsize=16)\n",
    "plt.ylabel('Etichetta reale', fontsize=16)\n",
    "plt.savefig('conf_matrix_SVC_profiling.pdf', dpi=300, bbox_inches='tight')\n",
    "plt.show()"
   ]
  },
  {
   "cell_type": "code",
   "execution_count": 30,
   "metadata": {},
   "outputs": [
    {
     "data": {
      "text/plain": [
       "0.643"
      ]
     },
     "execution_count": 30,
     "metadata": {},
     "output_type": "execute_result"
    }
   ],
   "source": [
    "accuracy_score(y_test_pred, y_test)"
   ]
  },
  {
   "attachments": {},
   "cell_type": "markdown",
   "metadata": {},
   "source": [
    "## Confronto con una baseline"
   ]
  },
  {
   "cell_type": "code",
   "execution_count": 31,
   "metadata": {},
   "outputs": [],
   "source": [
    "from sklearn.dummy import DummyClassifier"
   ]
  },
  {
   "cell_type": "code",
   "execution_count": 32,
   "metadata": {},
   "outputs": [],
   "source": [
    "dummy = DummyClassifier()"
   ]
  },
  {
   "cell_type": "code",
   "execution_count": 33,
   "metadata": {},
   "outputs": [
    {
     "data": {
      "text/plain": [
       "DummyClassifier()"
      ]
     },
     "execution_count": 33,
     "metadata": {},
     "output_type": "execute_result"
    }
   ],
   "source": [
    "dummy.fit(X_train, y_train)"
   ]
  },
  {
   "cell_type": "code",
   "execution_count": 34,
   "metadata": {},
   "outputs": [
    {
     "data": {
      "text/plain": [
       "0.5393333333333332"
      ]
     },
     "execution_count": 34,
     "metadata": {},
     "output_type": "execute_result"
    }
   ],
   "source": [
    "dummy_scores = cross_validate(dummy, X_train, y_train, scoring='accuracy', cv=splitter)\n",
    "dummy_scores['test_score'].mean()"
   ]
  },
  {
   "cell_type": "code",
   "execution_count": 35,
   "metadata": {},
   "outputs": [],
   "source": [
    "y_test_dummy = dummy.predict(X_test)"
   ]
  },
  {
   "cell_type": "code",
   "execution_count": 36,
   "metadata": {},
   "outputs": [
    {
     "data": {
      "text/plain": [
       "0.323"
      ]
     },
     "execution_count": 36,
     "metadata": {},
     "output_type": "execute_result"
    }
   ],
   "source": [
    "accuracy_score(y_test_dummy, y_test)"
   ]
  },
  {
   "attachments": {},
   "cell_type": "markdown",
   "metadata": {},
   "source": [
    "# Feature importance"
   ]
  },
  {
   "cell_type": "code",
   "execution_count": 37,
   "metadata": {},
   "outputs": [
    {
     "data": {
      "text/plain": [
       "array([0, 1])"
      ]
     },
     "execution_count": 37,
     "metadata": {},
     "output_type": "execute_result"
    }
   ],
   "source": [
    "svc.classes_"
   ]
  },
  {
   "cell_type": "code",
   "execution_count": 38,
   "metadata": {},
   "outputs": [
    {
     "data": {
      "text/plain": [
       "(1, 136)"
      ]
     },
     "execution_count": 38,
     "metadata": {},
     "output_type": "execute_result"
    }
   ],
   "source": [
    "coefs = svc.coef_\n",
    "coefs.shape"
   ]
  },
  {
   "attachments": {},
   "cell_type": "markdown",
   "metadata": {},
   "source": [
    "Essendo un task di classificazione binaria, svc.coef_ ha forma (1, n_features)."
   ]
  },
  {
   "cell_type": "code",
   "execution_count": 39,
   "metadata": {},
   "outputs": [
    {
     "data": {
      "text/plain": [
       "array([[ 1.64855013, -0.03771585,  0.32961229,  0.00704864, -0.43865979,\n",
       "        -0.41078737,  0.73575747,  0.294221  , -0.42837365,  0.16045549,\n",
       "        -0.49603479,  1.06218638, -0.60928259,  0.1900475 , -0.07126127,\n",
       "         0.04276914, -0.59898957,  0.44962878, -0.54630334, -0.76946959,\n",
       "         0.22249814, -0.25017983,  0.28133131, -0.18764171, -0.07547141,\n",
       "        -0.21611077,  0.13618448, -0.04665369,  0.1001611 , -0.030262  ,\n",
       "         0.00211686, -0.37968081, -0.32904873, -0.14209424, -0.17509939,\n",
       "         0.        , -0.18143259,  0.22796631,  0.27365217, -0.08934785,\n",
       "        -0.23141266,  0.0259369 , -0.5352526 ,  0.01147893, -0.49102769,\n",
       "        -0.1019933 , -0.20691835, -0.10846398, -0.12051773, -0.23583707,\n",
       "         0.25447694,  0.29372672, -0.01961477,  0.09682382, -0.21089522,\n",
       "        -0.03548335,  0.23355978, -0.20472097, -0.2027438 , -0.25145358,\n",
       "         0.2420915 , -0.14543635,  0.15477799,  0.27821116,  0.17127978,\n",
       "         0.28824839,  0.33442758,  0.33331399,  0.5440591 ,  0.04245042,\n",
       "         0.40719213,  0.22843038,  0.28667551, -0.2963409 ,  0.36602488,\n",
       "         0.09948662, -0.81027654,  0.06405937,  0.0952379 ,  0.01464157,\n",
       "         0.        ,  0.153483  ,  0.01915109,  0.0791237 ,  0.10774714,\n",
       "         0.44421561, -0.15790181,  0.49910233,  0.11717576, -0.33276283,\n",
       "        -0.11727309,  0.35857922, -0.14065765, -0.11265433,  0.1612202 ,\n",
       "        -0.66108174, -0.68767115,  0.67793714,  0.37511882, -0.55414731,\n",
       "        -0.41619149, -0.35183414, -0.25774516,  0.21295399, -0.81049312,\n",
       "        -0.74286543, -1.05200848,  0.38449089,  0.14292334, -0.56527128,\n",
       "        -0.21941916,  0.43211112,  0.44902754,  0.45533001,  0.64955632,\n",
       "        -0.34505994, -0.49788647,  1.21906653, -0.06152048, -0.13159528,\n",
       "         0.0719459 , -0.21075185, -0.3151673 , -0.22062205, -0.34517193,\n",
       "        -0.28676373,  0.06285764, -0.51849983,  0.30880899,  0.27531407,\n",
       "         0.93363481, -0.08186691, -0.30160419, -0.27048002,  0.3441591 ,\n",
       "         0.57543747]])"
      ]
     },
     "execution_count": 39,
     "metadata": {},
     "output_type": "execute_result"
    }
   ],
   "source": [
    "coefs"
   ]
  },
  {
   "cell_type": "code",
   "execution_count": 40,
   "metadata": {},
   "outputs": [],
   "source": [
    "features_names = df_train.columns"
   ]
  },
  {
   "cell_type": "code",
   "execution_count": 41,
   "metadata": {},
   "outputs": [
    {
     "data": {
      "text/plain": [
       "Index(['n_sentences', 'n_tokens', 'tokens_per_sent', 'char_per_tok',\n",
       "       'ttr_lemma_chunks_100', 'ttr_form_chunks_100', 'upos_dist_ADJ',\n",
       "       'upos_dist_ADP', 'upos_dist_ADV', 'upos_dist_AUX',\n",
       "       ...\n",
       "       'principal_proposition_dist', 'subordinate_proposition_dist',\n",
       "       'subordinate_post', 'subordinate_pre', 'avg_subordinate_chain_len',\n",
       "       'subordinate_dist_1', 'subordinate_dist_2', 'subordinate_dist_3',\n",
       "       'subordinate_dist_4', 'subordinate_dist_5'],\n",
       "      dtype='object', length=136)"
      ]
     },
     "execution_count": 41,
     "metadata": {},
     "output_type": "execute_result"
    }
   ],
   "source": [
    "features_names"
   ]
  },
  {
   "cell_type": "code",
   "execution_count": 42,
   "metadata": {},
   "outputs": [],
   "source": [
    "feature_importances = {feature_name: coef for feature_name, coef in zip(features_names, coefs[0])}"
   ]
  },
  {
   "cell_type": "code",
   "execution_count": 43,
   "metadata": {},
   "outputs": [
    {
     "data": {
      "text/plain": [
       "{'n_sentences': 1.6485501340288593,\n",
       " 'n_tokens': -0.03771585059997649,\n",
       " 'tokens_per_sent': 0.32961228513511837,\n",
       " 'char_per_tok': 0.007048636156835955,\n",
       " 'ttr_lemma_chunks_100': -0.43865979228516844,\n",
       " 'ttr_form_chunks_100': -0.41078737152682077,\n",
       " 'upos_dist_ADJ': 0.7357574691661758,\n",
       " 'upos_dist_ADP': 0.294221003926604,\n",
       " 'upos_dist_ADV': -0.4283736534001571,\n",
       " 'upos_dist_AUX': 0.1604554894668659,\n",
       " 'upos_dist_CCONJ': -0.49603478539200874,\n",
       " 'upos_dist_DET': 1.062186382825097,\n",
       " 'upos_dist_INTJ': -0.6092825926579967,\n",
       " 'upos_dist_NOUN': 0.19004750127070894,\n",
       " 'upos_dist_NUM': -0.0712612656001552,\n",
       " 'upos_dist_PRON': 0.042769139665843815,\n",
       " 'upos_dist_PROPN': -0.5989895708949909,\n",
       " 'upos_dist_PUNCT': 0.4496287777995029,\n",
       " 'upos_dist_SCONJ': -0.5463033355725553,\n",
       " 'upos_dist_SYM': -0.7694695856705459,\n",
       " 'upos_dist_VERB': 0.22249814094310788,\n",
       " 'upos_dist_X': -0.2501798321313151,\n",
       " 'lexical_density': 0.28133130587173144,\n",
       " 'verbs_tense_dist_Fut': -0.18764170748655354,\n",
       " 'verbs_tense_dist_Imp': -0.07547140720943404,\n",
       " 'verbs_tense_dist_Past': -0.21611076534256654,\n",
       " 'verbs_tense_dist_Pres': 0.13618447680692328,\n",
       " 'verbs_mood_dist_Cnd': -0.04665369089482405,\n",
       " 'verbs_mood_dist_Imp': 0.10016109657174738,\n",
       " 'verbs_mood_dist_Ind': -0.030261998538750976,\n",
       " 'verbs_mood_dist_Sub': 0.002116860256929598,\n",
       " 'verbs_form_dist_Fin': -0.37968081334778647,\n",
       " 'verbs_form_dist_Ger': -0.32904873245331473,\n",
       " 'verbs_form_dist_Inf': -0.1420942399413889,\n",
       " 'verbs_form_dist_Part': -0.1750993857281925,\n",
       " 'verbs_num_pers_dist_Plur+': 0.0,\n",
       " 'verbs_num_pers_dist_Plur+1': -0.18143258850667732,\n",
       " 'verbs_num_pers_dist_Plur+2': 0.22796630549308367,\n",
       " 'verbs_num_pers_dist_Plur+3': 0.2736521680710753,\n",
       " 'verbs_num_pers_dist_Sing+1': -0.0893478534486313,\n",
       " 'verbs_num_pers_dist_Sing+2': -0.23141266191353402,\n",
       " 'verbs_num_pers_dist_Sing+3': 0.025936897698866597,\n",
       " 'aux_tense_dist_Fut': -0.5352525962436567,\n",
       " 'aux_tense_dist_Imp': 0.011478927269629015,\n",
       " 'aux_tense_dist_Past': -0.491027685654862,\n",
       " 'aux_tense_dist_Pres': -0.101993297108776,\n",
       " 'aux_mood_dist_Cnd': -0.20691835434184086,\n",
       " 'aux_mood_dist_Imp': -0.10846398220756635,\n",
       " 'aux_mood_dist_Ind': -0.12051772912874201,\n",
       " 'aux_mood_dist_Sub': -0.235837068687542,\n",
       " 'aux_form_dist_Fin': 0.25447693989280773,\n",
       " 'aux_form_dist_Ger': 0.29372672404665745,\n",
       " 'aux_form_dist_Inf': -0.019614769971788563,\n",
       " 'aux_form_dist_Part': 0.09682382010731275,\n",
       " 'aux_num_pers_dist_Plur+1': -0.2108952227157079,\n",
       " 'aux_num_pers_dist_Plur+2': -0.03548335220045114,\n",
       " 'aux_num_pers_dist_Plur+3': 0.2335597829769592,\n",
       " 'aux_num_pers_dist_Sing+1': -0.2047209658646958,\n",
       " 'aux_num_pers_dist_Sing+2': -0.20274379824983887,\n",
       " 'aux_num_pers_dist_Sing+3': -0.2514535783110974,\n",
       " 'verbal_head_per_sent': 0.2420915032901018,\n",
       " 'verbal_root_perc': -0.14543634656803595,\n",
       " 'avg_verb_edges': 0.15477798946684965,\n",
       " 'verb_edges_dist_0': 0.27821116082677844,\n",
       " 'verb_edges_dist_1': 0.1712797826708025,\n",
       " 'verb_edges_dist_2': 0.2882483889756156,\n",
       " 'verb_edges_dist_3': 0.33442757923597255,\n",
       " 'verb_edges_dist_4': 0.33331398718021893,\n",
       " 'verb_edges_dist_5': 0.5440591016539582,\n",
       " 'verb_edges_dist_6': 0.04245042411172103,\n",
       " 'avg_max_depth': 0.4071921288548135,\n",
       " 'avg_token_per_clause': 0.22843038357544346,\n",
       " 'avg_max_links_len': 0.2866755102133201,\n",
       " 'avg_links_len': -0.29634089521312934,\n",
       " 'max_links_len': 0.3660248764020124,\n",
       " 'avg_prepositional_chain_len': 0.0994866242373128,\n",
       " 'n_prepositional_chains': -0.8102765364785595,\n",
       " 'prep_dist_1': 0.06405937168406454,\n",
       " 'prep_dist_2': 0.09523789898119613,\n",
       " 'prep_dist_3': 0.014641567688598875,\n",
       " 'prep_dist_4': 0.0,\n",
       " 'obj_pre': 0.15348300100283535,\n",
       " 'obj_post': 0.019151086966523578,\n",
       " 'subj_pre': 0.07912370469863012,\n",
       " 'subj_post': 0.10774713806847307,\n",
       " 'dep_dist_acl': 0.4442156063934148,\n",
       " 'dep_dist_acl:relcl': -0.15790180900855663,\n",
       " 'dep_dist_advcl': 0.49910233472982507,\n",
       " 'dep_dist_advmod': 0.11717576342187483,\n",
       " 'dep_dist_amod': -0.33276283154071223,\n",
       " 'dep_dist_appos': -0.11727308973296363,\n",
       " 'dep_dist_aux': 0.35857921828958683,\n",
       " 'dep_dist_aux:pass': -0.14065765316878476,\n",
       " 'dep_dist_case': -0.11265433440723699,\n",
       " 'dep_dist_cc': 0.16122019862657122,\n",
       " 'dep_dist_ccomp': -0.6610817446169592,\n",
       " 'dep_dist_compound': -0.6876711540890859,\n",
       " 'dep_dist_conj': 0.6779371357540999,\n",
       " 'dep_dist_cop': 0.37511882065608615,\n",
       " 'dep_dist_csubj': -0.5541473101025525,\n",
       " 'dep_dist_det': -0.4161914900378214,\n",
       " 'dep_dist_det:poss': -0.3518341406594679,\n",
       " 'dep_dist_det:predet': -0.2577451624128556,\n",
       " 'dep_dist_discourse': 0.21295399104846513,\n",
       " 'dep_dist_dislocated': -0.8104931219663316,\n",
       " 'dep_dist_expl': -0.7428654287055634,\n",
       " 'dep_dist_expl:impers': -1.0520084837006973,\n",
       " 'dep_dist_expl:pass': 0.3844908917513713,\n",
       " 'dep_dist_fixed': 0.14292333714760913,\n",
       " 'dep_dist_flat': -0.5652712816408507,\n",
       " 'dep_dist_flat:foreign': -0.21941915590151362,\n",
       " 'dep_dist_flat:name': 0.4321111249906156,\n",
       " 'dep_dist_iobj': 0.4490275358122492,\n",
       " 'dep_dist_mark': 0.4553300122700411,\n",
       " 'dep_dist_nmod': 0.6495563206263681,\n",
       " 'dep_dist_nsubj': -0.34505993739654806,\n",
       " 'dep_dist_nsubj:pass': -0.4978864730163939,\n",
       " 'dep_dist_nummod': 1.21906653404589,\n",
       " 'dep_dist_obj': -0.06152047846153559,\n",
       " 'dep_dist_obl': -0.13159528039876378,\n",
       " 'dep_dist_obl:agent': 0.07194590385177499,\n",
       " 'dep_dist_parataxis': -0.21075185304961191,\n",
       " 'dep_dist_punct': -0.3151672951870799,\n",
       " 'dep_dist_root': -0.22062205405568674,\n",
       " 'dep_dist_vocative': -0.3451719277706628,\n",
       " 'dep_dist_xcomp': -0.2867637338965359,\n",
       " 'principal_proposition_dist': 0.0628576414330027,\n",
       " 'subordinate_proposition_dist': -0.5184998320573351,\n",
       " 'subordinate_post': 0.3088089850233849,\n",
       " 'subordinate_pre': 0.2753140712228879,\n",
       " 'avg_subordinate_chain_len': 0.9336348085833844,\n",
       " 'subordinate_dist_1': -0.0818669075955957,\n",
       " 'subordinate_dist_2': -0.301604192311955,\n",
       " 'subordinate_dist_3': -0.27048001899032664,\n",
       " 'subordinate_dist_4': 0.3441590958691118,\n",
       " 'subordinate_dist_5': 0.575437467026227}"
      ]
     },
     "execution_count": 43,
     "metadata": {},
     "output_type": "execute_result"
    }
   ],
   "source": [
    "feature_importances"
   ]
  },
  {
   "cell_type": "code",
   "execution_count": 44,
   "metadata": {},
   "outputs": [],
   "source": [
    "sorted_feature_importances = dict(sorted(feature_importances.items(), key=lambda item: item[1], reverse=True))"
   ]
  },
  {
   "cell_type": "code",
   "execution_count": 45,
   "metadata": {},
   "outputs": [
    {
     "data": {
      "text/plain": [
       "{'n_sentences': 1.6485501340288593,\n",
       " 'dep_dist_nummod': 1.21906653404589,\n",
       " 'upos_dist_DET': 1.062186382825097,\n",
       " 'avg_subordinate_chain_len': 0.9336348085833844,\n",
       " 'upos_dist_ADJ': 0.7357574691661758,\n",
       " 'dep_dist_conj': 0.6779371357540999,\n",
       " 'dep_dist_nmod': 0.6495563206263681,\n",
       " 'subordinate_dist_5': 0.575437467026227,\n",
       " 'verb_edges_dist_5': 0.5440591016539582,\n",
       " 'dep_dist_advcl': 0.49910233472982507,\n",
       " 'dep_dist_mark': 0.4553300122700411,\n",
       " 'upos_dist_PUNCT': 0.4496287777995029,\n",
       " 'dep_dist_iobj': 0.4490275358122492,\n",
       " 'dep_dist_acl': 0.4442156063934148,\n",
       " 'dep_dist_flat:name': 0.4321111249906156,\n",
       " 'avg_max_depth': 0.4071921288548135,\n",
       " 'dep_dist_expl:pass': 0.3844908917513713,\n",
       " 'dep_dist_cop': 0.37511882065608615,\n",
       " 'max_links_len': 0.3660248764020124,\n",
       " 'dep_dist_aux': 0.35857921828958683,\n",
       " 'subordinate_dist_4': 0.3441590958691118,\n",
       " 'verb_edges_dist_3': 0.33442757923597255,\n",
       " 'verb_edges_dist_4': 0.33331398718021893,\n",
       " 'tokens_per_sent': 0.32961228513511837,\n",
       " 'subordinate_post': 0.3088089850233849,\n",
       " 'upos_dist_ADP': 0.294221003926604,\n",
       " 'aux_form_dist_Ger': 0.29372672404665745,\n",
       " 'verb_edges_dist_2': 0.2882483889756156,\n",
       " 'avg_max_links_len': 0.2866755102133201,\n",
       " 'lexical_density': 0.28133130587173144,\n",
       " 'verb_edges_dist_0': 0.27821116082677844,\n",
       " 'subordinate_pre': 0.2753140712228879,\n",
       " 'verbs_num_pers_dist_Plur+3': 0.2736521680710753,\n",
       " 'aux_form_dist_Fin': 0.25447693989280773,\n",
       " 'verbal_head_per_sent': 0.2420915032901018,\n",
       " 'aux_num_pers_dist_Plur+3': 0.2335597829769592,\n",
       " 'avg_token_per_clause': 0.22843038357544346,\n",
       " 'verbs_num_pers_dist_Plur+2': 0.22796630549308367,\n",
       " 'upos_dist_VERB': 0.22249814094310788,\n",
       " 'dep_dist_discourse': 0.21295399104846513,\n",
       " 'upos_dist_NOUN': 0.19004750127070894,\n",
       " 'verb_edges_dist_1': 0.1712797826708025,\n",
       " 'dep_dist_cc': 0.16122019862657122,\n",
       " 'upos_dist_AUX': 0.1604554894668659,\n",
       " 'avg_verb_edges': 0.15477798946684965,\n",
       " 'obj_pre': 0.15348300100283535,\n",
       " 'dep_dist_fixed': 0.14292333714760913,\n",
       " 'verbs_tense_dist_Pres': 0.13618447680692328,\n",
       " 'dep_dist_advmod': 0.11717576342187483,\n",
       " 'subj_post': 0.10774713806847307,\n",
       " 'verbs_mood_dist_Imp': 0.10016109657174738,\n",
       " 'avg_prepositional_chain_len': 0.0994866242373128,\n",
       " 'aux_form_dist_Part': 0.09682382010731275,\n",
       " 'prep_dist_2': 0.09523789898119613,\n",
       " 'subj_pre': 0.07912370469863012,\n",
       " 'dep_dist_obl:agent': 0.07194590385177499,\n",
       " 'prep_dist_1': 0.06405937168406454,\n",
       " 'principal_proposition_dist': 0.0628576414330027,\n",
       " 'upos_dist_PRON': 0.042769139665843815,\n",
       " 'verb_edges_dist_6': 0.04245042411172103,\n",
       " 'verbs_num_pers_dist_Sing+3': 0.025936897698866597,\n",
       " 'obj_post': 0.019151086966523578,\n",
       " 'prep_dist_3': 0.014641567688598875,\n",
       " 'aux_tense_dist_Imp': 0.011478927269629015,\n",
       " 'char_per_tok': 0.007048636156835955,\n",
       " 'verbs_mood_dist_Sub': 0.002116860256929598,\n",
       " 'verbs_num_pers_dist_Plur+': 0.0,\n",
       " 'prep_dist_4': 0.0,\n",
       " 'aux_form_dist_Inf': -0.019614769971788563,\n",
       " 'verbs_mood_dist_Ind': -0.030261998538750976,\n",
       " 'aux_num_pers_dist_Plur+2': -0.03548335220045114,\n",
       " 'n_tokens': -0.03771585059997649,\n",
       " 'verbs_mood_dist_Cnd': -0.04665369089482405,\n",
       " 'dep_dist_obj': -0.06152047846153559,\n",
       " 'upos_dist_NUM': -0.0712612656001552,\n",
       " 'verbs_tense_dist_Imp': -0.07547140720943404,\n",
       " 'subordinate_dist_1': -0.0818669075955957,\n",
       " 'verbs_num_pers_dist_Sing+1': -0.0893478534486313,\n",
       " 'aux_tense_dist_Pres': -0.101993297108776,\n",
       " 'aux_mood_dist_Imp': -0.10846398220756635,\n",
       " 'dep_dist_case': -0.11265433440723699,\n",
       " 'dep_dist_appos': -0.11727308973296363,\n",
       " 'aux_mood_dist_Ind': -0.12051772912874201,\n",
       " 'dep_dist_obl': -0.13159528039876378,\n",
       " 'dep_dist_aux:pass': -0.14065765316878476,\n",
       " 'verbs_form_dist_Inf': -0.1420942399413889,\n",
       " 'verbal_root_perc': -0.14543634656803595,\n",
       " 'dep_dist_acl:relcl': -0.15790180900855663,\n",
       " 'verbs_form_dist_Part': -0.1750993857281925,\n",
       " 'verbs_num_pers_dist_Plur+1': -0.18143258850667732,\n",
       " 'verbs_tense_dist_Fut': -0.18764170748655354,\n",
       " 'aux_num_pers_dist_Sing+2': -0.20274379824983887,\n",
       " 'aux_num_pers_dist_Sing+1': -0.2047209658646958,\n",
       " 'aux_mood_dist_Cnd': -0.20691835434184086,\n",
       " 'dep_dist_parataxis': -0.21075185304961191,\n",
       " 'aux_num_pers_dist_Plur+1': -0.2108952227157079,\n",
       " 'verbs_tense_dist_Past': -0.21611076534256654,\n",
       " 'dep_dist_flat:foreign': -0.21941915590151362,\n",
       " 'dep_dist_root': -0.22062205405568674,\n",
       " 'verbs_num_pers_dist_Sing+2': -0.23141266191353402,\n",
       " 'aux_mood_dist_Sub': -0.235837068687542,\n",
       " 'upos_dist_X': -0.2501798321313151,\n",
       " 'aux_num_pers_dist_Sing+3': -0.2514535783110974,\n",
       " 'dep_dist_det:predet': -0.2577451624128556,\n",
       " 'subordinate_dist_3': -0.27048001899032664,\n",
       " 'dep_dist_xcomp': -0.2867637338965359,\n",
       " 'avg_links_len': -0.29634089521312934,\n",
       " 'subordinate_dist_2': -0.301604192311955,\n",
       " 'dep_dist_punct': -0.3151672951870799,\n",
       " 'verbs_form_dist_Ger': -0.32904873245331473,\n",
       " 'dep_dist_amod': -0.33276283154071223,\n",
       " 'dep_dist_nsubj': -0.34505993739654806,\n",
       " 'dep_dist_vocative': -0.3451719277706628,\n",
       " 'dep_dist_det:poss': -0.3518341406594679,\n",
       " 'verbs_form_dist_Fin': -0.37968081334778647,\n",
       " 'ttr_form_chunks_100': -0.41078737152682077,\n",
       " 'dep_dist_det': -0.4161914900378214,\n",
       " 'upos_dist_ADV': -0.4283736534001571,\n",
       " 'ttr_lemma_chunks_100': -0.43865979228516844,\n",
       " 'aux_tense_dist_Past': -0.491027685654862,\n",
       " 'upos_dist_CCONJ': -0.49603478539200874,\n",
       " 'dep_dist_nsubj:pass': -0.4978864730163939,\n",
       " 'subordinate_proposition_dist': -0.5184998320573351,\n",
       " 'aux_tense_dist_Fut': -0.5352525962436567,\n",
       " 'upos_dist_SCONJ': -0.5463033355725553,\n",
       " 'dep_dist_csubj': -0.5541473101025525,\n",
       " 'dep_dist_flat': -0.5652712816408507,\n",
       " 'upos_dist_PROPN': -0.5989895708949909,\n",
       " 'upos_dist_INTJ': -0.6092825926579967,\n",
       " 'dep_dist_ccomp': -0.6610817446169592,\n",
       " 'dep_dist_compound': -0.6876711540890859,\n",
       " 'dep_dist_expl': -0.7428654287055634,\n",
       " 'upos_dist_SYM': -0.7694695856705459,\n",
       " 'n_prepositional_chains': -0.8102765364785595,\n",
       " 'dep_dist_dislocated': -0.8104931219663316,\n",
       " 'dep_dist_expl:impers': -1.0520084837006973}"
      ]
     },
     "execution_count": 45,
     "metadata": {},
     "output_type": "execute_result"
    }
   ],
   "source": [
    "sorted_feature_importances"
   ]
  },
  {
   "cell_type": "code",
   "execution_count": 46,
   "metadata": {},
   "outputs": [
    {
     "data": {
      "image/png": "[encoded data removed]",
      "text/plain": [
       "<Figure size 640x480 with 1 Axes>"
      ]
     },
     "metadata": {},
     "output_type": "display_data"
    }
   ],
   "source": [
    "num_to_plot = 15\n",
    "plt.rcParams.update({'font.size': 12})\n",
    "plt.barh(range(num_to_plot), list(sorted_feature_importances.values())[:num_to_plot])\n",
    "plt.yticks(range(num_to_plot), list(sorted_feature_importances.keys())[:num_to_plot])\n",
    "plt.xlabel('Importanza')\n",
    "plt.savefig('feature_importanti.pdf', dpi=300, bbox_inches='tight')\n",
    "plt.show()"
   ]
  },
  {
   "cell_type": "code",
   "execution_count": null,
   "metadata": {},
   "outputs": [],
   "source": []
  }
 ],
 "metadata": {
  "kernelspec": {
   "display_name": "base",
   "language": "python",
   "name": "python3"
  },
  "language_info": {
   "codemirror_mode": {
    "name": "ipython",
    "version": 3
   },
   "file_extension": ".py",
   "mimetype": "text/x-python",
   "name": "python",
   "nbconvert_exporter": "python",
   "pygments_lexer": "ipython3",
   "version": "3.9.7"
  },
  "orig_nbformat": 4
 },
 "nbformat": 4,
 "nbformat_minor": 2
}
