{
 "cells": [
  {
   "cell_type": "code",
   "execution_count": 1,
   "id": "4428f3fe-5501-4096-9c1b-f5588b5c3004",
   "metadata": {
    "tags": []
   },
   "outputs": [],
   "source": [
    "import os\n",
    "import pandas as pd\n",
    "import numpy as np\n",
    "import matplotlib.pyplot as plt"
   ]
  },
  {
   "attachments": {},
   "cell_type": "markdown",
   "id": "38f9077e-9449-402e-b412-7a3bc6eda01a",
   "metadata": {},
   "source": [
    "## Caricamento dataset"
   ]
  },
  {
   "cell_type": "code",
   "execution_count": 2,
   "id": "2187c07c-9e27-46d8-a7c9-0695dee82316",
   "metadata": {
    "tags": []
   },
   "outputs": [],
   "source": [
    "conllu_dir = 'FB_profilingUD_annotazione_linguistica' # cartella con i file .conllu, con l'annotazione linguistica"
   ]
  },
  {
   "attachments": {},
   "cell_type": "markdown",
   "id": "7e11633e",
   "metadata": {},
   "source": [
    "## Divisione in training e test set"
   ]
  },
  {
   "cell_type": "code",
   "execution_count": 3,
   "id": "d2558fcc-aaa5-4d24-9527-58c44ed9050a",
   "metadata": {
    "tags": []
   },
   "outputs": [
    {
     "name": "stdout",
     "output_type": "stream",
     "text": [
      "Documenti training set: 3000\n",
      "Documenti test set: 1000\n"
     ]
    }
   ],
   "source": [
    "train_files = []\n",
    "test_files = []\n",
    "\n",
    "for file_name in os.listdir(conllu_dir):\n",
    "    file_path = os.path.join(conllu_dir, file_name)\n",
    "    if 'train' in file_name:\n",
    "        train_files.append(file_path)\n",
    "    elif 'test' in file_name:\n",
    "        test_files.append(file_path)\n",
    "\n",
    "print('Documenti training set:', len(train_files))\n",
    "print('Documenti test set:', len(test_files))"
   ]
  },
  {
   "attachments": {},
   "cell_type": "markdown",
   "id": "3ba324e7-062d-49c4-be7f-d5dac5fa2990",
   "metadata": {},
   "source": [
    "## Lettura dei file .conllu"
   ]
  },
  {
   "cell_type": "code",
   "execution_count": 4,
   "id": "f2a17172-2215-48e0-a842-cfb53d70d8d5",
   "metadata": {
    "tags": []
   },
   "outputs": [],
   "source": [
    "def get_sentences_from_file(src_path):\n",
    "    file_sentences = [] # lista che conterrà tutte le frasi del file\n",
    "    sentence = []\n",
    "    for line in open(src_path, 'r'): # scorro il file riga per riga\n",
    "        if line[0].isdigit(): # se la riga inizia con un numero, cioè non siamo nell'intestazione del file\n",
    "            splitted_line = line.strip().split('\\t')\n",
    "            if '-' not in splitted_line[0]:  # se l'id della parola non contiene un trattino (= no prep. articolata)\n",
    "                token = {'word': splitted_line[1], 'lemma': splitted_line[2], 'pos': splitted_line[3]}\n",
    "                sentence.append(token)\n",
    "        if line == '\\n':  # se la riga è vuota significa che la frase è finita\n",
    "            file_sentences.append(sentence) # inserisco la frase nella lista di frasi di quel file\n",
    "            sentence = []\n",
    "    return file_sentences"
   ]
  },
  {
   "cell_type": "code",
   "execution_count": 5,
   "id": "944b3260-326f-413a-bfe6-7180dc3d4295",
   "metadata": {
    "tags": []
   },
   "outputs": [],
   "source": [
    "train_dataset = []\n",
    "y_train = []\n",
    "for file_path in train_files: # per ogni documento di training\n",
    "    file_sentences = get_sentences_from_file(file_path) # prendo le frasi di quel documento\n",
    "    train_dataset.append(file_sentences)\n",
    "    y_train.append(int(file_path.split('-')[2]))"
   ]
  },
  {
   "cell_type": "code",
   "execution_count": 6,
   "id": "472d6b3f-04ce-425d-8a96-aebfc4da3175",
   "metadata": {
    "tags": []
   },
   "outputs": [
    {
     "data": {
      "text/plain": [
       "[{'word': 'Poverini', 'lemma': 'Poverini', 'pos': 'NOUN'},\n",
       " {'word': 'dopo', 'lemma': 'dopo', 'pos': 'ADP'},\n",
       " {'word': 'tutte', 'lemma': 'tutto', 'pos': 'DET'},\n",
       " {'word': 'le', 'lemma': 'il', 'pos': 'DET'},\n",
       " {'word': 'miniere', 'lemma': 'miniera', 'pos': 'NOUN'},\n",
       " {'word': 'scavate', 'lemma': 'scavato', 'pos': 'ADJ'},\n",
       " {'word': 'ci', 'lemma': 'ci', 'pos': 'PRON'},\n",
       " {'word': 'vuole', 'lemma': 'volere', 'pos': 'VERB'},\n",
       " {'word': 'proprio', 'lemma': 'proprio', 'pos': 'ADV'},\n",
       " {'word': '!!!', 'lemma': '!!!', 'pos': 'PUNCT'},\n",
       " {'word': '!!!', 'lemma': '!!!', 'pos': 'PUNCT'}]"
      ]
     },
     "execution_count": 6,
     "metadata": {},
     "output_type": "execute_result"
    }
   ],
   "source": [
    "train_dataset[1][1] # esempio, seconda frase del secondo file di training"
   ]
  },
  {
   "attachments": {},
   "cell_type": "markdown",
   "id": "98aee551",
   "metadata": {},
   "source": [
    "Ogni documento viene ora rappresentato come una lista di frasi; ogni frase è a sua volta una lista di parole e ogni parola è un dizionario che ha come chiavi word, lemma e pos."
   ]
  },
  {
   "cell_type": "code",
   "execution_count": 7,
   "id": "56cd7aeb",
   "metadata": {},
   "outputs": [
    {
     "data": {
      "text/plain": [
       "3000"
      ]
     },
     "execution_count": 7,
     "metadata": {},
     "output_type": "execute_result"
    }
   ],
   "source": [
    "len(y_train)"
   ]
  },
  {
   "attachments": {},
   "cell_type": "markdown",
   "id": "9a21a255-a990-4e03-9d14-d9469ed38fda",
   "metadata": {},
   "source": [
    "# Estrazione features\n",
    "\n",
    "Prendiamo come feature di un documento il numero di occorrenze dei suoi n-grammi di caratteri/forme/lemmi/POS."
   ]
  },
  {
   "cell_type": "code",
   "execution_count": 8,
   "id": "9001875b-4f8d-4ff9-9b5d-58a3cf159bb0",
   "metadata": {
    "tags": []
   },
   "outputs": [],
   "source": [
    "def extract_word_ngrams(word_ngrams, sentence, el, n):\n",
    "    '''Estrae da una frase i suoi n-grammi di parole, lemmi o Part-Of-Speech.\n",
    "    Word_ngrams è un dizionario vuoto; el è 'word', 'lemma' o 'pos'; n è il numero di parole nell'n-gramma.'''\n",
    "\n",
    "    all_words = []\n",
    "    for token in sentence:\n",
    "        all_words.append(token[el]) # prendo il valore corrispondente alla chiave el nel dizionario\n",
    "    \n",
    "    for i in range(0, len(all_words) - n + 1): # scorro la lista delle parole dall'inizio fino alla fine - n\n",
    "        ngram_words = all_words[i: i + n] # lista contenente quella parola e le n-1 successive, per avere l'n-gramma\n",
    "        ngram = f'{el.upper()}_{n}_' + '_'.join(ngram_words) # creo la stringa ngram contenente el, n e le parole \n",
    "        #print(f'{i}: {ngram_words} -> {ngram}')\n",
    "        if ngram not in word_ngrams: # se è la prima volta che incontro quell'n-gramma\n",
    "            word_ngrams[ngram] = 1 # lo aggiunto al dizionario e imposto il suo valore a 1\n",
    "        else:\n",
    "            word_ngrams[ngram] += 1 # aumento di 1 il valore dell'n-gram\n",
    "    \n",
    "    return word_ngrams"
   ]
  },
  {
   "cell_type": "code",
   "execution_count": 9,
   "id": "18346185-b113-474c-8426-cbf8254bf59a",
   "metadata": {
    "tags": []
   },
   "outputs": [],
   "source": [
    "def extract_char_ngrams(char_ngrams, sentence, n):\n",
    "    \n",
    "    # creiamo una lista con tutte le parole\n",
    "    all_words = []\n",
    "    for token in sentence:\n",
    "        all_words.append(token['word'])\n",
    "\n",
    "    all_words = ' '.join(all_words) # stringa che contiene tutte le parole separate da spazi\n",
    "    \n",
    "    # scorriamo la stringa ed estraiamo gli n-grammi di caratteri\n",
    "    for i in range(0, len(all_words) - n + 1):\n",
    "        ngram_chars = all_words[i:i + n]\n",
    "        ngram = f'CHAR_{n}_' + ngram_chars\n",
    "\n",
    "        if ngram not in char_ngrams:\n",
    "            char_ngrams[ngram] = 1\n",
    "        else:\n",
    "            char_ngrams[ngram] += 1\n",
    "    \n",
    "    return char_ngrams"
   ]
  },
  {
   "attachments": {},
   "cell_type": "markdown",
   "id": "3dcbe38e-2b34-48cc-8604-9b0c6d4867aa",
   "metadata": {},
   "source": [
    "## Normalizzazione delle features\n",
    "\n",
    "Dividiamo il numero di occorrenze di ogni feature, per la lunghezza del documento."
   ]
  },
  {
   "cell_type": "code",
   "execution_count": 10,
   "id": "0501726b-357f-4757-a358-3236a7528023",
   "metadata": {
    "tags": []
   },
   "outputs": [],
   "source": [
    "import math\n",
    "\n",
    "def count_document_words(document):\n",
    "    num_words = 0\n",
    "    for sentence in document:\n",
    "        num_words = num_words + len(sentence)\n",
    "    return num_words\n",
    "\n",
    "\n",
    "def count_document_chars(document):\n",
    "    num_chars = 0\n",
    "    for sentence in document:\n",
    "        for token in sentence:\n",
    "            num_chars = num_chars + len(token['word'])\n",
    "        num_chars = num_chars + len(sentence) - 1  # contiamo anche gli spazi\n",
    "    return num_chars\n",
    "\n",
    "def normalize_ngrams(ngrams_dict, doc_len):\n",
    "    '''L'occorrenza di ogni n-gramma viene divisa per la lunghezza del documento'''\n",
    "    for ngram in ngrams_dict:\n",
    "        ngrams_dict[ngram] = ngrams_dict[ngram]/float(doc_len)"
   ]
  },
  {
   "cell_type": "code",
   "execution_count": 11,
   "id": "f86c588b-916b-46b4-a78f-dcda36f0d732",
   "metadata": {
    "tags": []
   },
   "outputs": [],
   "source": [
    "def extract_features(dataset):\n",
    "    dataset_features = []\n",
    "    for document in dataset:\n",
    "        word_unigrams = dict()\n",
    "        word_bigrams = dict()\n",
    "        word_trigrams = dict()\n",
    "        lemma_unigrams = dict()\n",
    "        lemma_bigrams = dict()\n",
    "        lemma_trigrams = dict()\n",
    "        char_trigrams = dict()\n",
    "        for sentence in document:\n",
    "            extract_word_ngrams(word_unigrams, sentence, 'word', 1)\n",
    "            extract_word_ngrams(word_bigrams, sentence, 'word', 2)\n",
    "            extract_word_ngrams(word_trigrams, sentence, 'word', 3)\n",
    "            extract_word_ngrams(lemma_unigrams, sentence, 'lemma', 1)\n",
    "            extract_word_ngrams(lemma_bigrams, sentence, 'lemma', 2)\n",
    "            extract_word_ngrams(lemma_trigrams, sentence, 'lemma', 3)\n",
    "            extract_char_ngrams(char_trigrams, sentence, 3)\n",
    "\n",
    "        num_words = count_document_words(document) # conta le parole del documento\n",
    "        num_chars = count_document_chars(document) # conta i caratteri del documento\n",
    "\n",
    "        for ngrams in [word_unigrams, word_bigrams, word_trigrams, lemma_unigrams, lemma_bigrams, lemma_trigrams]:\n",
    "            normalize_ngrams(ngrams, num_words)\n",
    "            # normalizza gli n-grammi, cioè divide le occorrenze per il numero di parole nel documento\n",
    "        \n",
    "        normalize_ngrams(char_trigrams, num_chars)\n",
    "        # normalizza il trigramma di caratteri, cioè divide l'occorrenza per il numero di caratteri nel documento\n",
    "        \n",
    "        doc_features = dict()\n",
    "        for ngrams_dict in [word_unigrams, word_bigrams, word_trigrams, lemma_unigrams, lemma_bigrams, lemma_trigrams, char_trigrams]:\n",
    "            for ngram in ngrams_dict:\n",
    "                doc_features[ngram] = ngrams_dict[ngram]\n",
    "\n",
    "        dataset_features.append(doc_features)\n",
    "    return dataset_features\n",
    "    # restituisce una lista di dizionari, ogni dizionario contiene le feature di un documento e le loro occorrenze"
   ]
  },
  {
   "cell_type": "code",
   "execution_count": 12,
   "id": "1f5e1482-433d-4342-8691-3463259dd42c",
   "metadata": {
    "tags": []
   },
   "outputs": [],
   "source": [
    "train_features = extract_features(train_dataset)"
   ]
  },
  {
   "cell_type": "code",
   "execution_count": 13,
   "id": "8dc9f452",
   "metadata": {},
   "outputs": [
    {
     "data": {
      "text/plain": [
       "{'WORD_1_Io': 0.14285714285714285,\n",
       " 'WORD_1_voterò': 0.14285714285714285,\n",
       " 'WORD_1_no😍😍😍Renzi': 0.14285714285714285,\n",
       " 'WORD_1_deve': 0.14285714285714285,\n",
       " 'WORD_1_andare': 0.14285714285714285,\n",
       " 'WORD_1_a': 0.14285714285714285,\n",
       " 'WORD_1_casa😢😢😢': 0.14285714285714285,\n",
       " 'WORD_2_Io_voterò': 0.14285714285714285,\n",
       " 'WORD_2_voterò_no😍😍😍Renzi': 0.14285714285714285,\n",
       " 'WORD_2_no😍😍😍Renzi_deve': 0.14285714285714285,\n",
       " 'WORD_2_deve_andare': 0.14285714285714285,\n",
       " 'WORD_2_andare_a': 0.14285714285714285,\n",
       " 'WORD_2_a_casa😢😢😢': 0.14285714285714285,\n",
       " 'WORD_3_Io_voterò_no😍😍😍Renzi': 0.14285714285714285,\n",
       " 'WORD_3_voterò_no😍😍😍Renzi_deve': 0.14285714285714285,\n",
       " 'WORD_3_no😍😍😍Renzi_deve_andare': 0.14285714285714285,\n",
       " 'WORD_3_deve_andare_a': 0.14285714285714285,\n",
       " 'WORD_3_andare_a_casa😢😢😢': 0.14285714285714285,\n",
       " 'LEMMA_1_io': 0.14285714285714285,\n",
       " 'LEMMA_1_votare': 0.14285714285714285,\n",
       " 'LEMMA_1_no😍😍😍Renzi': 0.14285714285714285,\n",
       " 'LEMMA_1_dovere': 0.14285714285714285,\n",
       " 'LEMMA_1_andare': 0.14285714285714285,\n",
       " 'LEMMA_1_a': 0.14285714285714285,\n",
       " 'LEMMA_1_casa😢😢😢': 0.14285714285714285,\n",
       " 'LEMMA_2_io_votare': 0.14285714285714285,\n",
       " 'LEMMA_2_votare_no😍😍😍Renzi': 0.14285714285714285,\n",
       " 'LEMMA_2_no😍😍😍Renzi_dovere': 0.14285714285714285,\n",
       " 'LEMMA_2_dovere_andare': 0.14285714285714285,\n",
       " 'LEMMA_2_andare_a': 0.14285714285714285,\n",
       " 'LEMMA_2_a_casa😢😢😢': 0.14285714285714285,\n",
       " 'LEMMA_3_io_votare_no😍😍😍Renzi': 0.14285714285714285,\n",
       " 'LEMMA_3_votare_no😍😍😍Renzi_dovere': 0.14285714285714285,\n",
       " 'LEMMA_3_no😍😍😍Renzi_dovere_andare': 0.14285714285714285,\n",
       " 'LEMMA_3_dovere_andare_a': 0.14285714285714285,\n",
       " 'LEMMA_3_andare_a_casa😢😢😢': 0.14285714285714285,\n",
       " 'CHAR_3_Io ': 0.023809523809523808,\n",
       " 'CHAR_3_o v': 0.023809523809523808,\n",
       " 'CHAR_3_ vo': 0.023809523809523808,\n",
       " 'CHAR_3_vot': 0.023809523809523808,\n",
       " 'CHAR_3_ote': 0.023809523809523808,\n",
       " 'CHAR_3_ter': 0.023809523809523808,\n",
       " 'CHAR_3_erò': 0.023809523809523808,\n",
       " 'CHAR_3_rò ': 0.023809523809523808,\n",
       " 'CHAR_3_ò n': 0.023809523809523808,\n",
       " 'CHAR_3_ no': 0.023809523809523808,\n",
       " 'CHAR_3_no😍': 0.023809523809523808,\n",
       " 'CHAR_3_o😍😍': 0.023809523809523808,\n",
       " 'CHAR_3_😍😍😍': 0.023809523809523808,\n",
       " 'CHAR_3_😍😍R': 0.023809523809523808,\n",
       " 'CHAR_3_😍Re': 0.023809523809523808,\n",
       " 'CHAR_3_Ren': 0.023809523809523808,\n",
       " 'CHAR_3_enz': 0.023809523809523808,\n",
       " 'CHAR_3_nzi': 0.023809523809523808,\n",
       " 'CHAR_3_zi ': 0.023809523809523808,\n",
       " 'CHAR_3_i d': 0.023809523809523808,\n",
       " 'CHAR_3_ de': 0.023809523809523808,\n",
       " 'CHAR_3_dev': 0.023809523809523808,\n",
       " 'CHAR_3_eve': 0.023809523809523808,\n",
       " 'CHAR_3_ve ': 0.023809523809523808,\n",
       " 'CHAR_3_e a': 0.047619047619047616,\n",
       " 'CHAR_3_ an': 0.023809523809523808,\n",
       " 'CHAR_3_and': 0.023809523809523808,\n",
       " 'CHAR_3_nda': 0.023809523809523808,\n",
       " 'CHAR_3_dar': 0.023809523809523808,\n",
       " 'CHAR_3_are': 0.023809523809523808,\n",
       " 'CHAR_3_re ': 0.023809523809523808,\n",
       " 'CHAR_3_ a ': 0.023809523809523808,\n",
       " 'CHAR_3_a c': 0.023809523809523808,\n",
       " 'CHAR_3_ ca': 0.023809523809523808,\n",
       " 'CHAR_3_cas': 0.023809523809523808,\n",
       " 'CHAR_3_asa': 0.023809523809523808,\n",
       " 'CHAR_3_sa😢': 0.023809523809523808,\n",
       " 'CHAR_3_a😢😢': 0.023809523809523808,\n",
       " 'CHAR_3_😢😢😢': 0.023809523809523808}"
      ]
     },
     "execution_count": 13,
     "metadata": {},
     "output_type": "execute_result"
    }
   ],
   "source": [
    "train_features[0]"
   ]
  },
  {
   "cell_type": "code",
   "execution_count": 14,
   "id": "3b575aec-946e-4e26-9ef7-66069bb942eb",
   "metadata": {
    "tags": []
   },
   "outputs": [],
   "source": [
    "def get_num_features(dataset):\n",
    "    all_features = set()\n",
    "    for user_dict in dataset:\n",
    "        all_features.update(list(user_dict.keys()))\n",
    "        # aggiorno l'insieme con la lista delle feature del documento corrente, cioè le chiavi del dizionario\n",
    "    return len(all_features)"
   ]
  },
  {
   "cell_type": "code",
   "execution_count": 15,
   "id": "dc44f4a0-a14e-42d7-a037-0681b3781a73",
   "metadata": {
    "tags": []
   },
   "outputs": [
    {
     "name": "stdout",
     "output_type": "stream",
     "text": [
      "Numero features: 122476\n"
     ]
    }
   ],
   "source": [
    "print(f'Numero features: {get_num_features(train_features)}')"
   ]
  },
  {
   "attachments": {},
   "cell_type": "markdown",
   "id": "6c119571-f5f8-48b5-82f6-97e5cd00848a",
   "metadata": {
    "tags": []
   },
   "source": [
    "## Selezione delle feature"
   ]
  },
  {
   "cell_type": "code",
   "execution_count": 16,
   "id": "b5daea87-287d-43a9-85d6-d8cc6d0aa554",
   "metadata": {
    "tags": []
   },
   "outputs": [],
   "source": [
    "def filter_features(train_features, min_occurrences):\n",
    "    '''Filtra le feauture per numero di occorrenze (min_occurrences) nel dataset'''\n",
    "    \n",
    "    # contiamo in quanti documenti diversi compare ogni feature \n",
    "    features_counter = dict()\n",
    "    for doc_dict in train_features:\n",
    "        for feature in doc_dict:\n",
    "            if feature in features_counter:\n",
    "                features_counter[feature] += 1\n",
    "            else:\n",
    "                features_counter[feature] = 1\n",
    "\n",
    "    # per ogni documento, togliamo le features che compaiono in meno di \"min_occurrences\" documenti\n",
    "    for doc_dict in train_features:\n",
    "        doc_features = list(doc_dict.keys())\n",
    "        for feature in doc_features:\n",
    "            if features_counter[feature] < min_occurrences:\n",
    "                doc_dict.pop(feature)\n",
    "                \n",
    "    return train_features"
   ]
  },
  {
   "cell_type": "code",
   "execution_count": 17,
   "id": "318ee365-5d1b-4270-ba3f-2526770c61a3",
   "metadata": {
    "tags": []
   },
   "outputs": [
    {
     "name": "stdout",
     "output_type": "stream",
     "text": [
      "Numero features dopo il filtro: 6085\n"
     ]
    }
   ],
   "source": [
    "train_features = filter_features(train_features, 5)\n",
    "print(f'Numero features dopo il filtro: {get_num_features(train_features)}')"
   ]
  },
  {
   "cell_type": "code",
   "execution_count": 18,
   "id": "b34acf68",
   "metadata": {},
   "outputs": [
    {
     "data": {
      "text/plain": [
       "3000"
      ]
     },
     "execution_count": 18,
     "metadata": {},
     "output_type": "execute_result"
    }
   ],
   "source": [
    "len(train_features)"
   ]
  },
  {
   "attachments": {},
   "cell_type": "markdown",
   "id": "de4fb7bf-765e-485f-a33a-2bf54bf493e6",
   "metadata": {},
   "source": [
    "## Creazione del vettore delle features"
   ]
  },
  {
   "cell_type": "code",
   "execution_count": 19,
   "id": "1d88e6cb-321a-4192-a554-46b58c3d78c8",
   "metadata": {
    "tags": []
   },
   "outputs": [],
   "source": [
    "from sklearn.feature_extraction import DictVectorizer\n",
    "\n",
    "vectorizer = DictVectorizer()\n",
    "X_train = vectorizer.fit_transform(train_features)\n",
    "# trasforma il dizionario di features in un vettore di lunghezza fissa"
   ]
  },
  {
   "cell_type": "code",
   "execution_count": 20,
   "id": "9a049b07-4cb8-4f35-ab45-d3fc4a99c903",
   "metadata": {
    "tags": []
   },
   "outputs": [],
   "source": [
    "lista_features = vectorizer.get_feature_names_out(X_train).tolist()"
   ]
  },
  {
   "cell_type": "code",
   "execution_count": 21,
   "id": "31b9b284",
   "metadata": {},
   "outputs": [
    {
     "data": {
      "text/plain": [
       "['CHAR_3_ ! ',\n",
       " 'CHAR_3_ !!',\n",
       " 'CHAR_3_ \" ',\n",
       " 'CHAR_3_ % ',\n",
       " 'CHAR_3_ ( ',\n",
       " 'CHAR_3_ ) ',\n",
       " 'CHAR_3_ , ',\n",
       " 'CHAR_3_ ,d',\n",
       " 'CHAR_3_ ,f',\n",
       " 'CHAR_3_ ,l',\n",
       " 'CHAR_3_ ,m',\n",
       " 'CHAR_3_ ,n',\n",
       " 'CHAR_3_ ,p',\n",
       " 'CHAR_3_ ,q',\n",
       " 'CHAR_3_ ,s',\n",
       " 'CHAR_3_ ,v',\n",
       " 'CHAR_3_ - ',\n",
       " 'CHAR_3_ . ',\n",
       " 'CHAR_3_ ..',\n",
       " 'CHAR_3_ / ',\n",
       " 'CHAR_3_ 1 ',\n",
       " 'CHAR_3_ 10',\n",
       " 'CHAR_3_ 2 ',\n",
       " 'CHAR_3_ 20',\n",
       " 'CHAR_3_ 30',\n",
       " 'CHAR_3_ 60',\n",
       " 'CHAR_3_ : ',\n",
       " 'CHAR_3_ :D',\n",
       " 'CHAR_3_ ; ',\n",
       " 'CHAR_3_ ? ',\n",
       " 'CHAR_3_ A ',\n",
       " 'CHAR_3_ AL',\n",
       " 'CHAR_3_ AN',\n",
       " 'CHAR_3_ Ah',\n",
       " 'CHAR_3_ Al',\n",
       " 'CHAR_3_ BA',\n",
       " 'CHAR_3_ BE',\n",
       " 'CHAR_3_ BO',\n",
       " 'CHAR_3_ Be',\n",
       " 'CHAR_3_ Bo',\n",
       " 'CHAR_3_ Br',\n",
       " 'CHAR_3_ Bu',\n",
       " 'CHAR_3_ CA',\n",
       " 'CHAR_3_ CH',\n",
       " 'CHAR_3_ CI',\n",
       " 'CHAR_3_ CO',\n",
       " 'CHAR_3_ CR',\n",
       " 'CHAR_3_ Ca',\n",
       " 'CHAR_3_ Ch',\n",
       " 'CHAR_3_ Ci',\n",
       " 'CHAR_3_ Co',\n",
       " 'CHAR_3_ Cr',\n",
       " 'CHAR_3_ DE',\n",
       " 'CHAR_3_ DI',\n",
       " 'CHAR_3_ DO',\n",
       " 'CHAR_3_ DU',\n",
       " 'CHAR_3_ Da',\n",
       " 'CHAR_3_ De',\n",
       " 'CHAR_3_ Di',\n",
       " 'CHAR_3_ E ',\n",
       " 'CHAR_3_ FA',\n",
       " 'CHAR_3_ FI',\n",
       " 'CHAR_3_ FO',\n",
       " 'CHAR_3_ Fa',\n",
       " 'CHAR_3_ Fe',\n",
       " 'CHAR_3_ Fo',\n",
       " 'CHAR_3_ Fr',\n",
       " 'CHAR_3_ GI',\n",
       " 'CHAR_3_ GO',\n",
       " 'CHAR_3_ GR',\n",
       " 'CHAR_3_ Ga',\n",
       " 'CHAR_3_ Ge',\n",
       " 'CHAR_3_ Gi',\n",
       " 'CHAR_3_ HA',\n",
       " 'CHAR_3_ I ',\n",
       " 'CHAR_3_ IL',\n",
       " 'CHAR_3_ IN',\n",
       " 'CHAR_3_ IO',\n",
       " 'CHAR_3_ IT',\n",
       " 'CHAR_3_ In',\n",
       " 'CHAR_3_ It',\n",
       " 'CHAR_3_ LA',\n",
       " 'CHAR_3_ LE',\n",
       " 'CHAR_3_ LI',\n",
       " 'CHAR_3_ LO',\n",
       " 'CHAR_3_ La',\n",
       " 'CHAR_3_ Le',\n",
       " 'CHAR_3_ Li',\n",
       " 'CHAR_3_ Lo',\n",
       " 'CHAR_3_ MA',\n",
       " 'CHAR_3_ MI',\n",
       " 'CHAR_3_ MO',\n",
       " 'CHAR_3_ Ma',\n",
       " 'CHAR_3_ Mi',\n",
       " 'CHAR_3_ Mo',\n",
       " 'CHAR_3_ NA',\n",
       " 'CHAR_3_ NE',\n",
       " 'CHAR_3_ NO',\n",
       " 'CHAR_3_ Na',\n",
       " 'CHAR_3_ No',\n",
       " 'CHAR_3_ PA',\n",
       " 'CHAR_3_ PD',\n",
       " 'CHAR_3_ PE',\n",
       " 'CHAR_3_ PI',\n",
       " 'CHAR_3_ PO',\n",
       " 'CHAR_3_ PR',\n",
       " 'CHAR_3_ Pa',\n",
       " 'CHAR_3_ Pe',\n",
       " 'CHAR_3_ Pi',\n",
       " 'CHAR_3_ Po',\n",
       " 'CHAR_3_ Pr',\n",
       " 'CHAR_3_ QU',\n",
       " 'CHAR_3_ RA',\n",
       " 'CHAR_3_ RE',\n",
       " 'CHAR_3_ RI',\n",
       " 'CHAR_3_ RO',\n",
       " 'CHAR_3_ RU',\n",
       " 'CHAR_3_ Re',\n",
       " 'CHAR_3_ Ri',\n",
       " 'CHAR_3_ Ro',\n",
       " 'CHAR_3_ SA',\n",
       " 'CHAR_3_ SC',\n",
       " 'CHAR_3_ SE',\n",
       " 'CHAR_3_ SI',\n",
       " 'CHAR_3_ SO',\n",
       " 'CHAR_3_ ST',\n",
       " 'CHAR_3_ SU',\n",
       " 'CHAR_3_ Sa',\n",
       " 'CHAR_3_ Si',\n",
       " 'CHAR_3_ St',\n",
       " 'CHAR_3_ TE',\n",
       " 'CHAR_3_ TR',\n",
       " 'CHAR_3_ TU',\n",
       " 'CHAR_3_ TV',\n",
       " 'CHAR_3_ Ta',\n",
       " 'CHAR_3_ Te',\n",
       " 'CHAR_3_ UN',\n",
       " 'CHAR_3_ VA',\n",
       " 'CHAR_3_ VE',\n",
       " 'CHAR_3_ VI',\n",
       " 'CHAR_3_ VO',\n",
       " 'CHAR_3_ Ve',\n",
       " 'CHAR_3_ Vi',\n",
       " 'CHAR_3_ X ',\n",
       " 'CHAR_3_ Za',\n",
       " 'CHAR_3_ a ',\n",
       " 'CHAR_3_ ab',\n",
       " 'CHAR_3_ ac',\n",
       " 'CHAR_3_ ad',\n",
       " 'CHAR_3_ af',\n",
       " 'CHAR_3_ ag',\n",
       " 'CHAR_3_ ah',\n",
       " 'CHAR_3_ ai',\n",
       " 'CHAR_3_ al',\n",
       " 'CHAR_3_ am',\n",
       " 'CHAR_3_ an',\n",
       " 'CHAR_3_ ap',\n",
       " 'CHAR_3_ ar',\n",
       " 'CHAR_3_ as',\n",
       " 'CHAR_3_ at',\n",
       " 'CHAR_3_ au',\n",
       " 'CHAR_3_ av',\n",
       " 'CHAR_3_ az',\n",
       " 'CHAR_3_ ba',\n",
       " 'CHAR_3_ be',\n",
       " 'CHAR_3_ bi',\n",
       " 'CHAR_3_ bl',\n",
       " 'CHAR_3_ bo',\n",
       " 'CHAR_3_ br',\n",
       " 'CHAR_3_ bu',\n",
       " 'CHAR_3_ c ',\n",
       " 'CHAR_3_ c.',\n",
       " 'CHAR_3_ ca',\n",
       " 'CHAR_3_ ce',\n",
       " 'CHAR_3_ ch',\n",
       " 'CHAR_3_ ci',\n",
       " 'CHAR_3_ cl',\n",
       " 'CHAR_3_ co',\n",
       " 'CHAR_3_ cr',\n",
       " 'CHAR_3_ cu',\n",
       " 'CHAR_3_ d ',\n",
       " 'CHAR_3_ da',\n",
       " 'CHAR_3_ de',\n",
       " 'CHAR_3_ di',\n",
       " 'CHAR_3_ do',\n",
       " 'CHAR_3_ dr',\n",
       " 'CHAR_3_ du',\n",
       " 'CHAR_3_ e ',\n",
       " 'CHAR_3_ ec',\n",
       " 'CHAR_3_ ed',\n",
       " 'CHAR_3_ ef',\n",
       " 'CHAR_3_ el',\n",
       " 'CHAR_3_ em',\n",
       " 'CHAR_3_ en',\n",
       " 'CHAR_3_ ep',\n",
       " 'CHAR_3_ er',\n",
       " 'CHAR_3_ es',\n",
       " 'CHAR_3_ et',\n",
       " 'CHAR_3_ eu',\n",
       " 'CHAR_3_ ev',\n",
       " 'CHAR_3_ ex',\n",
       " 'CHAR_3_ fa',\n",
       " 'CHAR_3_ fe',\n",
       " 'CHAR_3_ fi',\n",
       " 'CHAR_3_ fo',\n",
       " 'CHAR_3_ fr',\n",
       " 'CHAR_3_ fu',\n",
       " 'CHAR_3_ ga',\n",
       " 'CHAR_3_ ge',\n",
       " 'CHAR_3_ gh',\n",
       " 'CHAR_3_ gi',\n",
       " 'CHAR_3_ gl',\n",
       " 'CHAR_3_ go',\n",
       " 'CHAR_3_ gr',\n",
       " 'CHAR_3_ gu',\n",
       " 'CHAR_3_ ha',\n",
       " 'CHAR_3_ ho',\n",
       " 'CHAR_3_ i ',\n",
       " 'CHAR_3_ id',\n",
       " 'CHAR_3_ ie',\n",
       " 'CHAR_3_ ig',\n",
       " 'CHAR_3_ il',\n",
       " 'CHAR_3_ im',\n",
       " 'CHAR_3_ in',\n",
       " 'CHAR_3_ io',\n",
       " 'CHAR_3_ ir',\n",
       " 'CHAR_3_ is',\n",
       " 'CHAR_3_ it',\n",
       " 'CHAR_3_ jo',\n",
       " 'CHAR_3_ l ',\n",
       " 'CHAR_3_ la',\n",
       " 'CHAR_3_ le',\n",
       " 'CHAR_3_ li',\n",
       " 'CHAR_3_ lo',\n",
       " 'CHAR_3_ lu',\n",
       " 'CHAR_3_ lì',\n",
       " 'CHAR_3_ ma',\n",
       " 'CHAR_3_ me',\n",
       " 'CHAR_3_ mi',\n",
       " 'CHAR_3_ mo',\n",
       " 'CHAR_3_ mu',\n",
       " 'CHAR_3_ na',\n",
       " 'CHAR_3_ nc',\n",
       " 'CHAR_3_ ne',\n",
       " 'CHAR_3_ ni',\n",
       " 'CHAR_3_ nn',\n",
       " 'CHAR_3_ no',\n",
       " 'CHAR_3_ ns',\n",
       " 'CHAR_3_ nu',\n",
       " 'CHAR_3_ né',\n",
       " 'CHAR_3_ o ',\n",
       " 'CHAR_3_ ob',\n",
       " 'CHAR_3_ oc',\n",
       " 'CHAR_3_ od',\n",
       " 'CHAR_3_ of',\n",
       " 'CHAR_3_ og',\n",
       " 'CHAR_3_ ol',\n",
       " 'CHAR_3_ om',\n",
       " 'CHAR_3_ on',\n",
       " 'CHAR_3_ op',\n",
       " 'CHAR_3_ or',\n",
       " 'CHAR_3_ os',\n",
       " 'CHAR_3_ ot',\n",
       " 'CHAR_3_ ov',\n",
       " 'CHAR_3_ pa',\n",
       " 'CHAR_3_ pd',\n",
       " 'CHAR_3_ pe',\n",
       " 'CHAR_3_ pi',\n",
       " 'CHAR_3_ po',\n",
       " 'CHAR_3_ pr',\n",
       " 'CHAR_3_ pu',\n",
       " 'CHAR_3_ qu',\n",
       " 'CHAR_3_ ra',\n",
       " 'CHAR_3_ re',\n",
       " 'CHAR_3_ ri',\n",
       " 'CHAR_3_ ro',\n",
       " 'CHAR_3_ ru',\n",
       " 'CHAR_3_ sa',\n",
       " 'CHAR_3_ sb',\n",
       " 'CHAR_3_ sc',\n",
       " 'CHAR_3_ se',\n",
       " 'CHAR_3_ sf',\n",
       " 'CHAR_3_ sg',\n",
       " 'CHAR_3_ si',\n",
       " 'CHAR_3_ so',\n",
       " 'CHAR_3_ sp',\n",
       " 'CHAR_3_ st',\n",
       " 'CHAR_3_ su',\n",
       " 'CHAR_3_ sv',\n",
       " 'CHAR_3_ sì',\n",
       " 'CHAR_3_ ta',\n",
       " 'CHAR_3_ te',\n",
       " 'CHAR_3_ ti',\n",
       " 'CHAR_3_ to',\n",
       " 'CHAR_3_ tr',\n",
       " 'CHAR_3_ tu',\n",
       " 'CHAR_3_ tv',\n",
       " 'CHAR_3_ ug',\n",
       " 'CHAR_3_ un',\n",
       " 'CHAR_3_ uo',\n",
       " 'CHAR_3_ ur',\n",
       " 'CHAR_3_ us',\n",
       " 'CHAR_3_ ut',\n",
       " 'CHAR_3_ va',\n",
       " 'CHAR_3_ ve',\n",
       " 'CHAR_3_ vi',\n",
       " 'CHAR_3_ vo',\n",
       " 'CHAR_3_ vu',\n",
       " 'CHAR_3_ x ',\n",
       " 'CHAR_3_ za',\n",
       " 'CHAR_3_ ze',\n",
       " 'CHAR_3_ zi',\n",
       " 'CHAR_3_ zo',\n",
       " 'CHAR_3_ è ',\n",
       " 'CHAR_3_ é ',\n",
       " 'CHAR_3_ 😂😂',\n",
       " 'CHAR_3_! !',\n",
       " 'CHAR_3_! ?',\n",
       " 'CHAR_3_!! ',\n",
       " 'CHAR_3_!!!',\n",
       " 'CHAR_3_!!.',\n",
       " 'CHAR_3_!..',\n",
       " 'CHAR_3_\" !',\n",
       " 'CHAR_3_\" ,',\n",
       " 'CHAR_3_\" .',\n",
       " 'CHAR_3_\" a',\n",
       " 'CHAR_3_\" c',\n",
       " 'CHAR_3_\" d',\n",
       " 'CHAR_3_\" i',\n",
       " 'CHAR_3_\" s',\n",
       " 'CHAR_3_( c',\n",
       " 'CHAR_3_, ,',\n",
       " 'CHAR_3_, C',\n",
       " 'CHAR_3_, I',\n",
       " 'CHAR_3_, M',\n",
       " 'CHAR_3_, a',\n",
       " 'CHAR_3_, b',\n",
       " 'CHAR_3_, c',\n",
       " 'CHAR_3_, d',\n",
       " 'CHAR_3_, e',\n",
       " 'CHAR_3_, f',\n",
       " 'CHAR_3_, g',\n",
       " 'CHAR_3_, h',\n",
       " 'CHAR_3_, i',\n",
       " 'CHAR_3_, l',\n",
       " 'CHAR_3_, m',\n",
       " 'CHAR_3_, n',\n",
       " 'CHAR_3_, o',\n",
       " 'CHAR_3_, p',\n",
       " 'CHAR_3_, q',\n",
       " 'CHAR_3_, r',\n",
       " 'CHAR_3_, s',\n",
       " 'CHAR_3_, t',\n",
       " 'CHAR_3_, u',\n",
       " 'CHAR_3_, v',\n",
       " 'CHAR_3_, è',\n",
       " 'CHAR_3_,ch',\n",
       " 'CHAR_3_,ci',\n",
       " 'CHAR_3_,co',\n",
       " 'CHAR_3_,e ',\n",
       " 'CHAR_3_,fa',\n",
       " 'CHAR_3_,ma',\n",
       " 'CHAR_3_,mi',\n",
       " 'CHAR_3_,no',\n",
       " 'CHAR_3_,pe',\n",
       " 'CHAR_3_,qu',\n",
       " 'CHAR_3_,so',\n",
       " 'CHAR_3_-1.',\n",
       " 'CHAR_3_-ch',\n",
       " 'CHAR_3_-il',\n",
       " 'CHAR_3_-le',\n",
       " 'CHAR_3_-no',\n",
       " 'CHAR_3_. !',\n",
       " 'CHAR_3_. .',\n",
       " 'CHAR_3_. ?',\n",
       " 'CHAR_3_.. ',\n",
       " 'CHAR_3_..!',\n",
       " 'CHAR_3_...',\n",
       " 'CHAR_3_..C',\n",
       " 'CHAR_3_..E',\n",
       " 'CHAR_3_..F',\n",
       " 'CHAR_3_..M',\n",
       " 'CHAR_3_..N',\n",
       " 'CHAR_3_..S',\n",
       " 'CHAR_3_..a',\n",
       " 'CHAR_3_..b',\n",
       " 'CHAR_3_..c',\n",
       " 'CHAR_3_..d',\n",
       " 'CHAR_3_..e',\n",
       " 'CHAR_3_..f',\n",
       " 'CHAR_3_..g',\n",
       " 'CHAR_3_..h',\n",
       " 'CHAR_3_..i',\n",
       " 'CHAR_3_..l',\n",
       " 'CHAR_3_..m',\n",
       " 'CHAR_3_..n',\n",
       " 'CHAR_3_..o',\n",
       " 'CHAR_3_..p',\n",
       " 'CHAR_3_..q',\n",
       " 'CHAR_3_..r',\n",
       " 'CHAR_3_..s',\n",
       " 'CHAR_3_..t',\n",
       " 'CHAR_3_..v',\n",
       " 'CHAR_3_..x',\n",
       " 'CHAR_3_..è',\n",
       " 'CHAR_3_.13',\n",
       " 'CHAR_3_.E ',\n",
       " 'CHAR_3_.Fo',\n",
       " 'CHAR_3_.Ma',\n",
       " 'CHAR_3_.a ',\n",
       " 'CHAR_3_.an',\n",
       " 'CHAR_3_.be',\n",
       " 'CHAR_3_.ca',\n",
       " 'CHAR_3_.ch',\n",
       " 'CHAR_3_.ci',\n",
       " 'CHAR_3_.co',\n",
       " 'CHAR_3_.da',\n",
       " 'CHAR_3_.di',\n",
       " 'CHAR_3_.du',\n",
       " 'CHAR_3_.e ',\n",
       " 'CHAR_3_.fa',\n",
       " 'CHAR_3_.ge',\n",
       " 'CHAR_3_.ht',\n",
       " 'CHAR_3_.il',\n",
       " 'CHAR_3_.in',\n",
       " 'CHAR_3_.io',\n",
       " 'CHAR_3_.it',\n",
       " 'CHAR_3_.la',\n",
       " 'CHAR_3_.le',\n",
       " 'CHAR_3_.ma',\n",
       " 'CHAR_3_.me',\n",
       " 'CHAR_3_.mi',\n",
       " 'CHAR_3_.ne',\n",
       " 'CHAR_3_.no',\n",
       " 'CHAR_3_.pa',\n",
       " 'CHAR_3_.pe',\n",
       " 'CHAR_3_.po',\n",
       " 'CHAR_3_.pr',\n",
       " 'CHAR_3_.qu',\n",
       " 'CHAR_3_.re',\n",
       " 'CHAR_3_.ri',\n",
       " 'CHAR_3_.se',\n",
       " 'CHAR_3_.so',\n",
       " 'CHAR_3_.te',\n",
       " 'CHAR_3_.va',\n",
       " 'CHAR_3_.vo',\n",
       " 'CHAR_3_.è ',\n",
       " 'CHAR_3_//m',\n",
       " 'CHAR_3_//w',\n",
       " 'CHAR_3_/05',\n",
       " 'CHAR_3_/16',\n",
       " 'CHAR_3_/20',\n",
       " 'CHAR_3_/ca',\n",
       " 'CHAR_3_/cr',\n",
       " 'CHAR_3_/m.',\n",
       " 'CHAR_3_/ne',\n",
       " 'CHAR_3_/re',\n",
       " 'CHAR_3_/ww',\n",
       " 'CHAR_3_0 %',\n",
       " 'CHAR_3_0 e',\n",
       " 'CHAR_3_00 ',\n",
       " 'CHAR_3_000',\n",
       " 'CHAR_3_016',\n",
       " 'CHAR_3_05/',\n",
       " 'CHAR_3_1.1',\n",
       " 'CHAR_3_10 ',\n",
       " 'CHAR_3_100',\n",
       " 'CHAR_3_134',\n",
       " 'CHAR_3_16/',\n",
       " 'CHAR_3_2 c',\n",
       " 'CHAR_3_2 p',\n",
       " 'CHAR_3_2 s',\n",
       " 'CHAR_3_201',\n",
       " 'CHAR_3_484',\n",
       " 'CHAR_3_5/1',\n",
       " 'CHAR_3_6/0',\n",
       " 'CHAR_3_: )',\n",
       " 'CHAR_3_: -',\n",
       " 'CHAR_3_://',\n",
       " 'CHAR_3_; )',\n",
       " 'CHAR_3_? ?',\n",
       " 'CHAR_3_?re',\n",
       " 'CHAR_3_A !',\n",
       " 'CHAR_3_A .',\n",
       " 'CHAR_3_A B',\n",
       " 'CHAR_3_A C',\n",
       " 'CHAR_3_A D',\n",
       " 'CHAR_3_A F',\n",
       " 'CHAR_3_A I',\n",
       " 'CHAR_3_A L',\n",
       " 'CHAR_3_A M',\n",
       " 'CHAR_3_A O',\n",
       " 'CHAR_3_A P',\n",
       " 'CHAR_3_A R',\n",
       " 'CHAR_3_A S',\n",
       " 'CHAR_3_A T',\n",
       " 'CHAR_3_A V',\n",
       " 'CHAR_3_A c',\n",
       " 'CHAR_3_A m',\n",
       " 'CHAR_3_AAA',\n",
       " 'CHAR_3_ACC',\n",
       " 'CHAR_3_AI ',\n",
       " 'CHAR_3_ALE',\n",
       " 'CHAR_3_ALI',\n",
       " 'CHAR_3_ALL',\n",
       " 'CHAR_3_ALP',\n",
       " 'CHAR_3_ALT',\n",
       " 'CHAR_3_ALV',\n",
       " 'CHAR_3_AME',\n",
       " 'CHAR_3_AMO',\n",
       " 'CHAR_3_ANA',\n",
       " 'CHAR_3_ANC',\n",
       " 'CHAR_3_AND',\n",
       " 'CHAR_3_ANI',\n",
       " 'CHAR_3_ANN',\n",
       " 'CHAR_3_ANO',\n",
       " 'CHAR_3_ANT',\n",
       " 'CHAR_3_AO ',\n",
       " 'CHAR_3_API',\n",
       " 'CHAR_3_ARE',\n",
       " 'CHAR_3_ASA',\n",
       " 'CHAR_3_AST',\n",
       " 'CHAR_3_ATE',\n",
       " 'CHAR_3_ATI',\n",
       " 'CHAR_3_ATO',\n",
       " 'CHAR_3_ATT',\n",
       " 'CHAR_3_AZZ',\n",
       " 'CHAR_3_Abb',\n",
       " 'CHAR_3_Ah ',\n",
       " 'CHAR_3_Aha',\n",
       " 'CHAR_3_Ale',\n",
       " 'CHAR_3_Alt',\n",
       " 'CHAR_3_Anc',\n",
       " 'CHAR_3_And',\n",
       " 'CHAR_3_Asp',\n",
       " 'CHAR_3_Ass',\n",
       " 'CHAR_3_Ava',\n",
       " 'CHAR_3_BAS',\n",
       " 'CHAR_3_BRA',\n",
       " 'CHAR_3_Bas',\n",
       " 'CHAR_3_Bel',\n",
       " 'CHAR_3_Ber',\n",
       " 'CHAR_3_Bol',\n",
       " 'CHAR_3_Bra',\n",
       " 'CHAR_3_Bru',\n",
       " 'CHAR_3_Buo',\n",
       " 'CHAR_3_CA ',\n",
       " 'CHAR_3_CAP',\n",
       " 'CHAR_3_CAR',\n",
       " 'CHAR_3_CAS',\n",
       " 'CHAR_3_CAT',\n",
       " 'CHAR_3_CCA',\n",
       " 'CHAR_3_CCI',\n",
       " 'CHAR_3_CE ',\n",
       " 'CHAR_3_CHE',\n",
       " 'CHAR_3_CHI',\n",
       " 'CHAR_3_CI ',\n",
       " 'CHAR_3_CIA',\n",
       " 'CHAR_3_CO ',\n",
       " 'CHAR_3_COM',\n",
       " 'CHAR_3_CON',\n",
       " 'CHAR_3_Cam',\n",
       " 'CHAR_3_Cap',\n",
       " 'CHAR_3_Car',\n",
       " 'CHAR_3_Cas',\n",
       " 'CHAR_3_Cer',\n",
       " 'CHAR_3_Che',\n",
       " 'CHAR_3_Chi',\n",
       " 'CHAR_3_Ci ',\n",
       " 'CHAR_3_Cia',\n",
       " 'CHAR_3_Cit',\n",
       " 'CHAR_3_Col',\n",
       " 'CHAR_3_Com',\n",
       " 'CHAR_3_Con',\n",
       " 'CHAR_3_Cos',\n",
       " 'CHAR_3_Cru',\n",
       " 'CHAR_3_DAR',\n",
       " 'CHAR_3_DAT',\n",
       " 'CHAR_3_DI ',\n",
       " 'CHAR_3_DIO',\n",
       " 'CHAR_3_DO ',\n",
       " 'CHAR_3_Da ',\n",
       " 'CHAR_3_Dan',\n",
       " 'CHAR_3_Deb',\n",
       " 'CHAR_3_Del',\n",
       " 'CHAR_3_Di ',\n",
       " 'CHAR_3_Dic',\n",
       " 'CHAR_3_Dig',\n",
       " 'CHAR_3_Dio',\n",
       " 'CHAR_3_Dob',\n",
       " 'CHAR_3_Dov',\n",
       " 'CHAR_3_Due',\n",
       " 'CHAR_3_E !',\n",
       " 'CHAR_3_E ,',\n",
       " 'CHAR_3_E .',\n",
       " 'CHAR_3_E A',\n",
       " 'CHAR_3_E C',\n",
       " 'CHAR_3_E D',\n",
       " 'CHAR_3_E F',\n",
       " 'CHAR_3_E I',\n",
       " 'CHAR_3_E L',\n",
       " 'CHAR_3_E M',\n",
       " 'CHAR_3_E N',\n",
       " 'CHAR_3_E P',\n",
       " 'CHAR_3_E S',\n",
       " 'CHAR_3_E T',\n",
       " 'CHAR_3_E U',\n",
       " 'CHAR_3_E V',\n",
       " 'CHAR_3_E c',\n",
       " 'CHAR_3_E d',\n",
       " 'CHAR_3_E i',\n",
       " 'CHAR_3_E s',\n",
       " 'CHAR_3_E v',\n",
       " 'CHAR_3_E..',\n",
       " 'CHAR_3_EGG',\n",
       " 'CHAR_3_EI ',\n",
       " 'CHAR_3_ELL',\n",
       " 'CHAR_3_ENT',\n",
       " 'CHAR_3_ENZ',\n",
       " 'CHAR_3_EO ',\n",
       " 'CHAR_3_ER ',\n",
       " 'CHAR_3_ERA',\n",
       " 'CHAR_3_ERE',\n",
       " 'CHAR_3_ERI',\n",
       " 'CHAR_3_ERO',\n",
       " 'CHAR_3_ESS',\n",
       " 'CHAR_3_EST',\n",
       " 'CHAR_3_ETT',\n",
       " 'CHAR_3_EZZ',\n",
       " 'CHAR_3_Ecc',\n",
       " 'CHAR_3_FAL',\n",
       " 'CHAR_3_FAR',\n",
       " 'CHAR_3_FOR',\n",
       " 'CHAR_3_Fac',\n",
       " 'CHAR_3_Fai',\n",
       " 'CHAR_3_Fal',\n",
       " 'CHAR_3_Fan',\n",
       " 'CHAR_3_Fat',\n",
       " 'CHAR_3_Fed',\n",
       " 'CHAR_3_Fer',\n",
       " 'CHAR_3_Fin',\n",
       " 'CHAR_3_For',\n",
       " 'CHAR_3_Fra',\n",
       " 'CHAR_3_GGI',\n",
       " 'CHAR_3_GI ',\n",
       " 'CHAR_3_GIO',\n",
       " 'CHAR_3_GLI',\n",
       " 'CHAR_3_GRA',\n",
       " 'CHAR_3_Gal',\n",
       " 'CHAR_3_Gio',\n",
       " 'CHAR_3_Giu',\n",
       " 'CHAR_3_Gov',\n",
       " 'CHAR_3_Gra',\n",
       " 'CHAR_3_Gua',\n",
       " 'CHAR_3_HA ',\n",
       " 'CHAR_3_HE ',\n",
       " 'CHAR_3_HI ',\n",
       " 'CHAR_3_Hai',\n",
       " 'CHAR_3_Han',\n",
       " 'CHAR_3_Ho ',\n",
       " 'CHAR_3_I !',\n",
       " 'CHAR_3_I ,',\n",
       " 'CHAR_3_I .',\n",
       " 'CHAR_3_I A',\n",
       " 'CHAR_3_I B',\n",
       " 'CHAR_3_I C',\n",
       " 'CHAR_3_I D',\n",
       " 'CHAR_3_I E',\n",
       " 'CHAR_3_I F',\n",
       " 'CHAR_3_I I',\n",
       " 'CHAR_3_I L',\n",
       " 'CHAR_3_I M',\n",
       " 'CHAR_3_I N',\n",
       " 'CHAR_3_I P',\n",
       " 'CHAR_3_I R',\n",
       " 'CHAR_3_I S',\n",
       " 'CHAR_3_I T',\n",
       " 'CHAR_3_I V',\n",
       " 'CHAR_3_I c',\n",
       " 'CHAR_3_I p',\n",
       " 'CHAR_3_IA ',\n",
       " 'CHAR_3_IAM',\n",
       " 'CHAR_3_IAN',\n",
       " 'CHAR_3_IAO',\n",
       " 'CHAR_3_IAT',\n",
       " 'CHAR_3_ICA',\n",
       " 'CHAR_3_ICO',\n",
       " 'CHAR_3_III',\n",
       " 'CHAR_3_IL ',\n",
       " 'CHAR_3_ILI',\n",
       " 'CHAR_3_IN ',\n",
       " 'CHAR_3_INC',\n",
       " 'CHAR_3_INI',\n",
       " 'CHAR_3_INO',\n",
       " 'CHAR_3_IO ',\n",
       " 'CHAR_3_ION',\n",
       " 'CHAR_3_IOR',\n",
       " 'CHAR_3_IOS',\n",
       " 'CHAR_3_IRE',\n",
       " 'CHAR_3_ISS',\n",
       " 'CHAR_3_ITA',\n",
       " 'CHAR_3_ITI',\n",
       " 'CHAR_3_ITO',\n",
       " 'CHAR_3_Ide',\n",
       " 'CHAR_3_Il ',\n",
       " 'CHAR_3_Imp',\n",
       " 'CHAR_3_In ',\n",
       " 'CHAR_3_Ind',\n",
       " 'CHAR_3_Inf',\n",
       " 'CHAR_3_Ins',\n",
       " 'CHAR_3_Int',\n",
       " 'CHAR_3_Inv',\n",
       " 'CHAR_3_Io ',\n",
       " 'CHAR_3_Ita',\n",
       " 'CHAR_3_L C',\n",
       " 'CHAR_3_L P',\n",
       " 'CHAR_3_LA ',\n",
       " 'CHAR_3_LE ',\n",
       " 'CHAR_3_LI ',\n",
       " 'CHAR_3_LIA',\n",
       " 'CHAR_3_LIT',\n",
       " 'CHAR_3_LLA',\n",
       " 'CHAR_3_LO ',\n",
       " 'CHAR_3_LPE',\n",
       " 'CHAR_3_LVI',\n",
       " 'CHAR_3_La ',\n",
       " 'CHAR_3_Le ',\n",
       " 'CHAR_3_Leg',\n",
       " 'CHAR_3_Lei',\n",
       " 'CHAR_3_Lib',\n",
       " 'CHAR_3_Lo ',\n",
       " 'CHAR_3_Lor',\n",
       " 'CHAR_3_MA ',\n",
       " 'CHAR_3_MAL',\n",
       " 'CHAR_3_MAN',\n",
       " 'CHAR_3_MAT',\n",
       " 'CHAR_3_ME ',\n",
       " 'CHAR_3_MEN',\n",
       " 'CHAR_3_MI ',\n",
       " 'CHAR_3_MO ',\n",
       " 'CHAR_3_MPR',\n",
       " 'CHAR_3_Ma ',\n",
       " 'CHAR_3_Mag',\n",
       " 'CHAR_3_Mal',\n",
       " 'CHAR_3_Mam',\n",
       " 'CHAR_3_Man',\n",
       " 'CHAR_3_Mar',\n",
       " 'CHAR_3_Mat',\n",
       " 'CHAR_3_Men',\n",
       " 'CHAR_3_Met',\n",
       " 'CHAR_3_Mi ',\n",
       " 'CHAR_3_Mic',\n",
       " 'CHAR_3_N L',\n",
       " 'CHAR_3_N M',\n",
       " 'CHAR_3_N S',\n",
       " 'CHAR_3_NA ',\n",
       " 'CHAR_3_NAT',\n",
       " 'CHAR_3_NCH',\n",
       " 'CHAR_3_NCO',\n",
       " 'CHAR_3_NDA',\n",
       " 'CHAR_3_NDE',\n",
       " 'CHAR_3_NDI',\n",
       " 'CHAR_3_NDO',\n",
       " 'CHAR_3_NE ',\n",
       " 'CHAR_3_NI ',\n",
       " 'CHAR_3_NNO',\n",
       " 'CHAR_3_NO ',\n",
       " 'CHAR_3_NO.',\n",
       " 'CHAR_3_NON',\n",
       " 'CHAR_3_NOO',\n",
       " 'CHAR_3_NTA',\n",
       " 'CHAR_3_NTE',\n",
       " 'CHAR_3_NTI',\n",
       " 'CHAR_3_NTO',\n",
       " 'CHAR_3_NZI',\n",
       " 'CHAR_3_Nea',\n",
       " 'CHAR_3_No ',\n",
       " 'CHAR_3_No.',\n",
       " 'CHAR_3_Noi',\n",
       " 'CHAR_3_Non',\n",
       " 'CHAR_3_Noo',\n",
       " 'CHAR_3_O !',\n",
       " 'CHAR_3_O ,',\n",
       " 'CHAR_3_O .',\n",
       " 'CHAR_3_O A',\n",
       " 'CHAR_3_O C',\n",
       " 'CHAR_3_O D',\n",
       " 'CHAR_3_O E',\n",
       " 'CHAR_3_O F',\n",
       " 'CHAR_3_O I',\n",
       " 'CHAR_3_O L',\n",
       " 'CHAR_3_O M',\n",
       " 'CHAR_3_O N',\n",
       " 'CHAR_3_O P',\n",
       " 'CHAR_3_O S',\n",
       " 'CHAR_3_O a',\n",
       " 'CHAR_3_O e',\n",
       " 'CHAR_3_O p',\n",
       " 'CHAR_3_O s',\n",
       " 'CHAR_3_O..',\n",
       " 'CHAR_3_ODI',\n",
       " 'CHAR_3_OGN',\n",
       " 'CHAR_3_OI ',\n",
       " 'CHAR_3_OLE',\n",
       " 'CHAR_3_OLI',\n",
       " 'CHAR_3_OLO',\n",
       " 'CHAR_3_OM ',\n",
       " 'CHAR_3_OME',\n",
       " 'CHAR_3_OMP',\n",
       " 'CHAR_3_ON ',\n",
       " 'CHAR_3_ONA',\n",
       " 'CHAR_3_OND',\n",
       " 'CHAR_3_ONE',\n",
       " 'CHAR_3_ONO',\n",
       " 'CHAR_3_OO ',\n",
       " 'CHAR_3_OOO',\n",
       " 'CHAR_3_OPP',\n",
       " 'CHAR_3_ORI',\n",
       " 'CHAR_3_ORO',\n",
       " 'CHAR_3_ORT',\n",
       " 'CHAR_3_ORZ',\n",
       " 'CHAR_3_OSE',\n",
       " 'CHAR_3_OST',\n",
       " 'CHAR_3_OTA',\n",
       " 'CHAR_3_OTO',\n",
       " 'CHAR_3_OTT',\n",
       " 'CHAR_3_OVE',\n",
       " 'CHAR_3_Odi',\n",
       " 'CHAR_3_Orm',\n",
       " 'CHAR_3_Ovv',\n",
       " 'CHAR_3_PA ',\n",
       " 'CHAR_3_PAR',\n",
       " 'CHAR_3_PD ',\n",
       " 'CHAR_3_PER',\n",
       " 'CHAR_3_PEZ',\n",
       " 'CHAR_3_POR',\n",
       " 'CHAR_3_PPO',\n",
       " 'CHAR_3_PRE',\n",
       " 'CHAR_3_PRI',\n",
       " 'CHAR_3_PRO',\n",
       " 'CHAR_3_Par',\n",
       " 'CHAR_3_Pen',\n",
       " 'CHAR_3_Per',\n",
       " 'CHAR_3_Pin',\n",
       " 'CHAR_3_Più',\n",
       " 'CHAR_3_Pol',\n",
       " 'CHAR_3_Por',\n",
       " 'CHAR_3_Pov',\n",
       " 'CHAR_3_Pre',\n",
       " 'CHAR_3_Pro',\n",
       " 'CHAR_3_Pur',\n",
       " 'CHAR_3_QUA',\n",
       " 'CHAR_3_QUE',\n",
       " 'CHAR_3_Qua',\n",
       " 'CHAR_3_Que',\n",
       " 'CHAR_3_RA ',\n",
       " 'CHAR_3_RAN',\n",
       " 'CHAR_3_RAT',\n",
       " 'CHAR_3_RE ',\n",
       " 'CHAR_3_REN',\n",
       " 'CHAR_3_RES',\n",
       " 'CHAR_3_RI ',\n",
       " 'CHAR_3_RID',\n",
       " 'CHAR_3_RIS',\n",
       " 'CHAR_3_RO ',\n",
       " 'CHAR_3_ROM',\n",
       " 'CHAR_3_RTA',\n",
       " 'CHAR_3_RTI',\n",
       " 'CHAR_3_RUS',\n",
       " 'CHAR_3_RZA',\n",
       " 'CHAR_3_Ren',\n",
       " 'CHAR_3_Ric',\n",
       " 'CHAR_3_Rom',\n",
       " 'CHAR_3_Rus',\n",
       " 'CHAR_3_SA ',\n",
       " 'CHAR_3_SAL',\n",
       " 'CHAR_3_SE ',\n",
       " 'CHAR_3_SEM',\n",
       " 'CHAR_3_SI ',\n",
       " 'CHAR_3_SOL',\n",
       " 'CHAR_3_SON',\n",
       " 'CHAR_3_SPA',\n",
       " 'CHAR_3_SPE',\n",
       " 'CHAR_3_SSI',\n",
       " 'CHAR_3_STA',\n",
       " 'CHAR_3_STI',\n",
       " 'CHAR_3_STO',\n",
       " 'CHAR_3_STR',\n",
       " 'CHAR_3_Sal',\n",
       " 'CHAR_3_San',\n",
       " 'CHAR_3_Sar',\n",
       " 'CHAR_3_Scu',\n",
       " 'CHAR_3_Se ',\n",
       " 'CHAR_3_Sei',\n",
       " 'CHAR_3_Sem',\n",
       " 'CHAR_3_Sen',\n",
       " 'CHAR_3_Si ',\n",
       " 'CHAR_3_Sia',\n",
       " 'CHAR_3_Sic',\n",
       " 'CHAR_3_Sig',\n",
       " 'CHAR_3_Sin',\n",
       " 'CHAR_3_Sol',\n",
       " 'CHAR_3_Son',\n",
       " 'CHAR_3_Spe',\n",
       " 'CHAR_3_Sta',\n",
       " 'CHAR_3_Sti',\n",
       " 'CHAR_3_Sto',\n",
       " 'CHAR_3_Sì ',\n",
       " 'CHAR_3_TA ',\n",
       " 'CHAR_3_TAL',\n",
       " 'CHAR_3_TAN',\n",
       " 'CHAR_3_TAR',\n",
       " 'CHAR_3_TAT',\n",
       " 'CHAR_3_TE ',\n",
       " 'CHAR_3_TEO',\n",
       " 'CHAR_3_TI ',\n",
       " 'CHAR_3_TIC',\n",
       " 'CHAR_3_TO ',\n",
       " 'CHAR_3_TRA',\n",
       " 'CHAR_3_TRO',\n",
       " 'CHAR_3_TTA',\n",
       " 'CHAR_3_TTE',\n",
       " 'CHAR_3_TTI',\n",
       " 'CHAR_3_TTO',\n",
       " 'CHAR_3_TUR',\n",
       " 'CHAR_3_TUT',\n",
       " 'CHAR_3_TV ',\n",
       " 'CHAR_3_Tan',\n",
       " 'CHAR_3_Ti ',\n",
       " 'CHAR_3_Tut',\n",
       " 'CHAR_3_UAN',\n",
       " 'CHAR_3_UES',\n",
       " 'CHAR_3_UNO',\n",
       " 'CHAR_3_URA',\n",
       " 'CHAR_3_USP',\n",
       " 'CHAR_3_UTI',\n",
       " 'CHAR_3_UTT',\n",
       " 'CHAR_3_Un ',\n",
       " 'CHAR_3_Una',\n",
       " 'CHAR_3_VA ',\n",
       " 'CHAR_3_VAI',\n",
       " 'CHAR_3_VER',\n",
       " 'CHAR_3_VIN',\n",
       " 'CHAR_3_VOT',\n",
       " 'CHAR_3_Vai',\n",
       " 'CHAR_3_Ver',\n",
       " 'CHAR_3_Vir',\n",
       " 'CHAR_3_Viv',\n",
       " 'CHAR_3_Vom',\n",
       " 'CHAR_3_Vot',\n",
       " 'CHAR_3_ZA ',\n",
       " 'CHAR_3_ZI ',\n",
       " 'CHAR_3_ZIO',\n",
       " 'CHAR_3_ZZI',\n",
       " 'CHAR_3_Zan',\n",
       " 'CHAR_3_a !',\n",
       " 'CHAR_3_a \"',\n",
       " 'CHAR_3_a )',\n",
       " 'CHAR_3_a ,',\n",
       " 'CHAR_3_a -',\n",
       " 'CHAR_3_a .',\n",
       " 'CHAR_3_a 6',\n",
       " 'CHAR_3_a :',\n",
       " 'CHAR_3_a ?',\n",
       " 'CHAR_3_a B',\n",
       " 'CHAR_3_a C',\n",
       " 'CHAR_3_a D',\n",
       " 'CHAR_3_a E',\n",
       " 'CHAR_3_a F',\n",
       " 'CHAR_3_a G',\n",
       " 'CHAR_3_a I',\n",
       " 'CHAR_3_a L',\n",
       " 'CHAR_3_a M',\n",
       " 'CHAR_3_a N',\n",
       " 'CHAR_3_a P',\n",
       " 'CHAR_3_a R',\n",
       " 'CHAR_3_a S',\n",
       " 'CHAR_3_a T',\n",
       " 'CHAR_3_a V',\n",
       " 'CHAR_3_a Z',\n",
       " 'CHAR_3_a a',\n",
       " 'CHAR_3_a b',\n",
       " 'CHAR_3_a c',\n",
       " 'CHAR_3_a d',\n",
       " 'CHAR_3_a e',\n",
       " 'CHAR_3_a f',\n",
       " 'CHAR_3_a g',\n",
       " 'CHAR_3_a h',\n",
       " 'CHAR_3_a i',\n",
       " 'CHAR_3_a l',\n",
       " 'CHAR_3_a m',\n",
       " 'CHAR_3_a n',\n",
       " 'CHAR_3_a o',\n",
       " 'CHAR_3_a p',\n",
       " 'CHAR_3_a q',\n",
       " 'CHAR_3_a r',\n",
       " 'CHAR_3_a s',\n",
       " 'CHAR_3_a t',\n",
       " 'CHAR_3_a u',\n",
       " 'CHAR_3_a v',\n",
       " ...]"
      ]
     },
     "execution_count": 21,
     "metadata": {},
     "output_type": "execute_result"
    }
   ],
   "source": [
    "lista_features"
   ]
  },
  {
   "attachments": {},
   "cell_type": "markdown",
   "id": "09f416b9",
   "metadata": {},
   "source": [
    "Funzione che permette di selezionare solo il tipo di feature desiderato dal dataset completo."
   ]
  },
  {
   "cell_type": "code",
   "execution_count": 22,
   "id": "dfef2291",
   "metadata": {},
   "outputs": [],
   "source": [
    "def select_type_of_features(all_features, types):\n",
    "    features = []\n",
    "    for doc in all_features:\n",
    "        doc_dict = {}\n",
    "        for feature in doc.keys(): # cicla sulle feature del documento\n",
    "            for type in types:\n",
    "                if type.upper() in feature: # se il norme della feature contiene il tipo richiesto\n",
    "                    doc_dict[feature] = doc[feature] # viene creata una voce per quella feature nel nuovo dizionario\n",
    "        features.append(doc_dict) # il dizionario del documento viene aggiunto alla nuovo dataset\n",
    "    return features"
   ]
  },
  {
   "attachments": {},
   "cell_type": "markdown",
   "id": "55abb945-8a21-48af-92cb-af304fa3b185",
   "metadata": {},
   "source": [
    "# Normalizzazione delle features\n",
    "\n",
    "Utilizziamo **MaxAbsScaler**: le feature saranno  nell'intervallo \\[-1, 1\\], e preserveranno la posizione degli 0."
   ]
  },
  {
   "cell_type": "code",
   "execution_count": 23,
   "id": "c51c8402-a942-4e58-b1b5-72c7e584b035",
   "metadata": {
    "tags": []
   },
   "outputs": [],
   "source": [
    "from sklearn.preprocessing import MaxAbsScaler\n",
    "\n",
    "scaler = MaxAbsScaler()\n",
    "X_train = scaler.fit_transform(X_train)"
   ]
  },
  {
   "cell_type": "code",
   "execution_count": 24,
   "id": "5244383c",
   "metadata": {},
   "outputs": [
    {
     "data": {
      "text/plain": [
       "(3000, 6085)"
      ]
     },
     "execution_count": 24,
     "metadata": {},
     "output_type": "execute_result"
    }
   ],
   "source": [
    "X_train.shape"
   ]
  },
  {
   "cell_type": "code",
   "execution_count": 25,
   "id": "f9367e18",
   "metadata": {},
   "outputs": [
    {
     "data": {
      "text/plain": [
       "<3000x6085 sparse matrix of type '<class 'numpy.float64'>'\n",
       "\twith 224834 stored elements in Compressed Sparse Row format>"
      ]
     },
     "execution_count": 25,
     "metadata": {},
     "output_type": "execute_result"
    }
   ],
   "source": [
    "X_train"
   ]
  },
  {
   "attachments": {},
   "cell_type": "markdown",
   "id": "64ddb0bf-eebb-4867-9b61-d394b0e2edb7",
   "metadata": {},
   "source": [
    "# Classificazione usando tutte le feature"
   ]
  },
  {
   "attachments": {},
   "cell_type": "markdown",
   "id": "08c9d173",
   "metadata": {},
   "source": [
    "Addestriamo il modello sul dataset completo, 3000 documenti ognuno con 6085 feature."
   ]
  },
  {
   "cell_type": "code",
   "execution_count": 26,
   "id": "4332f56a",
   "metadata": {},
   "outputs": [],
   "source": [
    "from sklearn.svm import LinearSVC, SVC\n",
    "from sklearn.model_selection import cross_validate, KFold, cross_val_predict\n",
    "from sklearn.metrics import classification_report, ConfusionMatrixDisplay, accuracy_score, f1_score"
   ]
  },
  {
   "attachments": {},
   "cell_type": "markdown",
   "id": "2357800a",
   "metadata": {},
   "source": [
    "## Model selection rispetto a C"
   ]
  },
  {
   "cell_type": "code",
   "execution_count": 27,
   "id": "daa82d64",
   "metadata": {},
   "outputs": [],
   "source": [
    "splitter = KFold(n_splits=5, shuffle=True, random_state=42)"
   ]
  },
  {
   "cell_type": "code",
   "execution_count": 28,
   "id": "6bfed625",
   "metadata": {},
   "outputs": [],
   "source": [
    "df = pd.DataFrame(np.array([0.0001, 0.001, 0.01, 0.1, 1]), columns = ['C'])\n",
    "# creiamo un dataframe che conterrà i risultati; in ogni riga c'è un diverso valore di C da testare\n",
    "\n",
    "for i, c in enumerate(df['C']): # proviamo diversi valori dell'iperparametro regolarizzatore C\n",
    "    svc = LinearSVC(C=c)\n",
    "    svc.fit(X_train, y_train) # addestriamo il modello con il valore di C da valutare\n",
    "    df.loc[i, 'training_accuracy'] = svc.score(X_train, y_train)\n",
    "    scores = cross_validate(svc, X_train, y_train, scoring='accuracy', cv=splitter) # effettuiamo la Cross Validation\n",
    "    df.loc[i, 'val_accuracy'] = scores['test_score'].mean()\n",
    "    df.loc[i, 'val_accuracy_std'] = scores['test_score'].std()"
   ]
  },
  {
   "cell_type": "code",
   "execution_count": 29,
   "id": "06dcf5d8",
   "metadata": {},
   "outputs": [
    {
     "data": {
      "text/html": [
       "<div>\n",
       "<style scoped>\n",
       "    .dataframe tbody tr th:only-of-type {\n",
       "        vertical-align: middle;\n",
       "    }\n",
       "\n",
       "    .dataframe tbody tr th {\n",
       "        vertical-align: top;\n",
       "    }\n",
       "\n",
       "    .dataframe thead th {\n",
       "        text-align: right;\n",
       "    }\n",
       "</style>\n",
       "<table border=\"1\" class=\"dataframe\">\n",
       "  <thead>\n",
       "    <tr style=\"text-align: right;\">\n",
       "      <th></th>\n",
       "      <th>C</th>\n",
       "      <th>training_accuracy</th>\n",
       "      <th>val_accuracy</th>\n",
       "      <th>val_accuracy_std</th>\n",
       "    </tr>\n",
       "  </thead>\n",
       "  <tbody>\n",
       "    <tr>\n",
       "      <th>0</th>\n",
       "      <td>0.0001</td>\n",
       "      <td>0.566000</td>\n",
       "      <td>0.555667</td>\n",
       "      <td>0.012229</td>\n",
       "    </tr>\n",
       "    <tr>\n",
       "      <th>1</th>\n",
       "      <td>0.0010</td>\n",
       "      <td>0.759333</td>\n",
       "      <td>0.699667</td>\n",
       "      <td>0.021328</td>\n",
       "    </tr>\n",
       "    <tr>\n",
       "      <th>2</th>\n",
       "      <td>0.0100</td>\n",
       "      <td>0.877333</td>\n",
       "      <td>0.764667</td>\n",
       "      <td>0.014847</td>\n",
       "    </tr>\n",
       "    <tr>\n",
       "      <th>3</th>\n",
       "      <td>0.1000</td>\n",
       "      <td>0.982333</td>\n",
       "      <td>0.781333</td>\n",
       "      <td>0.013679</td>\n",
       "    </tr>\n",
       "    <tr>\n",
       "      <th>4</th>\n",
       "      <td>1.0000</td>\n",
       "      <td>0.999667</td>\n",
       "      <td>0.766000</td>\n",
       "      <td>0.014667</td>\n",
       "    </tr>\n",
       "  </tbody>\n",
       "</table>\n",
       "</div>"
      ],
      "text/plain": [
       "        C  training_accuracy  val_accuracy  val_accuracy_std\n",
       "0  0.0001           0.566000      0.555667          0.012229\n",
       "1  0.0010           0.759333      0.699667          0.021328\n",
       "2  0.0100           0.877333      0.764667          0.014847\n",
       "3  0.1000           0.982333      0.781333          0.013679\n",
       "4  1.0000           0.999667      0.766000          0.014667"
      ]
     },
     "execution_count": 29,
     "metadata": {},
     "output_type": "execute_result"
    }
   ],
   "source": [
    "df"
   ]
  },
  {
   "cell_type": "code",
   "execution_count": 30,
   "id": "e823ea16",
   "metadata": {},
   "outputs": [
    {
     "data": {
      "image/png": "[encoded data removed]",
      "text/plain": [
       "<Figure size 640x480 with 1 Axes>"
      ]
     },
     "metadata": {},
     "output_type": "display_data"
    }
   ],
   "source": [
    "x_ticks = np.arange(len(df['C']))\n",
    "plt.plot(x_ticks, df['training_accuracy'], 'o-', label='Training Accuracy')\n",
    "plt.plot(x_ticks, df['val_accuracy'], 'o-', label='Validation Accuracy')\n",
    "plt.xlabel('C')\n",
    "plt.ylabel('Accuracy')\n",
    "plt.xticks(x_ticks, df['C'])  # Imposta le etichette degli assi x con i valori di C\n",
    "plt.legend()\n",
    "# plt.savefig('C_parameter_n-grammi.pdf', dpi=300, bbox_inches='tight')\n",
    "plt.show()"
   ]
  },
  {
   "attachments": {},
   "cell_type": "markdown",
   "id": "f5c902f7",
   "metadata": {},
   "source": [
    "Il valore migliore per C è 0,1, che permette di ottenere un'accuracy media sui 5 diversi validation set (ottenuti tramite 5-Fold cross validation) dello 0.781."
   ]
  },
  {
   "cell_type": "code",
   "execution_count": 31,
   "id": "44041600",
   "metadata": {},
   "outputs": [
    {
     "name": "stdout",
     "output_type": "stream",
     "text": [
      "F1 score medio = 0.7646706771577347 con deviazione standard pari a 0.01389351295900804\n"
     ]
    }
   ],
   "source": [
    "best_SVC = LinearSVC(C=0.1) # creiamo il modello con il miglior valore di C\n",
    "scores = cross_validate(best_SVC, X_train, y_train, scoring='f1', cv=splitter)\n",
    "# cerchiamo anche il valore di F1 in validation\n",
    "print(\"F1 score medio =\", scores['test_score'].mean(), \"con deviazione standard pari a\", scores['test_score'].std())"
   ]
  },
  {
   "attachments": {},
   "cell_type": "markdown",
   "id": "b99943bc",
   "metadata": {},
   "source": [
    "# Classificazione solo 'lemma'"
   ]
  },
  {
   "cell_type": "code",
   "execution_count": 32,
   "id": "0a5b2a2c",
   "metadata": {},
   "outputs": [],
   "source": [
    "lemma_features = select_type_of_features(train_features, ['lemma'])"
   ]
  },
  {
   "cell_type": "code",
   "execution_count": 33,
   "id": "84fe5e3f",
   "metadata": {},
   "outputs": [
    {
     "data": {
      "text/plain": [
       "1591"
      ]
     },
     "execution_count": 33,
     "metadata": {},
     "output_type": "execute_result"
    }
   ],
   "source": [
    "get_num_features(lemma_features)"
   ]
  },
  {
   "cell_type": "code",
   "execution_count": 34,
   "id": "f06b944d",
   "metadata": {},
   "outputs": [],
   "source": [
    "lemma_vectorizer = DictVectorizer()\n",
    "X_train_lemma = lemma_vectorizer.fit_transform(lemma_features)"
   ]
  },
  {
   "cell_type": "code",
   "execution_count": 35,
   "id": "a1296b3c",
   "metadata": {},
   "outputs": [],
   "source": [
    "lemma_scaler = MaxAbsScaler()\n",
    "X_train_lemma = lemma_scaler.fit_transform(X_train_lemma)"
   ]
  },
  {
   "attachments": {},
   "cell_type": "markdown",
   "id": "738b0b24",
   "metadata": {},
   "source": [
    "## Model selection rispetto a C"
   ]
  },
  {
   "cell_type": "code",
   "execution_count": 36,
   "id": "e56e328e",
   "metadata": {},
   "outputs": [],
   "source": [
    "df = pd.DataFrame(np.array([0.0001, 0.001, 0.01, 0.1, 1]), columns = ['C'])"
   ]
  },
  {
   "cell_type": "code",
   "execution_count": 37,
   "id": "4dbd316b",
   "metadata": {},
   "outputs": [],
   "source": [
    "for i, c in enumerate(df['C']): # proviamo diversi valori dell'iperparametro regolarizzatore C\n",
    "    svc = LinearSVC(dual=False, C=c)\n",
    "    svc.fit(X_train_lemma, y_train) # addestriamo il modello con il valore di C da valutare\n",
    "    df.loc[i, 'training_accuracy'] = svc.score(X_train_lemma, y_train)\n",
    "    scores = cross_validate(svc, X_train_lemma, y_train, scoring='accuracy', cv=splitter) # effettuiamo la Cross Validation\n",
    "    df.loc[i, 'val_accuracy'] = scores['test_score'].mean()\n",
    "    df.loc[i, 'val_accuracy_std'] = scores['test_score'].std()"
   ]
  },
  {
   "cell_type": "code",
   "execution_count": 38,
   "id": "84c96029",
   "metadata": {},
   "outputs": [
    {
     "data": {
      "text/html": [
       "<div>\n",
       "<style scoped>\n",
       "    .dataframe tbody tr th:only-of-type {\n",
       "        vertical-align: middle;\n",
       "    }\n",
       "\n",
       "    .dataframe tbody tr th {\n",
       "        vertical-align: top;\n",
       "    }\n",
       "\n",
       "    .dataframe thead th {\n",
       "        text-align: right;\n",
       "    }\n",
       "</style>\n",
       "<table border=\"1\" class=\"dataframe\">\n",
       "  <thead>\n",
       "    <tr style=\"text-align: right;\">\n",
       "      <th></th>\n",
       "      <th>C</th>\n",
       "      <th>training_accuracy</th>\n",
       "      <th>val_accuracy</th>\n",
       "      <th>val_accuracy_std</th>\n",
       "    </tr>\n",
       "  </thead>\n",
       "  <tbody>\n",
       "    <tr>\n",
       "      <th>0</th>\n",
       "      <td>0.0001</td>\n",
       "      <td>0.539333</td>\n",
       "      <td>0.539333</td>\n",
       "      <td>0.008273</td>\n",
       "    </tr>\n",
       "    <tr>\n",
       "      <th>1</th>\n",
       "      <td>0.0010</td>\n",
       "      <td>0.569333</td>\n",
       "      <td>0.549000</td>\n",
       "      <td>0.014283</td>\n",
       "    </tr>\n",
       "    <tr>\n",
       "      <th>2</th>\n",
       "      <td>0.0100</td>\n",
       "      <td>0.751000</td>\n",
       "      <td>0.676667</td>\n",
       "      <td>0.012019</td>\n",
       "    </tr>\n",
       "    <tr>\n",
       "      <th>3</th>\n",
       "      <td>0.1000</td>\n",
       "      <td>0.861333</td>\n",
       "      <td>0.721667</td>\n",
       "      <td>0.013292</td>\n",
       "    </tr>\n",
       "    <tr>\n",
       "      <th>4</th>\n",
       "      <td>1.0000</td>\n",
       "      <td>0.926333</td>\n",
       "      <td>0.720667</td>\n",
       "      <td>0.011035</td>\n",
       "    </tr>\n",
       "  </tbody>\n",
       "</table>\n",
       "</div>"
      ],
      "text/plain": [
       "        C  training_accuracy  val_accuracy  val_accuracy_std\n",
       "0  0.0001           0.539333      0.539333          0.008273\n",
       "1  0.0010           0.569333      0.549000          0.014283\n",
       "2  0.0100           0.751000      0.676667          0.012019\n",
       "3  0.1000           0.861333      0.721667          0.013292\n",
       "4  1.0000           0.926333      0.720667          0.011035"
      ]
     },
     "execution_count": 38,
     "metadata": {},
     "output_type": "execute_result"
    }
   ],
   "source": [
    "df"
   ]
  },
  {
   "cell_type": "code",
   "execution_count": 39,
   "id": "507a8fcf",
   "metadata": {},
   "outputs": [
    {
     "data": {
      "image/png": "[encoded data removed]",
      "text/plain": [
       "<Figure size 640x480 with 1 Axes>"
      ]
     },
     "metadata": {},
     "output_type": "display_data"
    }
   ],
   "source": [
    "x_ticks = np.arange(len(df['C']))\n",
    "\n",
    "plt.plot(x_ticks, df['training_accuracy'], 'o-', label='Training Accuracy')\n",
    "plt.plot(x_ticks, df['val_accuracy'], 'o-', label='Validation Accuracy')\n",
    "\n",
    "plt.xlabel('C')\n",
    "plt.ylabel('Accuracy')\n",
    "\n",
    "plt.xticks(x_ticks, df['C'])  # Imposta gli etichette degli assi x con i valori di C\n",
    "plt.legend()\n",
    "#plt.savefig('C_parameter.pdf', dpi=300, bbox_inches='tight')\n",
    "plt.show()"
   ]
  },
  {
   "cell_type": "code",
   "execution_count": 40,
   "id": "8f9cf88d",
   "metadata": {},
   "outputs": [
    {
     "data": {
      "text/plain": [
       "0.6866981830153165"
      ]
     },
     "execution_count": 40,
     "metadata": {},
     "output_type": "execute_result"
    }
   ],
   "source": [
    "best_svc_lemma = LinearSVC(dual=False, C=0.1)\n",
    "scores = cross_validate(best_svc_lemma, X_train_lemma, y_train, scoring='f1', cv=splitter)\n",
    "scores['test_score'].mean()"
   ]
  },
  {
   "cell_type": "code",
   "execution_count": 41,
   "id": "bdf10dff",
   "metadata": {},
   "outputs": [
    {
     "data": {
      "text/plain": [
       "0.012095814428823888"
      ]
     },
     "execution_count": 41,
     "metadata": {},
     "output_type": "execute_result"
    }
   ],
   "source": [
    "scores['test_score'].std()"
   ]
  },
  {
   "attachments": {},
   "cell_type": "markdown",
   "id": "f0f84aac",
   "metadata": {},
   "source": [
    "# Classificazione solo 'word'"
   ]
  },
  {
   "cell_type": "code",
   "execution_count": 42,
   "id": "0e6b7f74",
   "metadata": {},
   "outputs": [],
   "source": [
    "word_features = select_type_of_features(train_features, ['word'])\n",
    "word_vectorizer = DictVectorizer()\n",
    "X_train_word = word_vectorizer.fit_transform(word_features)"
   ]
  },
  {
   "cell_type": "code",
   "execution_count": 43,
   "id": "6487365d",
   "metadata": {},
   "outputs": [
    {
     "data": {
      "text/plain": [
       "1509"
      ]
     },
     "execution_count": 43,
     "metadata": {},
     "output_type": "execute_result"
    }
   ],
   "source": [
    "get_num_features(word_features)"
   ]
  },
  {
   "cell_type": "code",
   "execution_count": 44,
   "id": "e2c3bcab",
   "metadata": {},
   "outputs": [],
   "source": [
    "word_scaler = MaxAbsScaler()\n",
    "X_train_word = word_scaler.fit_transform(X_train_word)"
   ]
  },
  {
   "attachments": {},
   "cell_type": "markdown",
   "id": "e0fea016",
   "metadata": {},
   "source": [
    "## Model selection rispetto a C"
   ]
  },
  {
   "cell_type": "code",
   "execution_count": 45,
   "id": "b5afc4ca",
   "metadata": {},
   "outputs": [
    {
     "data": {
      "text/html": [
       "<div>\n",
       "<style scoped>\n",
       "    .dataframe tbody tr th:only-of-type {\n",
       "        vertical-align: middle;\n",
       "    }\n",
       "\n",
       "    .dataframe tbody tr th {\n",
       "        vertical-align: top;\n",
       "    }\n",
       "\n",
       "    .dataframe thead th {\n",
       "        text-align: right;\n",
       "    }\n",
       "</style>\n",
       "<table border=\"1\" class=\"dataframe\">\n",
       "  <thead>\n",
       "    <tr style=\"text-align: right;\">\n",
       "      <th></th>\n",
       "      <th>C</th>\n",
       "      <th>training_accuracy</th>\n",
       "      <th>val_accuracy</th>\n",
       "      <th>val_accuracy_std</th>\n",
       "    </tr>\n",
       "  </thead>\n",
       "  <tbody>\n",
       "    <tr>\n",
       "      <th>0</th>\n",
       "      <td>0.0001</td>\n",
       "      <td>0.539333</td>\n",
       "      <td>0.539333</td>\n",
       "      <td>0.008273</td>\n",
       "    </tr>\n",
       "    <tr>\n",
       "      <th>1</th>\n",
       "      <td>0.0010</td>\n",
       "      <td>0.564000</td>\n",
       "      <td>0.548667</td>\n",
       "      <td>0.010873</td>\n",
       "    </tr>\n",
       "    <tr>\n",
       "      <th>2</th>\n",
       "      <td>0.0100</td>\n",
       "      <td>0.751333</td>\n",
       "      <td>0.682333</td>\n",
       "      <td>0.013928</td>\n",
       "    </tr>\n",
       "    <tr>\n",
       "      <th>3</th>\n",
       "      <td>0.1000</td>\n",
       "      <td>0.861667</td>\n",
       "      <td>0.732333</td>\n",
       "      <td>0.008273</td>\n",
       "    </tr>\n",
       "    <tr>\n",
       "      <th>4</th>\n",
       "      <td>1.0000</td>\n",
       "      <td>0.912333</td>\n",
       "      <td>0.724667</td>\n",
       "      <td>0.018481</td>\n",
       "    </tr>\n",
       "  </tbody>\n",
       "</table>\n",
       "</div>"
      ],
      "text/plain": [
       "        C  training_accuracy  val_accuracy  val_accuracy_std\n",
       "0  0.0001           0.539333      0.539333          0.008273\n",
       "1  0.0010           0.564000      0.548667          0.010873\n",
       "2  0.0100           0.751333      0.682333          0.013928\n",
       "3  0.1000           0.861667      0.732333          0.008273\n",
       "4  1.0000           0.912333      0.724667          0.018481"
      ]
     },
     "execution_count": 45,
     "metadata": {},
     "output_type": "execute_result"
    }
   ],
   "source": [
    "df = pd.DataFrame(np.array([0.0001, 0.001, 0.01, 0.1, 1]), columns = ['C'])\n",
    "splitter = KFold(n_splits=5, shuffle=True, random_state=42)\n",
    "for i, c in enumerate(df['C']): # proviamo diversi valori dell'iperparametro regolarizzatore C\n",
    "    svc = LinearSVC(C=c)\n",
    "    svc.fit(X_train_word, y_train) # addestriamo il modello con il valore di C da valutare\n",
    "    df.loc[i, 'training_accuracy'] = svc.score(X_train_word, y_train)\n",
    "    scores = cross_validate(svc, X_train_word, y_train, scoring='accuracy', cv=splitter) # effettuiamo la Cross Validation\n",
    "    df.loc[i, 'val_accuracy'] = scores['test_score'].mean()\n",
    "    df.loc[i, 'val_accuracy_std'] = scores['test_score'].std()\n",
    "df"
   ]
  },
  {
   "cell_type": "code",
   "execution_count": 46,
   "id": "67562379",
   "metadata": {},
   "outputs": [
    {
     "data": {
      "image/png": "[encoded data removed]",
      "text/plain": [
       "<Figure size 640x480 with 1 Axes>"
      ]
     },
     "metadata": {},
     "output_type": "display_data"
    }
   ],
   "source": [
    "x_ticks = np.arange(len(df['C']))\n",
    "\n",
    "plt.plot(x_ticks, df['training_accuracy'], 'o-', label='Training Accuracy')\n",
    "plt.plot(x_ticks, df['val_accuracy'], 'o-', label='Validation Accuracy')\n",
    "\n",
    "plt.xlabel('C')\n",
    "plt.ylabel('Accuracy')\n",
    "\n",
    "plt.xticks(x_ticks, df['C'])  # Imposta gli etichette degli assi x con i valori di C\n",
    "plt.legend()\n",
    "#plt.savefig('C_parameter_n-grammi.pdf', dpi=300, bbox_inches='tight')\n",
    "plt.show()"
   ]
  },
  {
   "cell_type": "code",
   "execution_count": 47,
   "id": "17063fca",
   "metadata": {},
   "outputs": [
    {
     "data": {
      "text/plain": [
       "0.6928050018472988"
      ]
     },
     "execution_count": 47,
     "metadata": {},
     "output_type": "execute_result"
    }
   ],
   "source": [
    "best_svc_word = LinearSVC(dual=False, C=0.1)\n",
    "scores = cross_validate(best_svc_word, X_train_word, y_train, scoring='f1', cv=splitter)\n",
    "scores['test_score'].mean()"
   ]
  },
  {
   "cell_type": "code",
   "execution_count": 48,
   "id": "282dcad9",
   "metadata": {},
   "outputs": [
    {
     "data": {
      "text/plain": [
       "0.0156455028820419"
      ]
     },
     "execution_count": 48,
     "metadata": {},
     "output_type": "execute_result"
    }
   ],
   "source": [
    "scores['test_score'].std()"
   ]
  },
  {
   "attachments": {},
   "cell_type": "markdown",
   "id": "8d557a9d",
   "metadata": {},
   "source": [
    "# Classificazione solo word e char"
   ]
  },
  {
   "cell_type": "code",
   "execution_count": 49,
   "id": "d4e28253",
   "metadata": {},
   "outputs": [],
   "source": [
    "word_char_features = select_type_of_features(train_features, ['word', 'char'])\n",
    "word_c_vectorizer = DictVectorizer()\n",
    "X_train_word_char = word_c_vectorizer.fit_transform(word_char_features)"
   ]
  },
  {
   "cell_type": "code",
   "execution_count": 50,
   "id": "d6ce9fab",
   "metadata": {},
   "outputs": [
    {
     "data": {
      "text/plain": [
       "4494"
      ]
     },
     "execution_count": 50,
     "metadata": {},
     "output_type": "execute_result"
    }
   ],
   "source": [
    "get_num_features(word_char_features)"
   ]
  },
  {
   "cell_type": "code",
   "execution_count": 51,
   "id": "fa84e069",
   "metadata": {},
   "outputs": [],
   "source": [
    "word_c_scaler = MaxAbsScaler()\n",
    "X_train_word_char = word_c_scaler.fit_transform(X_train_word_char)"
   ]
  },
  {
   "attachments": {},
   "cell_type": "markdown",
   "id": "eb654f59",
   "metadata": {},
   "source": [
    "## Model selection rispetto a C"
   ]
  },
  {
   "cell_type": "code",
   "execution_count": 52,
   "id": "1288a0ee",
   "metadata": {},
   "outputs": [
    {
     "data": {
      "text/html": [
       "<div>\n",
       "<style scoped>\n",
       "    .dataframe tbody tr th:only-of-type {\n",
       "        vertical-align: middle;\n",
       "    }\n",
       "\n",
       "    .dataframe tbody tr th {\n",
       "        vertical-align: top;\n",
       "    }\n",
       "\n",
       "    .dataframe thead th {\n",
       "        text-align: right;\n",
       "    }\n",
       "</style>\n",
       "<table border=\"1\" class=\"dataframe\">\n",
       "  <thead>\n",
       "    <tr style=\"text-align: right;\">\n",
       "      <th></th>\n",
       "      <th>C</th>\n",
       "      <th>training_accuracy</th>\n",
       "      <th>val_accuracy</th>\n",
       "      <th>val_accuracy_std</th>\n",
       "    </tr>\n",
       "  </thead>\n",
       "  <tbody>\n",
       "    <tr>\n",
       "      <th>0</th>\n",
       "      <td>0.0001</td>\n",
       "      <td>0.552667</td>\n",
       "      <td>0.546667</td>\n",
       "      <td>0.012605</td>\n",
       "    </tr>\n",
       "    <tr>\n",
       "      <th>1</th>\n",
       "      <td>0.0010</td>\n",
       "      <td>0.735000</td>\n",
       "      <td>0.678000</td>\n",
       "      <td>0.015542</td>\n",
       "    </tr>\n",
       "    <tr>\n",
       "      <th>2</th>\n",
       "      <td>0.0100</td>\n",
       "      <td>0.858333</td>\n",
       "      <td>0.759000</td>\n",
       "      <td>0.015261</td>\n",
       "    </tr>\n",
       "    <tr>\n",
       "      <th>3</th>\n",
       "      <td>0.1000</td>\n",
       "      <td>0.963000</td>\n",
       "      <td>0.782667</td>\n",
       "      <td>0.015370</td>\n",
       "    </tr>\n",
       "    <tr>\n",
       "      <th>4</th>\n",
       "      <td>1.0000</td>\n",
       "      <td>0.999667</td>\n",
       "      <td>0.760667</td>\n",
       "      <td>0.011479</td>\n",
       "    </tr>\n",
       "  </tbody>\n",
       "</table>\n",
       "</div>"
      ],
      "text/plain": [
       "        C  training_accuracy  val_accuracy  val_accuracy_std\n",
       "0  0.0001           0.552667      0.546667          0.012605\n",
       "1  0.0010           0.735000      0.678000          0.015542\n",
       "2  0.0100           0.858333      0.759000          0.015261\n",
       "3  0.1000           0.963000      0.782667          0.015370\n",
       "4  1.0000           0.999667      0.760667          0.011479"
      ]
     },
     "execution_count": 52,
     "metadata": {},
     "output_type": "execute_result"
    }
   ],
   "source": [
    "df = pd.DataFrame(np.array([0.0001, 0.001, 0.01, 0.1, 1]), columns = ['C'])\n",
    "splitter = KFold(n_splits=5, shuffle=True, random_state=42)\n",
    "for i, c in enumerate(df['C']): # proviamo diversi valori dell'iperparametro regolarizzatore C\n",
    "    svc = LinearSVC(C=c)\n",
    "    svc.fit(X_train_word_char, y_train) # addestriamo il modello con il valore di C da valutare\n",
    "    df.loc[i, 'training_accuracy'] = svc.score(X_train_word_char, y_train)\n",
    "    scores = cross_validate(svc, X_train_word_char, y_train, scoring='accuracy', cv=splitter) # effettuiamo la Cross Validation\n",
    "    df.loc[i, 'val_accuracy'] = scores['test_score'].mean()\n",
    "    df.loc[i, 'val_accuracy_std'] = scores['test_score'].std()\n",
    "df"
   ]
  },
  {
   "cell_type": "code",
   "execution_count": 53,
   "id": "e75c4e38",
   "metadata": {},
   "outputs": [
    {
     "data": {
      "image/png": "[encoded data removed]",
      "text/plain": [
       "<Figure size 640x480 with 1 Axes>"
      ]
     },
     "metadata": {},
     "output_type": "display_data"
    }
   ],
   "source": [
    "x_ticks = np.arange(len(df['C']))\n",
    "\n",
    "plt.plot(x_ticks, df['training_accuracy'], 'o-', label='Training Accuracy')\n",
    "plt.plot(x_ticks, df['val_accuracy'], 'o-', label='Validation Accuracy')\n",
    "\n",
    "plt.xlabel('C')\n",
    "plt.ylabel('Accuracy')\n",
    "\n",
    "plt.xticks(x_ticks, df['C'])  # Imposta gli etichette degli assi x con i valori di C\n",
    "plt.legend()\n",
    "#plt.savefig('C_parameter.pdf', dpi=300, bbox_inches='tight')\n",
    "plt.show()"
   ]
  },
  {
   "cell_type": "code",
   "execution_count": 54,
   "id": "33b8f14e",
   "metadata": {},
   "outputs": [
    {
     "data": {
      "text/plain": [
       "0.7673029520682106"
      ]
     },
     "execution_count": 54,
     "metadata": {},
     "output_type": "execute_result"
    }
   ],
   "source": [
    "best_svc_word_char = LinearSVC(C=0.1)\n",
    "scores = cross_validate(best_svc_word_char, X_train_word_char, y_train, scoring='f1', cv=splitter)\n",
    "scores['test_score'].mean()"
   ]
  },
  {
   "cell_type": "code",
   "execution_count": 55,
   "id": "e3bca689",
   "metadata": {},
   "outputs": [
    {
     "data": {
      "text/plain": [
       "0.017652931736018562"
      ]
     },
     "execution_count": 55,
     "metadata": {},
     "output_type": "execute_result"
    }
   ],
   "source": [
    "scores['test_score'].std()"
   ]
  },
  {
   "attachments": {},
   "cell_type": "markdown",
   "id": "16bcf5ee-0cf4-42b5-9a1d-e155f97aabf0",
   "metadata": {},
   "source": [
    "## Valutazione sul test set"
   ]
  },
  {
   "attachments": {},
   "cell_type": "markdown",
   "id": "53c6273e",
   "metadata": {},
   "source": [
    "Poiché utilizzare n-grammi di parole e caratteri pare portare a una performance leggermente migliore, testiamo il modello con queste feature anche sul test set."
   ]
  },
  {
   "cell_type": "code",
   "execution_count": 56,
   "id": "ecd12f27-90b8-49e4-8b8a-ab516a056f6a",
   "metadata": {
    "tags": []
   },
   "outputs": [],
   "source": [
    "test_dataset = []\n",
    "y_test = []\n",
    "\n",
    "for file_path in test_files:\n",
    "    doc_sentences = get_sentences_from_file(file_path)\n",
    "    test_dataset.append(doc_sentences)\n",
    "    y_test.append(int(file_path.split('-')[2]))\n",
    "\n",
    "test_features = extract_features(test_dataset)\n",
    "test_features = select_type_of_features(test_features, ['word', 'char'])"
   ]
  },
  {
   "cell_type": "code",
   "execution_count": 57,
   "id": "9fd3009b",
   "metadata": {},
   "outputs": [
    {
     "data": {
      "text/plain": [
       "1000"
      ]
     },
     "execution_count": 57,
     "metadata": {},
     "output_type": "execute_result"
    }
   ],
   "source": [
    "len(test_features)"
   ]
  },
  {
   "cell_type": "code",
   "execution_count": 58,
   "id": "cfbd0d9b",
   "metadata": {},
   "outputs": [],
   "source": [
    "X_test = word_c_vectorizer.transform(test_features)\n",
    "X_test = word_c_scaler.transform(X_test)"
   ]
  },
  {
   "cell_type": "code",
   "execution_count": 59,
   "id": "2d557f43-d1f4-4692-a6fb-d45a2da6e596",
   "metadata": {
    "tags": []
   },
   "outputs": [
    {
     "data": {
      "text/plain": [
       "<1000x4494 sparse matrix of type '<class 'numpy.float64'>'\n",
       "\twith 80254 stored elements in Compressed Sparse Row format>"
      ]
     },
     "execution_count": 59,
     "metadata": {},
     "output_type": "execute_result"
    }
   ],
   "source": [
    "X_test"
   ]
  },
  {
   "cell_type": "code",
   "execution_count": 60,
   "id": "75e7abfd",
   "metadata": {},
   "outputs": [
    {
     "data": {
      "text/plain": [
       "(3000, 4494)"
      ]
     },
     "execution_count": 60,
     "metadata": {},
     "output_type": "execute_result"
    }
   ],
   "source": [
    "X_train_word_char.shape"
   ]
  },
  {
   "cell_type": "code",
   "execution_count": 61,
   "id": "ba6598a6",
   "metadata": {},
   "outputs": [
    {
     "data": {
      "text/plain": [
       "LinearSVC(C=0.1)"
      ]
     },
     "execution_count": 61,
     "metadata": {},
     "output_type": "execute_result"
    }
   ],
   "source": [
    "best_svc_word_char.fit(X_train_word_char, y_train)"
   ]
  },
  {
   "cell_type": "code",
   "execution_count": 62,
   "id": "ec3f65e3-6767-4e0a-9bc0-4dca8b2ff828",
   "metadata": {
    "tags": []
   },
   "outputs": [
    {
     "name": "stdout",
     "output_type": "stream",
     "text": [
      "              precision    recall  f1-score   support\n",
      "\n",
      "           0       0.56      0.59      0.57       323\n",
      "           1       0.80      0.78      0.79       677\n",
      "\n",
      "    accuracy                           0.72      1000\n",
      "   macro avg       0.68      0.68      0.68      1000\n",
      "weighted avg       0.72      0.72      0.72      1000\n",
      "\n"
     ]
    }
   ],
   "source": [
    "y_test_pred = best_svc_word_char.predict(X_test)\n",
    "print(classification_report(y_test, y_test_pred, zero_division=0))"
   ]
  },
  {
   "cell_type": "code",
   "execution_count": 63,
   "id": "e2cbf27f-f8be-4fa5-a61d-c683e992d596",
   "metadata": {
    "tags": []
   },
   "outputs": [
    {
     "data": {
      "image/png": "[encoded data removed]",
      "text/plain": [
       "<Figure size 640x480 with 2 Axes>"
      ]
     },
     "metadata": {},
     "output_type": "display_data"
    }
   ],
   "source": [
    "from sklearn.metrics import ConfusionMatrixDisplay\n",
    "plt.rcParams.update({'font.size': 18})\n",
    "ConfusionMatrixDisplay.from_predictions(y_test, y_test_pred, xticks_rotation='vertical', cmap='Blues', normalize='true')\n",
    "plt.xticks(fontsize=16)\n",
    "plt.yticks(fontsize=16)\n",
    "plt.xlabel('Etichetta predetta', fontsize=16)\n",
    "plt.ylabel('Etichetta reale', fontsize=16)\n",
    "plt.savefig('conf_matrix_SVC_n-grammi.pdf', dpi=300, bbox_inches='tight')\n",
    "plt.show()"
   ]
  },
  {
   "cell_type": "code",
   "execution_count": 64,
   "id": "f04ea07e",
   "metadata": {},
   "outputs": [
    {
     "data": {
      "text/plain": [
       "0.72"
      ]
     },
     "execution_count": 64,
     "metadata": {},
     "output_type": "execute_result"
    }
   ],
   "source": [
    "accuracy_score(y_test_pred, y_test)"
   ]
  },
  {
   "attachments": {},
   "cell_type": "markdown",
   "id": "4bf34922",
   "metadata": {},
   "source": [
    "# Feature importance"
   ]
  },
  {
   "cell_type": "code",
   "execution_count": 65,
   "id": "0a20ce18",
   "metadata": {},
   "outputs": [
    {
     "data": {
      "text/plain": [
       "(1, 4494)"
      ]
     },
     "execution_count": 65,
     "metadata": {},
     "output_type": "execute_result"
    }
   ],
   "source": [
    "coefs = best_svc_word_char.coef_\n",
    "coefs.shape"
   ]
  },
  {
   "cell_type": "code",
   "execution_count": 66,
   "id": "a6728fcd",
   "metadata": {},
   "outputs": [
    {
     "data": {
      "text/plain": [
       "4494"
      ]
     },
     "execution_count": 66,
     "metadata": {},
     "output_type": "execute_result"
    }
   ],
   "source": [
    "features_names = word_c_vectorizer.get_feature_names_out(X_train_word_char).tolist()\n",
    "len(features_names)"
   ]
  },
  {
   "cell_type": "code",
   "execution_count": 67,
   "id": "b5878419",
   "metadata": {},
   "outputs": [],
   "source": [
    "feature_importances = {feature_name: coef for feature_name, coef in zip(features_names, coefs[0])}"
   ]
  },
  {
   "cell_type": "code",
   "execution_count": 68,
   "id": "4481ad64",
   "metadata": {},
   "outputs": [],
   "source": [
    "sorted_feature_importances = dict(sorted(feature_importances.items(), key=lambda item: item[1], reverse=True))"
   ]
  },
  {
   "cell_type": "code",
   "execution_count": 69,
   "id": "be5fa43c",
   "metadata": {},
   "outputs": [
    {
     "data": {
      "image/png": "[encoded data removed]",
      "text/plain": [
       "<Figure size 640x480 with 1 Axes>"
      ]
     },
     "metadata": {},
     "output_type": "display_data"
    }
   ],
   "source": [
    "num_to_plot = 15\n",
    "plt.rcParams.update({'font.size': 12})\n",
    "plt.barh(range(num_to_plot), list(sorted_feature_importances.values())[:num_to_plot])\n",
    "plt.yticks(range(num_to_plot), list(sorted_feature_importances.keys())[:num_to_plot])\n",
    "plt.xlabel('Importanza')\n",
    "plt.savefig('feature_importanti_n-grammi.pdf', dpi=300, bbox_inches='tight')\n",
    "plt.show()"
   ]
  }
 ],
 "metadata": {
  "kernelspec": {
   "display_name": "Python 3 (ipykernel)",
   "language": "python",
   "name": "python3"
  },
  "language_info": {
   "codemirror_mode": {
    "name": "ipython",
    "version": 3
   },
   "file_extension": ".py",
   "mimetype": "text/x-python",
   "name": "python",
   "nbconvert_exporter": "python",
   "pygments_lexer": "ipython3",
   "version": "3.9.7"
  }
 },
 "nbformat": 4,
 "nbformat_minor": 5
}
