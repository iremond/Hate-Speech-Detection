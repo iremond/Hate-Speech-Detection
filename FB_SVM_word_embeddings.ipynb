{
 "cells": [
  {
   "cell_type": "code",
   "execution_count": 55,
   "id": "59669997-c509-4d68-8911-1efca05c1c35",
   "metadata": {
    "tags": []
   },
   "outputs": [],
   "source": [
    "import numpy as np\n",
    "import pandas as pd\n",
    "import os"
   ]
  },
  {
   "attachments": {},
   "cell_type": "markdown",
   "id": "b127c787-6867-44d1-a4c8-35159d2a74b4",
   "metadata": {},
   "source": [
    "# Caricamento dei word embeddings"
   ]
  },
  {
   "cell_type": "code",
   "execution_count": 56,
   "id": "eefaf4d6-a53c-4389-a5d3-2de964b30155",
   "metadata": {
    "tags": []
   },
   "outputs": [],
   "source": [
    "embeddings_dim = 128\n",
    "embeddings_path = f'..\\data/word_embeddings/itwac{embeddings_dim}.txt'"
   ]
  },
  {
   "cell_type": "code",
   "execution_count": 57,
   "id": "36e2c11b-8ab4-4f23-aa8a-97d5665c304c",
   "metadata": {
    "tags": []
   },
   "outputs": [],
   "source": [
    "def load_word_embeddings(src_path):\n",
    "    '''crea un dizionario contenente gli embedding di parole presente nel file src_path'''\n",
    "    embeddings = dict() # dizionario che conterrà gli embedding\n",
    "    for line in open(embeddings_path, 'r'):\n",
    "        line = line.strip().split('\\t')\n",
    "        word = line[0]\n",
    "        embedding = line[1:]\n",
    "        embedding = [float(comp) for comp in embedding] # convertiamo le componenti dell'embedding in float\n",
    "        embeddings[word] = np.asarray(embedding) # trasformiamo la lista delle componenti in un vettore di numpy\n",
    "    return embeddings"
   ]
  },
  {
   "cell_type": "code",
   "execution_count": 58,
   "id": "2770cce9-0575-4096-87a2-b9a025657212",
   "metadata": {
    "tags": []
   },
   "outputs": [],
   "source": [
    "embeddings = load_word_embeddings(embeddings_path)"
   ]
  },
  {
   "cell_type": "code",
   "execution_count": 59,
   "id": "1ec22edd-ad88-4d83-94d8-aea36240e4ee",
   "metadata": {
    "tags": []
   },
   "outputs": [
    {
     "data": {
      "text/plain": [
       "1247492"
      ]
     },
     "execution_count": 59,
     "metadata": {},
     "output_type": "execute_result"
    }
   ],
   "source": [
    "len(embeddings)"
   ]
  },
  {
   "attachments": {},
   "cell_type": "markdown",
   "id": "5dd88809-e622-4611-b2f6-bd6cc04771bc",
   "metadata": {},
   "source": [
    "# Caricamento dataset"
   ]
  },
  {
   "cell_type": "code",
   "execution_count": 60,
   "id": "89652602-01c4-4c31-b300-6f6524bbffe2",
   "metadata": {
    "tags": []
   },
   "outputs": [],
   "source": [
    "conllu_dir = 'FB_profilingUD_annotazione_linguistica'"
   ]
  },
  {
   "cell_type": "code",
   "execution_count": 61,
   "id": "7e3a980d-e814-4843-b923-568854416877",
   "metadata": {
    "tags": []
   },
   "outputs": [
    {
     "name": "stdout",
     "output_type": "stream",
     "text": [
      "Documenti training set: 3000\n",
      "Documenti test set: 1000\n"
     ]
    }
   ],
   "source": [
    "train_files = []\n",
    "test_files = []\n",
    "\n",
    "for file_name in os.listdir(conllu_dir):\n",
    "    file_path = os.path.join(conllu_dir, file_name)\n",
    "    if 'train' in file_name:\n",
    "        train_files.append(file_path)\n",
    "    elif 'test' in file_name:\n",
    "        test_files.append(file_path)\n",
    "\n",
    "print('Documenti training set:', len(train_files))\n",
    "print('Documenti test set:', len(test_files))"
   ]
  },
  {
   "attachments": {},
   "cell_type": "markdown",
   "id": "64735053-30fe-4658-b389-debe4d0eb4db",
   "metadata": {},
   "source": [
    "### Normalizzazione delle parole"
   ]
  },
  {
   "cell_type": "code",
   "execution_count": 62,
   "id": "f338a725-2026-40ee-90ba-ce5c12d32121",
   "metadata": {
    "tags": []
   },
   "outputs": [],
   "source": [
    "import re\n",
    "\n",
    "def get_digits(text):\n",
    "    try:\n",
    "      val = int(text) # converte la stringa in intero\n",
    "    except:\n",
    "      text = re.sub('\\d', '@Dg', text) # sostituisce a ogni cifra in text la stringa '@Dd'\n",
    "      return text\n",
    "    if val >= 0 and val < 2100: # se è un numero tra 0 e 2100\n",
    "      return str(val) # viene lasciato uguale\n",
    "    else:\n",
    "      return \"DIGLEN_\" + str(len(str(val))) # viene indicato il numero di cifre che compongono quel numero\n",
    "\n",
    "def normalize_text(word):\n",
    "    if \"http\" in word or (\".\" in word and \"/\" in word):\n",
    "      word = str(\"___URL___\")\n",
    "      return word\n",
    "    if len(word) > 26:\n",
    "      return \"__LONG-LONG__\"\n",
    "    new_word = get_digits(word)\n",
    "    if new_word != word:\n",
    "      word = new_word\n",
    "    if word[0].isupper(): # se la parola inizia con la lettera maiuscola\n",
    "      word = word.capitalize() # viene trasformata tutta in maiuscolo\n",
    "    else:\n",
    "      word = word.lower() # tutta in minuscolo\n",
    "    return word"
   ]
  },
  {
   "cell_type": "code",
   "execution_count": 63,
   "id": "edba3027-8336-4044-beec-b2c063e068f7",
   "metadata": {
    "tags": []
   },
   "outputs": [],
   "source": [
    "def get_tokens_from_file(src_path):\n",
    "    doc_tokens = []\n",
    "    lines_to_skip = 0\n",
    "    take_pos = False\n",
    "    for line in open(src_path, 'r'):\n",
    "        # print(f'\\nRiga: {line.strip()}')\n",
    "        if line[0].isdigit(): # cioè non siamo nell'indentazione\n",
    "            splitted_line = line.strip().split('\\t')\n",
    "            if '-' in splitted_line[0]:\n",
    "                # print('Ho trovato un - ')\n",
    "                skip_ids = splitted_line[0].split('-')\n",
    "                # print('Indici da saltare', skip_ids)\n",
    "                lines_to_skip = int(skip_ids[1]) - int(skip_ids[0]) + 1 # l'indice ci indica quali righe saltare\n",
    "                take_pos = True # booleano che indica che dobbiamo prendere la pos della prossima parola\n",
    "                word = normalize_text(splitted_line[1]) # normalizza la parola\n",
    "                pos = splitted_line[3]\n",
    "                token = {'word': word, 'pos': pos} # crea il dizionario del token\n",
    "                # print(f'Preso token {word}')\n",
    "                doc_tokens.append(token) # inserisce il dizionario alla lista dei token del documento\n",
    "            else: # se non c'è il trattito nell'indice\n",
    "                if lines_to_skip == 0:\n",
    "                    word = normalize_text(splitted_line[1])\n",
    "                    pos = splitted_line[3]\n",
    "                    token = {'word': word, 'pos': pos}\n",
    "                    # print(f'Preso token {word}')\n",
    "                    doc_tokens.append(token)\n",
    "                if take_pos:\n",
    "                    pos = splitted_line[3]\n",
    "                    doc_tokens[-1]['pos'] = pos\n",
    "                    take_pos = False\n",
    "                lines_to_skip = max(0, lines_to_skip-1)\n",
    "    return doc_tokens"
   ]
  },
  {
   "cell_type": "code",
   "execution_count": 64,
   "id": "99fab06a-03d2-46d8-a1b2-95552b7aaac3",
   "metadata": {
    "tags": []
   },
   "outputs": [],
   "source": [
    "train_dataset = []\n",
    "y_train = []\n",
    "\n",
    "for path in train_files:\n",
    "    post_tokens = get_tokens_from_file(path)\n",
    "    train_dataset.append(post_tokens)\n",
    "    y_train.append(int(path.split('-')[2]))"
   ]
  },
  {
   "cell_type": "code",
   "execution_count": 65,
   "id": "59cb7717-0f95-4418-8774-bd8cb380276d",
   "metadata": {
    "tags": []
   },
   "outputs": [
    {
     "data": {
      "text/plain": [
       "[{'word': 'Ma', 'pos': 'CCONJ'},\n",
       " {'word': 'e', 'pos': 'CCONJ'},\n",
       " {'word': 'vero', 'pos': 'ADJ'},\n",
       " {'word': 'che', 'pos': 'SCONJ'},\n",
       " {'word': 'avete', 'pos': 'AUX'},\n",
       " {'word': 'approvato', 'pos': 'VERB'},\n",
       " {'word': 'una', 'pos': 'DET'},\n",
       " {'word': 'legge', 'pos': 'NOUN'},\n",
       " {'word': 'per', 'pos': 'ADP'},\n",
       " {'word': 'i', 'pos': 'DET'},\n",
       " {'word': 'parlamentari', 'pos': 'NOUN'},\n",
       " {'word': 'in', 'pos': 'ADP'},\n",
       " {'word': 'crisi', 'pos': 'NOUN'},\n",
       " {'word': 'a', 'pos': 'ADP'},\n",
       " {'word': 'fine', 'pos': 'NOUN'},\n",
       " {'word': 'legislatura', 'pos': 'ADJ'},\n",
       " {'word': '?', 'pos': 'PUNCT'},\n",
       " {'word': 'Poverini', 'pos': 'NOUN'},\n",
       " {'word': 'dopo', 'pos': 'ADP'},\n",
       " {'word': 'tutte', 'pos': 'DET'},\n",
       " {'word': 'le', 'pos': 'DET'},\n",
       " {'word': 'miniere', 'pos': 'NOUN'},\n",
       " {'word': 'scavate', 'pos': 'ADJ'},\n",
       " {'word': 'ci', 'pos': 'PRON'},\n",
       " {'word': 'vuole', 'pos': 'VERB'},\n",
       " {'word': 'proprio', 'pos': 'ADV'},\n",
       " {'word': '!!!', 'pos': 'PUNCT'},\n",
       " {'word': '!!!', 'pos': 'PUNCT'}]"
      ]
     },
     "execution_count": 65,
     "metadata": {},
     "output_type": "execute_result"
    }
   ],
   "source": [
    "train_dataset[1]"
   ]
  },
  {
   "cell_type": "code",
   "execution_count": 66,
   "id": "e68c89dc",
   "metadata": {},
   "outputs": [
    {
     "data": {
      "text/plain": [
       "3000"
      ]
     },
     "execution_count": 66,
     "metadata": {},
     "output_type": "execute_result"
    }
   ],
   "source": [
    "len(y_train)"
   ]
  },
  {
   "attachments": {},
   "cell_type": "markdown",
   "id": "2efd1f94-97c2-4b19-a92e-35f84201eecd",
   "metadata": {},
   "source": [
    "# Estrazione features"
   ]
  },
  {
   "attachments": {},
   "cell_type": "markdown",
   "id": "08fe0d76",
   "metadata": {},
   "source": [
    "Definisco alcune funzioni che permettono di aggregare, in modi diversi, i word embedding delle parole contenute in ogni post. Nello specifico, è sufficiente concentrarsi soltanto su nomi, aggettivi e verbi, dato il task da svolgere."
   ]
  },
  {
   "cell_type": "code",
   "execution_count": 67,
   "id": "0985a75d-7d27-43e3-8306-2efcaf2bfb29",
   "metadata": {
    "tags": []
   },
   "outputs": [],
   "source": [
    "def compute_embeddings_mean(embeddings):\n",
    "    sum_array = np.sum(embeddings, axis=0)\n",
    "    mean_array = np.divide(sum_array, len(embeddings))\n",
    "    return mean_array"
   ]
  },
  {
   "cell_type": "code",
   "execution_count": 68,
   "id": "7b520636-c978-47b9-8e92-60983f3a47c7",
   "metadata": {
    "tags": []
   },
   "outputs": [],
   "source": [
    "def compute_filtered_embeddings_mean(post_tokens):\n",
    "    '''Calcola la media dei word embeddings solo di aggettivi, nomi, verbi e avverbi.'''\n",
    "    post_embeddings = []\n",
    "    \n",
    "    for token in post_tokens:\n",
    "        word = token['word']\n",
    "        pos = token['pos']\n",
    "        if word in embeddings and pos in ['ADJ', 'NOUN', 'VERB', 'ADV']:\n",
    "            post_embeddings.append(embeddings[word])\n",
    "    \n",
    "    if len(post_embeddings) == 0:\n",
    "        post_embeddings = [np.zeros(embeddings_dim)]\n",
    "    \n",
    "    post_embeddings = compute_embeddings_mean(post_embeddings)\n",
    "    return post_embeddings"
   ]
  },
  {
   "cell_type": "code",
   "execution_count": 69,
   "id": "015f6446-e6a5-4397-a858-abd05bc5b1a1",
   "metadata": {
    "tags": []
   },
   "outputs": [],
   "source": [
    "def compute_filtered_embeddings_sep_means(post_tokens):\n",
    "    '''Calcola separamente le medie degli embedding di aggettivi, nomi, verbi e avverbi, e concatena i 4 vettori ottenuti.'''\n",
    "    adj_embeddings = []\n",
    "    noun_embeddings = []\n",
    "    verb_embeddings = []\n",
    "    adv_embeddings = []\n",
    "    \n",
    "    for token in post_tokens:\n",
    "        word = token['word']\n",
    "        pos = token['pos']\n",
    "        if word in embeddings and pos in ['ADJ']:\n",
    "            adj_embeddings.append(embeddings[word])\n",
    "        elif word in embeddings and pos in ['NOUN']:\n",
    "            noun_embeddings.append(embeddings[word])\n",
    "        elif word in embeddings and pos in ['VERB']:\n",
    "            verb_embeddings.append(embeddings[word])\n",
    "        elif word in embeddings and pos in ['ADV']:\n",
    "            adv_embeddings.append(embeddings[word])\n",
    "    \n",
    "    if len(adj_embeddings) == 0:\n",
    "        adj_embeddings = [np.zeros(embeddings_dim)]\n",
    "    if len(noun_embeddings) == 0:\n",
    "        noun_embeddings = [np.zeros(embeddings_dim)]\n",
    "    if len(verb_embeddings) == 0:\n",
    "        verb_embeddings = [np.zeros(embeddings_dim)]\n",
    "    if len(adv_embeddings) == 0:\n",
    "        adv_embeddings = [np.zeros(embeddings_dim)]\n",
    "    \n",
    "    adj_embeddings = np.mean(adj_embeddings, axis=0)\n",
    "    noun_embeddings = np.mean(noun_embeddings, axis=0)\n",
    "    verb_embeddings = np.mean(verb_embeddings, axis=0)\n",
    "    adv_embeddings = np.mean(adv_embeddings, axis=0)\n",
    "    \n",
    "    post_embeddings = np.concatenate([adj_embeddings, noun_embeddings, verb_embeddings, adv_embeddings], axis=None)\n",
    "    return post_embeddings"
   ]
  },
  {
   "cell_type": "code",
   "execution_count": 70,
   "id": "4e6dcb7f",
   "metadata": {},
   "outputs": [],
   "source": [
    "def compute_filtered_embeddings_sum(post_tokens):\n",
    "    '''Calcola la somma dei word embeddings solo di aggettivi, nomi, verbi e avverbi.'''\n",
    "    post_embeddings = []\n",
    "    \n",
    "    for token in post_tokens:\n",
    "        word = token['word']\n",
    "        pos = token['pos']\n",
    "        if word in embeddings and pos in ['ADJ', 'NOUN', 'VERB', 'ADV']:\n",
    "            post_embeddings.append(embeddings[word])\n",
    "    \n",
    "    if len(post_embeddings) == 0:\n",
    "        post_embeddings = [np.zeros(embeddings_dim)]\n",
    "    \n",
    "    post_embeddings = np.sum(post_embeddings, axis=0)\n",
    "    return post_embeddings"
   ]
  },
  {
   "cell_type": "code",
   "execution_count": 71,
   "id": "69818fed",
   "metadata": {},
   "outputs": [],
   "source": [
    "def compute_filtered_embeddings_sep_sums(post_tokens):\n",
    "    '''Calcola separamente la somma degli embedding di aggettivi, nomi, verbi e avverbi, e concatena i 4 vettori ottenuti.'''\n",
    "    adj_embeddings = []\n",
    "    noun_embeddings = []\n",
    "    verb_embeddings = []\n",
    "    adv_embeddings = []\n",
    "    \n",
    "    for token in post_tokens:\n",
    "        word = token['word']\n",
    "        pos = token['pos']\n",
    "        if word in embeddings and pos in ['ADJ']:\n",
    "            adj_embeddings.append(embeddings[word])\n",
    "        elif word in embeddings and pos in ['NOUN']:\n",
    "            noun_embeddings.append(embeddings[word])\n",
    "        elif word in embeddings and pos in ['VERB']:\n",
    "            verb_embeddings.append(embeddings[word])\n",
    "        elif word in embeddings and pos in ['ADV']:\n",
    "            adv_embeddings.append(embeddings[word])\n",
    "    \n",
    "    if len(adj_embeddings) == 0:\n",
    "        adj_embeddings = [np.zeros(embeddings_dim)]\n",
    "    if len(noun_embeddings) == 0:\n",
    "        noun_embeddings = [np.zeros(embeddings_dim)]\n",
    "    if len(verb_embeddings) == 0:\n",
    "        verb_embeddings = [np.zeros(embeddings_dim)]\n",
    "    if len(adv_embeddings) == 0:\n",
    "        adv_embeddings = [np.zeros(embeddings_dim)]\n",
    "    \n",
    "    adj_embeddings = np.sum(adj_embeddings, axis=0)\n",
    "    noun_embeddings = np.sum(noun_embeddings, axis=0)\n",
    "    verb_embeddings = np.sum(verb_embeddings, axis=0)\n",
    "    adv_embeddings = np.sum(adv_embeddings, axis=0)\n",
    "    \n",
    "    post_embeddings = np.concatenate([adj_embeddings, noun_embeddings, verb_embeddings, adv_embeddings], axis=None)\n",
    "    return post_embeddings"
   ]
  },
  {
   "cell_type": "code",
   "execution_count": 72,
   "id": "0279eb10",
   "metadata": {},
   "outputs": [],
   "source": [
    "def compute_filtered_embeddings_product(post_tokens):\n",
    "    '''Calcola il prodotto dei word embeddings solo di aggettivi, nomi, verbi e avverbi.'''\n",
    "    post_embeddings = []\n",
    "    \n",
    "    for token in post_tokens:\n",
    "        word = token['word']\n",
    "        pos = token['pos']\n",
    "        if word in embeddings and pos in ['ADJ', 'NOUN', 'VERB', 'ADV']:\n",
    "            post_embeddings.append(embeddings[word])\n",
    "    \n",
    "    if len(post_embeddings) == 0:\n",
    "        post_embeddings = [np.zeros(embeddings_dim)]\n",
    "    \n",
    "    post_embeddings = np.prod(post_embeddings, axis=0)\n",
    "    return post_embeddings"
   ]
  },
  {
   "cell_type": "code",
   "execution_count": 73,
   "id": "4159005f",
   "metadata": {},
   "outputs": [],
   "source": [
    "def compute_filtered_embeddings_sep_products(post_tokens):\n",
    "    '''Calcola separamente il prodotto degli embedding di aggettivi, nomi, verbi e avverbi, e concatena i 4 vettori ottenuti.'''\n",
    "    adj_embeddings = []\n",
    "    noun_embeddings = []\n",
    "    verb_embeddings = []\n",
    "    adv_embeddings = []\n",
    "    \n",
    "    for token in post_tokens:\n",
    "        word = token['word']\n",
    "        pos = token['pos']\n",
    "        if word in embeddings and pos in ['ADJ']:\n",
    "            adj_embeddings.append(embeddings[word])\n",
    "        elif word in embeddings and pos in ['NOUN']:\n",
    "            noun_embeddings.append(embeddings[word])\n",
    "        elif word in embeddings and pos in ['VERB']:\n",
    "            verb_embeddings.append(embeddings[word])\n",
    "        elif word in embeddings and pos in ['ADV']:\n",
    "            adv_embeddings.append(embeddings[word])\n",
    "    \n",
    "    if len(adj_embeddings) == 0:\n",
    "        adj_embeddings = [np.zeros(embeddings_dim)]\n",
    "    if len(noun_embeddings) == 0:\n",
    "        noun_embeddings = [np.zeros(embeddings_dim)]\n",
    "    if len(verb_embeddings) == 0:\n",
    "        verb_embeddings = [np.zeros(embeddings_dim)]\n",
    "    if len(adv_embeddings) == 0:\n",
    "        adv_embeddings = [np.zeros(embeddings_dim)]\n",
    "    \n",
    "    adj_embeddings = np.prod(adj_embeddings, axis=0)\n",
    "    noun_embeddings = np.prod(noun_embeddings, axis=0)\n",
    "    verb_embeddings = np.prod(verb_embeddings, axis=0)\n",
    "    adv_embeddings = np.prod(adv_embeddings, axis=0)\n",
    "    \n",
    "    post_embeddings = np.concatenate([adj_embeddings, noun_embeddings, verb_embeddings, adv_embeddings], axis=None)\n",
    "    return post_embeddings"
   ]
  },
  {
   "attachments": {},
   "cell_type": "markdown",
   "id": "6d9fbabc-807d-4029-8b69-a70eeb18bd74",
   "metadata": {},
   "source": [
    "### Creazione del training set  \n",
    "\n",
    "Ogni post è rappresentato dall'aggregazione degli embedding dei token che lo compongono. Definisco alcune funzioni che estraggono soltanto il tipo di aggregazione che mi interessa (media, somma, prodotto o concatenazione di medie/somme/prodotti)."
   ]
  },
  {
   "cell_type": "code",
   "execution_count": 74,
   "id": "b13ed992-73a5-4d3b-88a7-a841fe1be9e1",
   "metadata": {
    "tags": []
   },
   "outputs": [],
   "source": [
    "def extract_means(dataset):\n",
    "    dataset_features = []\n",
    "    for post_tokens in dataset:\n",
    "        post_embeddings = compute_filtered_embeddings_mean(post_tokens)\n",
    "        dataset_features.append(post_embeddings)\n",
    "    return dataset_features"
   ]
  },
  {
   "cell_type": "code",
   "execution_count": 75,
   "id": "1cd5d6a3",
   "metadata": {},
   "outputs": [],
   "source": [
    "def extract_sep_means(dataset):\n",
    "    dataset_features = []\n",
    "    for post_tokens in dataset:\n",
    "        post_embeddings = compute_filtered_embeddings_sep_means(post_tokens)\n",
    "        dataset_features.append(post_embeddings)\n",
    "    return dataset_features"
   ]
  },
  {
   "cell_type": "code",
   "execution_count": 76,
   "id": "b7f93830",
   "metadata": {},
   "outputs": [],
   "source": [
    "def extract_sums(dataset):\n",
    "    dataset_features = []\n",
    "    for post_tokens in dataset:\n",
    "        post_embeddings = compute_filtered_embeddings_sum(post_tokens)\n",
    "        dataset_features.append(post_embeddings)\n",
    "    return dataset_features"
   ]
  },
  {
   "cell_type": "code",
   "execution_count": 77,
   "id": "0d2de086",
   "metadata": {},
   "outputs": [],
   "source": [
    "def extract_sep_sums(dataset):\n",
    "    dataset_features = []\n",
    "    for post_tokens in dataset:\n",
    "        post_embeddings = compute_filtered_embeddings_sep_sums(post_tokens)\n",
    "        dataset_features.append(post_embeddings)\n",
    "    return dataset_features"
   ]
  },
  {
   "cell_type": "code",
   "execution_count": 78,
   "id": "8c44e673",
   "metadata": {},
   "outputs": [],
   "source": [
    "def extract_products(dataset):\n",
    "    dataset_features = []\n",
    "    for post_tokens in dataset:\n",
    "        post_embeddings = compute_filtered_embeddings_product(post_tokens)\n",
    "        dataset_features.append(post_embeddings)\n",
    "    return dataset_features"
   ]
  },
  {
   "cell_type": "code",
   "execution_count": 79,
   "id": "2151b235",
   "metadata": {},
   "outputs": [],
   "source": [
    "def extract_sep_products(dataset):\n",
    "    dataset_features = []\n",
    "    for post_tokens in dataset:\n",
    "        post_embeddings = compute_filtered_embeddings_sep_products(post_tokens)\n",
    "        dataset_features.append(post_embeddings)\n",
    "    return dataset_features"
   ]
  },
  {
   "cell_type": "code",
   "execution_count": 80,
   "id": "eec4c526-20e6-4009-861f-d2a84af2d3ea",
   "metadata": {
    "tags": []
   },
   "outputs": [],
   "source": [
    "train_means = extract_means(train_dataset)\n",
    "train_sep_means = extract_sep_means(train_dataset)\n",
    "train_sums = extract_sums(train_dataset)\n",
    "train_sep_sums = extract_sep_sums(train_dataset)\n",
    "train_products = extract_products(train_dataset)\n",
    "train_sep_products = extract_sep_products(train_dataset)"
   ]
  },
  {
   "attachments": {},
   "cell_type": "markdown",
   "id": "780e2de5-7869-4e3d-8db9-378d4a20d09c",
   "metadata": {},
   "source": [
    "# Normalizzazione delle features dei diversi dataset"
   ]
  },
  {
   "cell_type": "code",
   "execution_count": 81,
   "id": "9f0233b0-b0eb-46b8-9668-3b6e238dd0ea",
   "metadata": {
    "tags": []
   },
   "outputs": [
    {
     "data": {
      "text/plain": [
       "(3000, 128)"
      ]
     },
     "execution_count": 81,
     "metadata": {},
     "output_type": "execute_result"
    }
   ],
   "source": [
    "from sklearn.preprocessing import MinMaxScaler\n",
    "\n",
    "mean_scaler = MinMaxScaler()\n",
    "X_train_means = mean_scaler.fit_transform(train_means)\n",
    "X_train_means.shape\n",
    "# X_train = np.stack(train_features, axis=0)"
   ]
  },
  {
   "cell_type": "code",
   "execution_count": 82,
   "id": "6359f182",
   "metadata": {},
   "outputs": [
    {
     "data": {
      "text/plain": [
       "(3000, 512)"
      ]
     },
     "execution_count": 82,
     "metadata": {},
     "output_type": "execute_result"
    }
   ],
   "source": [
    "sep_means_scaler = MinMaxScaler()\n",
    "X_train_sep_means = sep_means_scaler.fit_transform(train_sep_means)\n",
    "X_train_sep_means.shape"
   ]
  },
  {
   "cell_type": "code",
   "execution_count": 83,
   "id": "a1868707",
   "metadata": {},
   "outputs": [
    {
     "data": {
      "text/plain": [
       "(3000, 128)"
      ]
     },
     "execution_count": 83,
     "metadata": {},
     "output_type": "execute_result"
    }
   ],
   "source": [
    "sum_scaler = MinMaxScaler()\n",
    "X_train_sums = sum_scaler.fit_transform(train_sums)\n",
    "X_train_sums.shape"
   ]
  },
  {
   "cell_type": "code",
   "execution_count": 84,
   "id": "a8a20c79",
   "metadata": {},
   "outputs": [
    {
     "data": {
      "text/plain": [
       "(3000, 512)"
      ]
     },
     "execution_count": 84,
     "metadata": {},
     "output_type": "execute_result"
    }
   ],
   "source": [
    "sep_sums_scaler = MinMaxScaler()\n",
    "X_train_sep_sums = sep_sums_scaler.fit_transform(train_sep_sums)\n",
    "X_train_sep_sums.shape"
   ]
  },
  {
   "cell_type": "code",
   "execution_count": 85,
   "id": "c575e179",
   "metadata": {},
   "outputs": [
    {
     "data": {
      "text/plain": [
       "(3000, 128)"
      ]
     },
     "execution_count": 85,
     "metadata": {},
     "output_type": "execute_result"
    }
   ],
   "source": [
    "prod_scaler = MinMaxScaler()\n",
    "X_train_products = prod_scaler.fit_transform(train_products)\n",
    "X_train_products.shape"
   ]
  },
  {
   "cell_type": "code",
   "execution_count": 86,
   "id": "347fe5fd",
   "metadata": {},
   "outputs": [
    {
     "data": {
      "text/plain": [
       "(3000, 512)"
      ]
     },
     "execution_count": 86,
     "metadata": {},
     "output_type": "execute_result"
    }
   ],
   "source": [
    "sep_prod_scaler = MinMaxScaler()\n",
    "X_train_sep_products = sep_prod_scaler.fit_transform(train_sep_products)\n",
    "X_train_sep_products.shape"
   ]
  },
  {
   "attachments": {},
   "cell_type": "markdown",
   "id": "4734d182-5d87-45d0-9049-18d319e3080e",
   "metadata": {},
   "source": [
    "# Classificazione"
   ]
  },
  {
   "cell_type": "code",
   "execution_count": 87,
   "id": "2f76cb57",
   "metadata": {},
   "outputs": [],
   "source": [
    "from sklearn.svm import LinearSVC\n",
    "from sklearn.model_selection import cross_validate, KFold, cross_val_predict\n",
    "from sklearn.metrics import classification_report, ConfusionMatrixDisplay, accuracy_score, f1_score"
   ]
  },
  {
   "attachments": {},
   "cell_type": "markdown",
   "id": "86be82cd",
   "metadata": {},
   "source": [
    "## Model selection"
   ]
  },
  {
   "cell_type": "code",
   "execution_count": 88,
   "id": "512cf4af",
   "metadata": {},
   "outputs": [],
   "source": [
    "splitter = KFold(n_splits=5, shuffle=True, random_state=42)"
   ]
  },
  {
   "attachments": {},
   "cell_type": "markdown",
   "id": "fea5a5f6",
   "metadata": {},
   "source": [
    "### Scelta di C nel modello addestrato sulle medie degli embeddings"
   ]
  },
  {
   "cell_type": "code",
   "execution_count": 89,
   "id": "44a67766",
   "metadata": {},
   "outputs": [
    {
     "data": {
      "text/html": [
       "<div>\n",
       "<style scoped>\n",
       "    .dataframe tbody tr th:only-of-type {\n",
       "        vertical-align: middle;\n",
       "    }\n",
       "\n",
       "    .dataframe tbody tr th {\n",
       "        vertical-align: top;\n",
       "    }\n",
       "\n",
       "    .dataframe thead th {\n",
       "        text-align: right;\n",
       "    }\n",
       "</style>\n",
       "<table border=\"1\" class=\"dataframe\">\n",
       "  <thead>\n",
       "    <tr style=\"text-align: right;\">\n",
       "      <th></th>\n",
       "      <th>C</th>\n",
       "      <th>training_accuracy</th>\n",
       "      <th>val_accuracy</th>\n",
       "      <th>val_accuracy_std</th>\n",
       "    </tr>\n",
       "  </thead>\n",
       "  <tbody>\n",
       "    <tr>\n",
       "      <th>0</th>\n",
       "      <td>0.0001</td>\n",
       "      <td>0.543000</td>\n",
       "      <td>0.539667</td>\n",
       "      <td>0.008844</td>\n",
       "    </tr>\n",
       "    <tr>\n",
       "      <th>1</th>\n",
       "      <td>0.0010</td>\n",
       "      <td>0.705333</td>\n",
       "      <td>0.692333</td>\n",
       "      <td>0.013646</td>\n",
       "    </tr>\n",
       "    <tr>\n",
       "      <th>2</th>\n",
       "      <td>0.0100</td>\n",
       "      <td>0.748000</td>\n",
       "      <td>0.733667</td>\n",
       "      <td>0.012884</td>\n",
       "    </tr>\n",
       "    <tr>\n",
       "      <th>3</th>\n",
       "      <td>0.1000</td>\n",
       "      <td>0.777333</td>\n",
       "      <td>0.749667</td>\n",
       "      <td>0.015825</td>\n",
       "    </tr>\n",
       "    <tr>\n",
       "      <th>4</th>\n",
       "      <td>1.0000</td>\n",
       "      <td>0.780000</td>\n",
       "      <td>0.751000</td>\n",
       "      <td>0.019020</td>\n",
       "    </tr>\n",
       "  </tbody>\n",
       "</table>\n",
       "</div>"
      ],
      "text/plain": [
       "        C  training_accuracy  val_accuracy  val_accuracy_std\n",
       "0  0.0001           0.543000      0.539667          0.008844\n",
       "1  0.0010           0.705333      0.692333          0.013646\n",
       "2  0.0100           0.748000      0.733667          0.012884\n",
       "3  0.1000           0.777333      0.749667          0.015825\n",
       "4  1.0000           0.780000      0.751000          0.019020"
      ]
     },
     "execution_count": 89,
     "metadata": {},
     "output_type": "execute_result"
    }
   ],
   "source": [
    "df = pd.DataFrame(np.array([0.0001, 0.001, 0.01, 0.1, 1]), columns = ['C'])\n",
    "for i, c in enumerate(df['C']): # proviamo diversi valori dell'iperparametro regolarizzatore C\n",
    "    svc = LinearSVC(dual=False, C=c)\n",
    "    svc.fit(X_train_means, y_train) # addestriamo il modello con il valore di C da valutare\n",
    "    df.loc[i, 'training_accuracy'] = svc.score(X_train_means, y_train)\n",
    "    scores = cross_validate(svc, X_train_means, y_train, scoring='accuracy', cv=splitter) # effettuiamo la Cross Validation\n",
    "    df.loc[i, 'val_accuracy'] = scores['test_score'].mean()\n",
    "    df.loc[i, 'val_accuracy_std'] = scores['test_score'].std()\n",
    "df"
   ]
  },
  {
   "attachments": {},
   "cell_type": "markdown",
   "id": "a80e9d16",
   "metadata": {},
   "source": [
    "### Scelta di C nel modello addestrato sulla concatenazione di medie"
   ]
  },
  {
   "cell_type": "code",
   "execution_count": 90,
   "id": "2d99e1de",
   "metadata": {},
   "outputs": [
    {
     "data": {
      "text/html": [
       "<div>\n",
       "<style scoped>\n",
       "    .dataframe tbody tr th:only-of-type {\n",
       "        vertical-align: middle;\n",
       "    }\n",
       "\n",
       "    .dataframe tbody tr th {\n",
       "        vertical-align: top;\n",
       "    }\n",
       "\n",
       "    .dataframe thead th {\n",
       "        text-align: right;\n",
       "    }\n",
       "</style>\n",
       "<table border=\"1\" class=\"dataframe\">\n",
       "  <thead>\n",
       "    <tr style=\"text-align: right;\">\n",
       "      <th></th>\n",
       "      <th>C</th>\n",
       "      <th>training_accuracy</th>\n",
       "      <th>val_accuracy</th>\n",
       "      <th>val_accuracy_std</th>\n",
       "    </tr>\n",
       "  </thead>\n",
       "  <tbody>\n",
       "    <tr>\n",
       "      <th>0</th>\n",
       "      <td>0.0001</td>\n",
       "      <td>0.636333</td>\n",
       "      <td>0.612000</td>\n",
       "      <td>0.008844</td>\n",
       "    </tr>\n",
       "    <tr>\n",
       "      <th>1</th>\n",
       "      <td>0.0010</td>\n",
       "      <td>0.737667</td>\n",
       "      <td>0.716333</td>\n",
       "      <td>0.006446</td>\n",
       "    </tr>\n",
       "    <tr>\n",
       "      <th>2</th>\n",
       "      <td>0.0100</td>\n",
       "      <td>0.789333</td>\n",
       "      <td>0.754333</td>\n",
       "      <td>0.011479</td>\n",
       "    </tr>\n",
       "    <tr>\n",
       "      <th>3</th>\n",
       "      <td>0.1000</td>\n",
       "      <td>0.825333</td>\n",
       "      <td>0.755000</td>\n",
       "      <td>0.012561</td>\n",
       "    </tr>\n",
       "    <tr>\n",
       "      <th>4</th>\n",
       "      <td>1.0000</td>\n",
       "      <td>0.838000</td>\n",
       "      <td>0.739667</td>\n",
       "      <td>0.012401</td>\n",
       "    </tr>\n",
       "  </tbody>\n",
       "</table>\n",
       "</div>"
      ],
      "text/plain": [
       "        C  training_accuracy  val_accuracy  val_accuracy_std\n",
       "0  0.0001           0.636333      0.612000          0.008844\n",
       "1  0.0010           0.737667      0.716333          0.006446\n",
       "2  0.0100           0.789333      0.754333          0.011479\n",
       "3  0.1000           0.825333      0.755000          0.012561\n",
       "4  1.0000           0.838000      0.739667          0.012401"
      ]
     },
     "execution_count": 90,
     "metadata": {},
     "output_type": "execute_result"
    }
   ],
   "source": [
    "df = pd.DataFrame(np.array([0.0001, 0.001, 0.01, 0.1, 1]), columns = ['C'])\n",
    "for i, c in enumerate(df['C']): # proviamo diversi valori dell'iperparametro regolarizzatore C\n",
    "    svc = LinearSVC(dual=False, C=c)\n",
    "    svc.fit(X_train_sep_means, y_train) # addestriamo il modello con il valore di C da valutare\n",
    "    df.loc[i, 'training_accuracy'] = svc.score(X_train_sep_means, y_train)\n",
    "    scores = cross_validate(svc, X_train_sep_means, y_train, scoring='accuracy', cv=splitter) # Cross Validation\n",
    "    df.loc[i, 'val_accuracy'] = scores['test_score'].mean()\n",
    "    df.loc[i, 'val_accuracy_std'] = scores['test_score'].std()\n",
    "df"
   ]
  },
  {
   "attachments": {},
   "cell_type": "markdown",
   "id": "63ac7fee",
   "metadata": {},
   "source": [
    "### Scelta di C nel modello addestrato sulle somme"
   ]
  },
  {
   "cell_type": "code",
   "execution_count": 91,
   "id": "96656b71",
   "metadata": {},
   "outputs": [
    {
     "data": {
      "text/html": [
       "<div>\n",
       "<style scoped>\n",
       "    .dataframe tbody tr th:only-of-type {\n",
       "        vertical-align: middle;\n",
       "    }\n",
       "\n",
       "    .dataframe tbody tr th {\n",
       "        vertical-align: top;\n",
       "    }\n",
       "\n",
       "    .dataframe thead th {\n",
       "        text-align: right;\n",
       "    }\n",
       "</style>\n",
       "<table border=\"1\" class=\"dataframe\">\n",
       "  <thead>\n",
       "    <tr style=\"text-align: right;\">\n",
       "      <th></th>\n",
       "      <th>C</th>\n",
       "      <th>training_accuracy</th>\n",
       "      <th>val_accuracy</th>\n",
       "      <th>val_accuracy_std</th>\n",
       "    </tr>\n",
       "  </thead>\n",
       "  <tbody>\n",
       "    <tr>\n",
       "      <th>0</th>\n",
       "      <td>0.0001</td>\n",
       "      <td>0.567667</td>\n",
       "      <td>0.558333</td>\n",
       "      <td>0.009006</td>\n",
       "    </tr>\n",
       "    <tr>\n",
       "      <th>1</th>\n",
       "      <td>0.0010</td>\n",
       "      <td>0.650333</td>\n",
       "      <td>0.642000</td>\n",
       "      <td>0.011025</td>\n",
       "    </tr>\n",
       "    <tr>\n",
       "      <th>2</th>\n",
       "      <td>0.0100</td>\n",
       "      <td>0.726333</td>\n",
       "      <td>0.713333</td>\n",
       "      <td>0.013081</td>\n",
       "    </tr>\n",
       "    <tr>\n",
       "      <th>3</th>\n",
       "      <td>0.1000</td>\n",
       "      <td>0.786333</td>\n",
       "      <td>0.768667</td>\n",
       "      <td>0.016580</td>\n",
       "    </tr>\n",
       "    <tr>\n",
       "      <th>4</th>\n",
       "      <td>1.0000</td>\n",
       "      <td>0.798333</td>\n",
       "      <td>0.774333</td>\n",
       "      <td>0.017689</td>\n",
       "    </tr>\n",
       "  </tbody>\n",
       "</table>\n",
       "</div>"
      ],
      "text/plain": [
       "        C  training_accuracy  val_accuracy  val_accuracy_std\n",
       "0  0.0001           0.567667      0.558333          0.009006\n",
       "1  0.0010           0.650333      0.642000          0.011025\n",
       "2  0.0100           0.726333      0.713333          0.013081\n",
       "3  0.1000           0.786333      0.768667          0.016580\n",
       "4  1.0000           0.798333      0.774333          0.017689"
      ]
     },
     "execution_count": 91,
     "metadata": {},
     "output_type": "execute_result"
    }
   ],
   "source": [
    "df = pd.DataFrame(np.array([0.0001, 0.001, 0.01, 0.1, 1]), columns = ['C'])\n",
    "for i, c in enumerate(df['C']): # proviamo diversi valori dell'iperparametro regolarizzatore C\n",
    "    svc = LinearSVC(dual=False, C=c)\n",
    "    svc.fit(X_train_sums, y_train) # addestriamo il modello con il valore di C da valutare\n",
    "    df.loc[i, 'training_accuracy'] = svc.score(X_train_sums, y_train)\n",
    "    scores = cross_validate(svc, X_train_sums, y_train, scoring='accuracy', cv=splitter) # Cross Validation\n",
    "    df.loc[i, 'val_accuracy'] = scores['test_score'].mean()\n",
    "    df.loc[i, 'val_accuracy_std'] = scores['test_score'].std()\n",
    "df"
   ]
  },
  {
   "attachments": {},
   "cell_type": "markdown",
   "id": "b5c4df20",
   "metadata": {},
   "source": [
    "### Scelta di C nel modello addestrato sulla concatenazione di somme"
   ]
  },
  {
   "cell_type": "code",
   "execution_count": 92,
   "id": "4b1308a6",
   "metadata": {},
   "outputs": [
    {
     "data": {
      "text/html": [
       "<div>\n",
       "<style scoped>\n",
       "    .dataframe tbody tr th:only-of-type {\n",
       "        vertical-align: middle;\n",
       "    }\n",
       "\n",
       "    .dataframe tbody tr th {\n",
       "        vertical-align: top;\n",
       "    }\n",
       "\n",
       "    .dataframe thead th {\n",
       "        text-align: right;\n",
       "    }\n",
       "</style>\n",
       "<table border=\"1\" class=\"dataframe\">\n",
       "  <thead>\n",
       "    <tr style=\"text-align: right;\">\n",
       "      <th></th>\n",
       "      <th>C</th>\n",
       "      <th>training_accuracy</th>\n",
       "      <th>val_accuracy</th>\n",
       "      <th>val_accuracy_std</th>\n",
       "    </tr>\n",
       "  </thead>\n",
       "  <tbody>\n",
       "    <tr>\n",
       "      <th>0</th>\n",
       "      <td>0.0001</td>\n",
       "      <td>0.590667</td>\n",
       "      <td>0.579333</td>\n",
       "      <td>0.008340</td>\n",
       "    </tr>\n",
       "    <tr>\n",
       "      <th>1</th>\n",
       "      <td>0.0010</td>\n",
       "      <td>0.678000</td>\n",
       "      <td>0.663667</td>\n",
       "      <td>0.008524</td>\n",
       "    </tr>\n",
       "    <tr>\n",
       "      <th>2</th>\n",
       "      <td>0.0100</td>\n",
       "      <td>0.763333</td>\n",
       "      <td>0.739333</td>\n",
       "      <td>0.012229</td>\n",
       "    </tr>\n",
       "    <tr>\n",
       "      <th>3</th>\n",
       "      <td>0.1000</td>\n",
       "      <td>0.821667</td>\n",
       "      <td>0.776000</td>\n",
       "      <td>0.014553</td>\n",
       "    </tr>\n",
       "    <tr>\n",
       "      <th>4</th>\n",
       "      <td>1.0000</td>\n",
       "      <td>0.850000</td>\n",
       "      <td>0.771667</td>\n",
       "      <td>0.016228</td>\n",
       "    </tr>\n",
       "  </tbody>\n",
       "</table>\n",
       "</div>"
      ],
      "text/plain": [
       "        C  training_accuracy  val_accuracy  val_accuracy_std\n",
       "0  0.0001           0.590667      0.579333          0.008340\n",
       "1  0.0010           0.678000      0.663667          0.008524\n",
       "2  0.0100           0.763333      0.739333          0.012229\n",
       "3  0.1000           0.821667      0.776000          0.014553\n",
       "4  1.0000           0.850000      0.771667          0.016228"
      ]
     },
     "execution_count": 92,
     "metadata": {},
     "output_type": "execute_result"
    }
   ],
   "source": [
    "df = pd.DataFrame(np.array([0.0001, 0.001, 0.01, 0.1, 1]), columns = ['C'])\n",
    "for i, c in enumerate(df['C']): # proviamo diversi valori dell'iperparametro regolarizzatore C\n",
    "    svc = LinearSVC(dual=False, C=c)\n",
    "    svc.fit(X_train_sep_sums, y_train) # addestriamo il modello con il valore di C da valutare\n",
    "    df.loc[i, 'training_accuracy'] = svc.score(X_train_sep_sums, y_train)\n",
    "    scores = cross_validate(svc, X_train_sep_sums, y_train, scoring='accuracy', cv=splitter) # Cross Validation\n",
    "    df.loc[i, 'val_accuracy'] = scores['test_score'].mean()\n",
    "    df.loc[i, 'val_accuracy_std'] = scores['test_score'].std()\n",
    "df"
   ]
  },
  {
   "attachments": {},
   "cell_type": "markdown",
   "id": "77c68fa0",
   "metadata": {},
   "source": [
    "### Scelta di C nel modello addestrato sui prodotti"
   ]
  },
  {
   "cell_type": "code",
   "execution_count": 93,
   "id": "ff6c1e80",
   "metadata": {},
   "outputs": [
    {
     "data": {
      "text/html": [
       "<div>\n",
       "<style scoped>\n",
       "    .dataframe tbody tr th:only-of-type {\n",
       "        vertical-align: middle;\n",
       "    }\n",
       "\n",
       "    .dataframe tbody tr th {\n",
       "        vertical-align: top;\n",
       "    }\n",
       "\n",
       "    .dataframe thead th {\n",
       "        text-align: right;\n",
       "    }\n",
       "</style>\n",
       "<table border=\"1\" class=\"dataframe\">\n",
       "  <thead>\n",
       "    <tr style=\"text-align: right;\">\n",
       "      <th></th>\n",
       "      <th>C</th>\n",
       "      <th>training_accuracy</th>\n",
       "      <th>val_accuracy</th>\n",
       "      <th>val_accuracy_std</th>\n",
       "    </tr>\n",
       "  </thead>\n",
       "  <tbody>\n",
       "    <tr>\n",
       "      <th>0</th>\n",
       "      <td>0.0001</td>\n",
       "      <td>0.539333</td>\n",
       "      <td>0.539333</td>\n",
       "      <td>0.008273</td>\n",
       "    </tr>\n",
       "    <tr>\n",
       "      <th>1</th>\n",
       "      <td>0.0010</td>\n",
       "      <td>0.561667</td>\n",
       "      <td>0.557333</td>\n",
       "      <td>0.008069</td>\n",
       "    </tr>\n",
       "    <tr>\n",
       "      <th>2</th>\n",
       "      <td>0.0100</td>\n",
       "      <td>0.567333</td>\n",
       "      <td>0.562333</td>\n",
       "      <td>0.008273</td>\n",
       "    </tr>\n",
       "    <tr>\n",
       "      <th>3</th>\n",
       "      <td>0.1000</td>\n",
       "      <td>0.578000</td>\n",
       "      <td>0.566000</td>\n",
       "      <td>0.012320</td>\n",
       "    </tr>\n",
       "    <tr>\n",
       "      <th>4</th>\n",
       "      <td>1.0000</td>\n",
       "      <td>0.584000</td>\n",
       "      <td>0.559333</td>\n",
       "      <td>0.013848</td>\n",
       "    </tr>\n",
       "  </tbody>\n",
       "</table>\n",
       "</div>"
      ],
      "text/plain": [
       "        C  training_accuracy  val_accuracy  val_accuracy_std\n",
       "0  0.0001           0.539333      0.539333          0.008273\n",
       "1  0.0010           0.561667      0.557333          0.008069\n",
       "2  0.0100           0.567333      0.562333          0.008273\n",
       "3  0.1000           0.578000      0.566000          0.012320\n",
       "4  1.0000           0.584000      0.559333          0.013848"
      ]
     },
     "execution_count": 93,
     "metadata": {},
     "output_type": "execute_result"
    }
   ],
   "source": [
    "df = pd.DataFrame(np.array([0.0001, 0.001, 0.01, 0.1, 1]), columns = ['C'])\n",
    "for i, c in enumerate(df['C']): # proviamo diversi valori dell'iperparametro regolarizzatore C\n",
    "    svc = LinearSVC(dual=False, C=c)\n",
    "    svc.fit(X_train_products, y_train) # addestriamo il modello con il valore di C da valutare\n",
    "    df.loc[i, 'training_accuracy'] = svc.score(X_train_products, y_train)\n",
    "    scores = cross_validate(svc, X_train_products, y_train, scoring='accuracy', cv=splitter) # Cross Validation\n",
    "    df.loc[i, 'val_accuracy'] = scores['test_score'].mean()\n",
    "    df.loc[i, 'val_accuracy_std'] = scores['test_score'].std()\n",
    "df"
   ]
  },
  {
   "attachments": {},
   "cell_type": "markdown",
   "id": "bc7c84c5",
   "metadata": {},
   "source": [
    "### Scelta di C nel modello addestrato sulla concatenazione di prodotti"
   ]
  },
  {
   "cell_type": "code",
   "execution_count": 94,
   "id": "2cc84696",
   "metadata": {},
   "outputs": [
    {
     "data": {
      "text/html": [
       "<div>\n",
       "<style scoped>\n",
       "    .dataframe tbody tr th:only-of-type {\n",
       "        vertical-align: middle;\n",
       "    }\n",
       "\n",
       "    .dataframe tbody tr th {\n",
       "        vertical-align: top;\n",
       "    }\n",
       "\n",
       "    .dataframe thead th {\n",
       "        text-align: right;\n",
       "    }\n",
       "</style>\n",
       "<table border=\"1\" class=\"dataframe\">\n",
       "  <thead>\n",
       "    <tr style=\"text-align: right;\">\n",
       "      <th></th>\n",
       "      <th>C</th>\n",
       "      <th>training_accuracy</th>\n",
       "      <th>val_accuracy</th>\n",
       "      <th>val_accuracy_std</th>\n",
       "    </tr>\n",
       "  </thead>\n",
       "  <tbody>\n",
       "    <tr>\n",
       "      <th>0</th>\n",
       "      <td>0.0001</td>\n",
       "      <td>0.541000</td>\n",
       "      <td>0.540000</td>\n",
       "      <td>0.008433</td>\n",
       "    </tr>\n",
       "    <tr>\n",
       "      <th>1</th>\n",
       "      <td>0.0010</td>\n",
       "      <td>0.639333</td>\n",
       "      <td>0.610333</td>\n",
       "      <td>0.015398</td>\n",
       "    </tr>\n",
       "    <tr>\n",
       "      <th>2</th>\n",
       "      <td>0.0100</td>\n",
       "      <td>0.685667</td>\n",
       "      <td>0.643000</td>\n",
       "      <td>0.018661</td>\n",
       "    </tr>\n",
       "    <tr>\n",
       "      <th>3</th>\n",
       "      <td>0.1000</td>\n",
       "      <td>0.720000</td>\n",
       "      <td>0.640667</td>\n",
       "      <td>0.007272</td>\n",
       "    </tr>\n",
       "    <tr>\n",
       "      <th>4</th>\n",
       "      <td>1.0000</td>\n",
       "      <td>0.745667</td>\n",
       "      <td>0.641333</td>\n",
       "      <td>0.005715</td>\n",
       "    </tr>\n",
       "  </tbody>\n",
       "</table>\n",
       "</div>"
      ],
      "text/plain": [
       "        C  training_accuracy  val_accuracy  val_accuracy_std\n",
       "0  0.0001           0.541000      0.540000          0.008433\n",
       "1  0.0010           0.639333      0.610333          0.015398\n",
       "2  0.0100           0.685667      0.643000          0.018661\n",
       "3  0.1000           0.720000      0.640667          0.007272\n",
       "4  1.0000           0.745667      0.641333          0.005715"
      ]
     },
     "execution_count": 94,
     "metadata": {},
     "output_type": "execute_result"
    }
   ],
   "source": [
    "df = pd.DataFrame(np.array([0.0001, 0.001, 0.01, 0.1, 1]), columns = ['C'])\n",
    "for i, c in enumerate(df['C']): # proviamo diversi valori dell'iperparametro regolarizzatore C\n",
    "    svc = LinearSVC(dual=False, C=c)\n",
    "    svc.fit(X_train_sep_products, y_train) # addestriamo il modello con il valore di C da valutare\n",
    "    df.loc[i, 'training_accuracy'] = svc.score(X_train_sep_products, y_train)\n",
    "    scores = cross_validate(svc, X_train_sep_products, y_train, scoring='accuracy', cv=splitter) # Cross Validation\n",
    "    df.loc[i, 'val_accuracy'] = scores['test_score'].mean()\n",
    "    df.loc[i, 'val_accuracy_std'] = scores['test_score'].std()\n",
    "df"
   ]
  },
  {
   "attachments": {},
   "cell_type": "markdown",
   "id": "9c871e32",
   "metadata": {},
   "source": [
    "L'accuracy in validation migliore viene ottenuta dal SVC addestrato sulla concatenazione delle somme degli embeddings delle parole piene. Testiamo dunque questo modello anche sul test set."
   ]
  },
  {
   "attachments": {},
   "cell_type": "markdown",
   "id": "b7a8180b",
   "metadata": {},
   "source": [
    "## Valutazione sul test set"
   ]
  },
  {
   "attachments": {},
   "cell_type": "markdown",
   "id": "615aa21d",
   "metadata": {},
   "source": [
    "### Preparazione del test set"
   ]
  },
  {
   "cell_type": "code",
   "execution_count": 95,
   "id": "5419bb77-5045-4f9c-8d7b-9dde55d5c770",
   "metadata": {
    "tags": []
   },
   "outputs": [],
   "source": [
    "test_dataset = []\n",
    "y_test = []\n",
    "for file_path in test_files:\n",
    "    doc_sentences = get_tokens_from_file(file_path)\n",
    "    test_dataset.append(doc_sentences)\n",
    "    y_test.append(int(file_path.split('-')[2]))\n",
    "\n",
    "test_features = extract_sep_sums(test_dataset)"
   ]
  },
  {
   "cell_type": "code",
   "execution_count": 96,
   "id": "438d1a4a",
   "metadata": {},
   "outputs": [],
   "source": [
    "X_test = sep_sums_scaler.transform(test_features)"
   ]
  },
  {
   "cell_type": "code",
   "execution_count": 97,
   "id": "b40be141",
   "metadata": {},
   "outputs": [
    {
     "data": {
      "text/plain": [
       "1000"
      ]
     },
     "execution_count": 97,
     "metadata": {},
     "output_type": "execute_result"
    }
   ],
   "source": [
    "len(y_test)"
   ]
  },
  {
   "cell_type": "code",
   "execution_count": 98,
   "id": "708653da",
   "metadata": {},
   "outputs": [
    {
     "data": {
      "text/plain": [
       "LinearSVC(C=0.1, dual=False)"
      ]
     },
     "execution_count": 98,
     "metadata": {},
     "output_type": "execute_result"
    }
   ],
   "source": [
    "best_svc_sep_sums = LinearSVC(dual=False, C=0.1)\n",
    "# creiamo il modello con il valore di C migliore per la concatenazione di medie\n",
    "best_svc_sep_sums.fit(X_train_sep_sums, y_train)"
   ]
  },
  {
   "cell_type": "code",
   "execution_count": 99,
   "id": "3abaa3bb-2ad4-4240-8754-f6d214bf5563",
   "metadata": {
    "tags": []
   },
   "outputs": [
    {
     "name": "stdout",
     "output_type": "stream",
     "text": [
      "              precision    recall  f1-score   support\n",
      "\n",
      "           0       0.56      0.74      0.64       323\n",
      "           1       0.85      0.72      0.78       677\n",
      "\n",
      "    accuracy                           0.73      1000\n",
      "   macro avg       0.70      0.73      0.71      1000\n",
      "weighted avg       0.76      0.73      0.73      1000\n",
      "\n"
     ]
    }
   ],
   "source": [
    "y_pred = best_svc_sep_sums.predict(X_test)\n",
    "print(classification_report(y_test, y_pred,  zero_division=0))"
   ]
  },
  {
   "cell_type": "code",
   "execution_count": 100,
   "id": "015b12de",
   "metadata": {},
   "outputs": [
    {
     "data": {
      "text/plain": [
       "0.726"
      ]
     },
     "execution_count": 100,
     "metadata": {},
     "output_type": "execute_result"
    }
   ],
   "source": [
    "accuracy_score(y_pred=y_pred, y_true=y_test)"
   ]
  },
  {
   "cell_type": "code",
   "execution_count": 102,
   "id": "5a91c2e5-9cc5-4a72-aee7-eb92f553ef5a",
   "metadata": {
    "tags": []
   },
   "outputs": [
    {
     "data": {
      "image/png": "[encoded data removed]",
      "text/plain": [
       "<Figure size 640x480 with 2 Axes>"
      ]
     },
     "metadata": {},
     "output_type": "display_data"
    }
   ],
   "source": [
    "import matplotlib.pyplot as plt\n",
    "plt.rcParams.update({'font.size': 18})\n",
    "ConfusionMatrixDisplay.from_predictions(y_test, y_pred, xticks_rotation='vertical', cmap='Blues', normalize='true')\n",
    "plt.xticks(fontsize=16)\n",
    "plt.yticks(fontsize=16)\n",
    "plt.xlabel('Etichetta predetta', fontsize=16)\n",
    "plt.ylabel('Etichetta reale', fontsize=16)\n",
    "plt.savefig('conf_matrix_SVC_embeddings.pdf', dpi=300, bbox_inches='tight')\n",
    "plt.show()"
   ]
  }
 ],
 "metadata": {
  "kernelspec": {
   "display_name": "Python 3 (ipykernel)",
   "language": "python",
   "name": "python3"
  },
  "language_info": {
   "codemirror_mode": {
    "name": "ipython",
    "version": 3
   },
   "file_extension": ".py",
   "mimetype": "text/x-python",
   "name": "python",
   "nbconvert_exporter": "python",
   "pygments_lexer": "ipython3",
   "version": "3.9.7"
  }
 },
 "nbformat": 4,
 "nbformat_minor": 5
}
